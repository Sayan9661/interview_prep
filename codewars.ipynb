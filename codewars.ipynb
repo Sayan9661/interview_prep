{
 "cells": [
  {
   "cell_type": "code",
   "execution_count": 7,
   "metadata": {},
   "outputs": [
    {
     "name": "stdout",
     "output_type": "stream",
     "text": [
      "[8]\n"
     ]
    }
   ],
   "source": [
    "class Befunge:\n",
    "    \n",
    "    def __init__(self):\n",
    "        self.stack=[]\n",
    "\n",
    "    def add(self):\n",
    "        self.stack.append(self.stack.pop()+self.stack.pop())\n",
    "    \n",
    "\n",
    "\n",
    "    def interpret(self):\n",
    "        self.stack.append(3)\n",
    "        self.stack.append(5)\n",
    "        self.add()\n",
    "        \n",
    "        print(self.stack)\n",
    "        \n",
    "obj=Befunge()\n",
    "obj.interpret()"
   ]
  }
 ],
 "metadata": {
  "kernelspec": {
   "display_name": "base",
   "language": "python",
   "name": "python3"
  },
  "language_info": {
   "codemirror_mode": {
    "name": "ipython",
    "version": 3
   },
   "file_extension": ".py",
   "mimetype": "text/x-python",
   "name": "python",
   "nbconvert_exporter": "python",
   "pygments_lexer": "ipython3",
   "version": "3.8.16"
  },
  "orig_nbformat": 4,
  "vscode": {
   "interpreter": {
    "hash": "ad2bdc8ecc057115af97d19610ffacc2b4e99fae6737bb82f5d7fb13d2f2c186"
   }
  }
 },
 "nbformat": 4,
 "nbformat_minor": 2
}
