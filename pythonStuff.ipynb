{
 "cells": [
  {
   "cell_type": "code",
   "execution_count": null,
   "metadata": {},
   "outputs": [],
   "source": []
  },
  {
   "attachments": {},
   "cell_type": "markdown",
   "metadata": {},
   "source": [
    "so in python you can't change variable in nested functions but lists you can"
   ]
  },
  {
   "cell_type": "code",
   "execution_count": 2,
   "metadata": {},
   "outputs": [
    {
     "ename": "UnboundLocalError",
     "evalue": "local variable 'k' referenced before assignment",
     "output_type": "error",
     "traceback": [
      "\u001b[1;31m---------------------------------------------------------------------------\u001b[0m",
      "\u001b[1;31mUnboundLocalError\u001b[0m                         Traceback (most recent call last)",
      "\u001b[1;32m<ipython-input-2-99e3c43bf151>\u001b[0m in \u001b[0;36m<module>\u001b[1;34m\u001b[0m\n\u001b[0;32m     10\u001b[0m \u001b[1;33m\u001b[0m\u001b[0m\n\u001b[0;32m     11\u001b[0m \u001b[1;33m\u001b[0m\u001b[0m\n\u001b[1;32m---> 12\u001b[1;33m \u001b[0mouter\u001b[0m\u001b[1;33m(\u001b[0m\u001b[1;36m1\u001b[0m\u001b[1;33m)\u001b[0m\u001b[1;33m\u001b[0m\u001b[1;33m\u001b[0m\u001b[0m\n\u001b[0m",
      "\u001b[1;32m<ipython-input-2-99e3c43bf151>\u001b[0m in \u001b[0;36mouter\u001b[1;34m(k)\u001b[0m\n\u001b[0;32m      6\u001b[0m         \u001b[0mprint\u001b[0m\u001b[1;33m(\u001b[0m\u001b[0mk\u001b[0m\u001b[1;33m)\u001b[0m\u001b[1;33m\u001b[0m\u001b[1;33m\u001b[0m\u001b[0m\n\u001b[0;32m      7\u001b[0m \u001b[1;33m\u001b[0m\u001b[0m\n\u001b[1;32m----> 8\u001b[1;33m     \u001b[0minner\u001b[0m\u001b[1;33m(\u001b[0m\u001b[1;33m)\u001b[0m\u001b[1;33m\u001b[0m\u001b[1;33m\u001b[0m\u001b[0m\n\u001b[0m\u001b[0;32m      9\u001b[0m     \u001b[0mprint\u001b[0m\u001b[1;33m(\u001b[0m\u001b[0mk\u001b[0m\u001b[1;33m)\u001b[0m\u001b[1;33m\u001b[0m\u001b[1;33m\u001b[0m\u001b[0m\n\u001b[0;32m     10\u001b[0m \u001b[1;33m\u001b[0m\u001b[0m\n",
      "\u001b[1;32m<ipython-input-2-99e3c43bf151>\u001b[0m in \u001b[0;36minner\u001b[1;34m()\u001b[0m\n\u001b[0;32m      3\u001b[0m         \u001b[1;31m#if you put nonlocal then it binds to the most closest outer level scope\u001b[0m\u001b[1;33m\u001b[0m\u001b[1;33m\u001b[0m\u001b[1;33m\u001b[0m\u001b[0m\n\u001b[0;32m      4\u001b[0m         \u001b[1;31m# nonlocal k\u001b[0m\u001b[1;33m\u001b[0m\u001b[1;33m\u001b[0m\u001b[1;33m\u001b[0m\u001b[0m\n\u001b[1;32m----> 5\u001b[1;33m         \u001b[0mk\u001b[0m\u001b[1;33m+=\u001b[0m\u001b[1;36m1\u001b[0m\u001b[1;33m\u001b[0m\u001b[1;33m\u001b[0m\u001b[0m\n\u001b[0m\u001b[0;32m      6\u001b[0m         \u001b[0mprint\u001b[0m\u001b[1;33m(\u001b[0m\u001b[0mk\u001b[0m\u001b[1;33m)\u001b[0m\u001b[1;33m\u001b[0m\u001b[1;33m\u001b[0m\u001b[0m\n\u001b[0;32m      7\u001b[0m \u001b[1;33m\u001b[0m\u001b[0m\n",
      "\u001b[1;31mUnboundLocalError\u001b[0m: local variable 'k' referenced before assignment"
     ]
    }
   ],
   "source": [
    "def outer(k):\n",
    "    def inner():\n",
    "        #if you put nonlocal then it binds to the most closest outer level scope\n",
    "        # nonlocal k\n",
    "        k+=1\n",
    "        print(k)\n",
    "\n",
    "    inner()\n",
    "    print(k)\n",
    "\n",
    "\n",
    "outer(1)\n"
   ]
  },
  {
   "cell_type": "code",
   "execution_count": 18,
   "metadata": {},
   "outputs": [
    {
     "name": "stdout",
     "output_type": "stream",
     "text": [
      "2\n",
      "1\n"
     ]
    }
   ],
   "source": [
    "class Sol:\n",
    "    def outer(self,k):\n",
    "        \n",
    "        self.k=k\n",
    "        self.inner()\n",
    "        print(k)\n",
    "\n",
    "\n",
    "    def inner(self):\n",
    "        #if you put nonlocal then it binds to the most closest outer level scope\n",
    "        # nonlocal k\n",
    "        self.k += 1\n",
    "        print(self.k)\n",
    "\n",
    "    # def __init__(self,k):\n",
    "    #     self.k = k\n",
    "Sol().outer(1)\n",
    "    \n"
   ]
  },
  {
   "cell_type": "code",
   "execution_count": null,
   "metadata": {},
   "outputs": [
    {
     "name": "stdout",
     "output_type": "stream",
     "text": [
      "[1, 2, 10]\n",
      "[1, 2, 10]\n"
     ]
    }
   ],
   "source": [
    "def outer(k):\n",
    "    def inner():\n",
    "        \n",
    "            \n",
    "            k.append(10)\n",
    "            print(k)\n",
    "        \n",
    "    inner()\n",
    "    print(k)\n",
    "        \n",
    "        \n",
    "outer([1,2])\n"
   ]
  },
  {
   "cell_type": "code",
   "execution_count": 6,
   "metadata": {},
   "outputs": [
    {
     "data": {
      "text/plain": [
       "'nayaS'"
      ]
     },
     "execution_count": 6,
     "metadata": {},
     "output_type": "execute_result"
    }
   ],
   "source": [
    "str=\"Sayan\"\n",
    "res=[]\n",
    "for i in range(1,len(str)+1):\n",
    "    res.append(str[-i])\n",
    "output = \"\".join(res)\n",
    "output"
   ]
  },
  {
   "cell_type": "code",
   "execution_count": 2,
   "metadata": {},
   "outputs": [
    {
     "data": {
      "text/plain": [
       "'nayaS'"
      ]
     },
     "execution_count": 2,
     "metadata": {},
     "output_type": "execute_result"
    }
   ],
   "source": [
    "str=\"Sayan\"\n",
    "res=str[::-1]\n",
    "res"
   ]
  },
  {
   "cell_type": "code",
   "execution_count": 14,
   "metadata": {},
   "outputs": [
    {
     "name": "stdout",
     "output_type": "stream",
     "text": [
      "Counter({'s': 3, 'n': 3})\n",
      "0\n"
     ]
    },
    {
     "data": {
      "text/plain": [
       "True"
      ]
     },
     "execution_count": 14,
     "metadata": {},
     "output_type": "execute_result"
    }
   ],
   "source": [
    "import collections\n",
    "walk = ['s', 'n', 's', 'n', 's', 'n']\n",
    "map=collections.Counter(walk)\n",
    "# map = {}\n",
    "# for c in walk:\n",
    "#     map[c] = 1+map.get(c, 0)\n",
    "\n",
    "print(map)\n",
    "sum(map.values())\n",
    "print(map['w'])\n",
    "map.get('n', 0) == map.get('s', 0) and map.get(\n",
    "    'e', 0) == map.get('w', 0) and sum(map.values()) < 11\n"
   ]
  },
  {
   "cell_type": "code",
   "execution_count": 20,
   "metadata": {},
   "outputs": [
    {
     "data": {
      "text/plain": [
       "'FF0200'"
      ]
     },
     "execution_count": 20,
     "metadata": {},
     "output_type": "execute_result"
    }
   ],
   "source": [
    "res=(255,0,255)\n",
    "def rgb(r, g, b):\n",
    "    # def round(a):\n",
    "    #     a=max(0,min(255,a))\n",
    "    #     return a\n",
    "\n",
    "    def round(a): return max(0, min(255, a))\n",
    "  \n",
    "\n",
    "    return '{:02X}{:02X}{:02X}'.format(round(r),round(g),round(b))\n",
    "\n",
    "rgb(257,2,-26)\n"
   ]
  },
  {
   "cell_type": "code",
   "execution_count": 26,
   "metadata": {},
   "outputs": [],
   "source": [
    "def pig_it(text):\n",
    "#In this the expression has conditions : this is not a filter in list comprehension\n",
    "    return ' '.join([(x[1:]+x[0]+'ay' if x.isalpha() else x)  for x in text.split()])\n",
    "#this is a filter for list comprehension\n",
    "    return ' '.join([(x[1:]+x[0]+'ay') for x in text.split() if x.isalpha()])\n",
    "\n",
    "\n"
   ]
  },
  {
   "cell_type": "code",
   "execution_count": 29,
   "metadata": {},
   "outputs": [
    {
     "data": {
      "text/plain": [
       "1071226"
      ]
     },
     "execution_count": 29,
     "metadata": {},
     "output_type": "execute_result"
    }
   ],
   "source": [
    "n=45\n",
    "res=1\n",
    "while n>0:\n",
    "    res=res+ n**3\n",
    "    n-=1\n",
    "res\n",
    "    \n",
    "    "
   ]
  },
  {
   "cell_type": "code",
   "execution_count": 37,
   "metadata": {},
   "outputs": [
    {
     "name": "stdout",
     "output_type": "stream",
     "text": [
      "45\n"
     ]
    }
   ],
   "source": [
    "m = 1071226\n",
    "from math import floor,sqrt\n",
    "n_c=int(floor(sqrt(2*sqrt(m))))\n",
    "print(n_c)"
   ]
  },
  {
   "cell_type": "code",
   "execution_count": 40,
   "metadata": {},
   "outputs": [
    {
     "name": "stdout",
     "output_type": "stream",
     "text": [
      "9\n",
      "81\n",
      "729\n",
      "2916\n",
      "5832\n",
      "5832\n"
     ]
    }
   ],
   "source": [
    "n=39\n",
    "res=1\n",
    "while n>0:\n",
    "    res=res*(n%10)\n",
    "    n=n//2\n",
    "    print(res)"
   ]
  },
  {
   "cell_type": "code",
   "execution_count": 44,
   "metadata": {},
   "outputs": [
    {
     "name": "stdout",
     "output_type": "stream",
     "text": [
      "15\n"
     ]
    }
   ],
   "source": [
    "import functools,operator\n",
    "\n",
    "x=[1,2,3,4,5]\n",
    "\n",
    "res=functools.reduce(operator.add,x)\n",
    "print(res)"
   ]
  },
  {
   "cell_type": "code",
   "execution_count": 2,
   "metadata": {},
   "outputs": [
    {
     "name": "stdout",
     "output_type": "stream",
     "text": [
      "{1: 0, 0: 1}\n"
     ]
    }
   ],
   "source": [
    "prerequisites = [[1, 0], [0, 1]]\n",
    "map = {a: b for [a, b] in prerequisites}\n",
    "print(map)\n"
   ]
  },
  {
   "cell_type": "code",
   "execution_count": 12,
   "metadata": {},
   "outputs": [
    {
     "name": "stdout",
     "output_type": "stream",
     "text": [
      "['1d', '2f', '3e', '4a']\n"
     ]
    },
    {
     "data": {
      "text/plain": [
       "'1d 2f 3e 4a'"
      ]
     },
     "execution_count": 12,
     "metadata": {},
     "output_type": "execute_result"
    }
   ],
   "source": [
    "# words=\"is2 Thi1s T4est 3a\"\n",
    "words='1d 2f 3e 4a'\n",
    "def order(words):\n",
    "    res = words.split()\n",
    "    print(res)\n",
    "    return ' '.join(sorted(res), key=lambda w: sorted(w))\n",
    "order(words)\n"
   ]
  },
  {
   "cell_type": "code",
   "execution_count": 16,
   "metadata": {},
   "outputs": [
    {
     "data": {
      "text/plain": [
       "[0, 10, 20, 30, 40, 50, 60, 70, 80, 90, 100]"
      ]
     },
     "execution_count": 16,
     "metadata": {},
     "output_type": "execute_result"
    }
   ],
   "source": [
    "res=[i*10 for i in range(len(words))]\n",
    "res"
   ]
  },
  {
   "cell_type": "code",
   "execution_count": 21,
   "metadata": {},
   "outputs": [
    {
     "data": {
      "text/plain": [
       "{0: [], 1: [], 2: [], 3: [], 4: [], 5: [], 6: [], 7: [], 8: [], 9: []}"
      ]
     },
     "execution_count": 21,
     "metadata": {},
     "output_type": "execute_result"
    }
   ],
   "source": [
    "numcourses=10\n",
    "adj_list = {i: [] for i in range(numcourses)}\n",
    "adj_list\n"
   ]
  },
  {
   "cell_type": "code",
   "execution_count": 7,
   "metadata": {},
   "outputs": [],
   "source": [
    "import numpy as np\n",
    "def snail(arr):\n",
    "    res=[]\n",
    "    arr=np.array(arr)\n",
    "    while(len(arr)>0):\n",
    "        res+=arr[0].tolist()\n",
    "        print(arr)\n",
    "        print(res)\n",
    "        arr=np.rot90(arr[1:])\n",
    "    \n",
    "        \n",
    "    "
   ]
  },
  {
   "cell_type": "code",
   "execution_count": 8,
   "metadata": {},
   "outputs": [
    {
     "name": "stdout",
     "output_type": "stream",
     "text": [
      "[[1 2 3]\n",
      " [4 5 6]\n",
      " [7 8 9]]\n",
      "[1, 2, 3]\n",
      "[[6 9]\n",
      " [5 8]\n",
      " [4 7]]\n",
      "[1, 2, 3, 6, 9]\n",
      "[[8 7]\n",
      " [5 4]]\n",
      "[1, 2, 3, 6, 9, 8, 7]\n",
      "[[4]\n",
      " [5]]\n",
      "[1, 2, 3, 6, 9, 8, 7, 4]\n",
      "[[5]]\n",
      "[1, 2, 3, 6, 9, 8, 7, 4, 5]\n",
      "[]\n",
      "[1, 2, 3, 6, 9, 8, 7, 4, 5]\n"
     ]
    }
   ],
   "source": [
    "array = [[1, 2, 3],\n",
    "         [4, 5, 6],\n",
    "         [7, 8, 9]]\n",
    "\n",
    "snail(array)"
   ]
  },
  {
   "cell_type": "code",
   "execution_count": 10,
   "metadata": {},
   "outputs": [
    {
     "name": "stdout",
     "output_type": "stream",
     "text": [
      "['s', 'a', 'y', 'a', 'n']\n"
     ]
    }
   ],
   "source": [
    "s='sayan'\n",
    "s=list(s)\n",
    "print(s)"
   ]
  },
  {
   "cell_type": "code",
   "execution_count": 14,
   "metadata": {},
   "outputs": [
    {
     "data": {
      "text/plain": [
       "{0: [1, 2], 1: [3], 2: [3], 3: []}"
      ]
     },
     "execution_count": 14,
     "metadata": {},
     "output_type": "execute_result"
    }
   ],
   "source": [
    "prerequisites = [[1, 0], [2, 0], [3, 1], [3, 2]]\n",
    "map = {i: [] for i in range(4)}\n",
    "for course, pre in prerequisites:\n",
    "    map[pre].append(course)\n",
    "    \n",
    "map\n"
   ]
  },
  {
   "cell_type": "code",
   "execution_count": 21,
   "metadata": {},
   "outputs": [
    {
     "ename": "SyntaxError",
     "evalue": "invalid syntax (<ipython-input-21-a474d9c529cc>, line 2)",
     "output_type": "error",
     "traceback": [
      "\u001b[1;36m  File \u001b[1;32m\"<ipython-input-21-a474d9c529cc>\"\u001b[1;36m, line \u001b[1;32m2\u001b[0m\n\u001b[1;33m    map={(i[0]:[],i[1]:[]) for i in edges}\u001b[0m\n\u001b[1;37m              ^\u001b[0m\n\u001b[1;31mSyntaxError\u001b[0m\u001b[1;31m:\u001b[0m invalid syntax\n"
     ]
    }
   ],
   "source": [
    "edges = [[1, 2], [1, 3], [2, 3]]\n",
    "\n",
    "print(map)\n"
   ]
  },
  {
   "cell_type": "code",
   "execution_count": 19,
   "metadata": {},
   "outputs": [
    {
     "ename": "KeyError",
     "evalue": "3",
     "output_type": "error",
     "traceback": [
      "\u001b[1;31m---------------------------------------------------------------------------\u001b[0m",
      "\u001b[1;31mKeyError\u001b[0m                                  Traceback (most recent call last)",
      "\u001b[1;32m<ipython-input-19-148223b829ea>\u001b[0m in \u001b[0;36m<module>\u001b[1;34m\u001b[0m\n\u001b[0;32m      2\u001b[0m \u001b[1;32mfor\u001b[0m \u001b[0mv1\u001b[0m\u001b[1;33m,\u001b[0m \u001b[0mv2\u001b[0m \u001b[1;32min\u001b[0m \u001b[0medges\u001b[0m\u001b[1;33m:\u001b[0m\u001b[1;33m\u001b[0m\u001b[1;33m\u001b[0m\u001b[0m\n\u001b[0;32m      3\u001b[0m     \u001b[0mmap\u001b[0m\u001b[1;33m[\u001b[0m\u001b[0mv1\u001b[0m\u001b[1;33m]\u001b[0m\u001b[1;33m.\u001b[0m\u001b[0mappend\u001b[0m\u001b[1;33m(\u001b[0m\u001b[0mv2\u001b[0m\u001b[1;33m)\u001b[0m\u001b[1;33m\u001b[0m\u001b[1;33m\u001b[0m\u001b[0m\n\u001b[1;32m----> 4\u001b[1;33m     \u001b[0mmap\u001b[0m\u001b[1;33m[\u001b[0m\u001b[0mv2\u001b[0m\u001b[1;33m]\u001b[0m\u001b[1;33m.\u001b[0m\u001b[0mappend\u001b[0m\u001b[1;33m(\u001b[0m\u001b[0mv1\u001b[0m\u001b[1;33m)\u001b[0m\u001b[1;33m\u001b[0m\u001b[1;33m\u001b[0m\u001b[0m\n\u001b[0m",
      "\u001b[1;31mKeyError\u001b[0m: 3"
     ]
    }
   ],
   "source": [
    "map = {i[0]: [] for i in edges}\n",
    "for v1, v2 in edges:\n",
    "    map[v1].append(v2)\n",
    "    map[v2].append(v1)\n"
   ]
  },
  {
   "cell_type": "code",
   "execution_count": 4,
   "metadata": {},
   "outputs": [
    {
     "data": {
      "text/plain": [
       "4"
      ]
     },
     "execution_count": 4,
     "metadata": {},
     "output_type": "execute_result"
    }
   ],
   "source": [
    "class CustomInt(int):\n",
    "    def __call__(self, v):\n",
    "        return CustomInt(self + v)\n",
    "\n",
    "\n",
    "def add(num):\n",
    "    return CustomInt(num)\n",
    "\n",
    "add(2)(2)\n"
   ]
  },
  {
   "cell_type": "code",
   "execution_count": 12,
   "metadata": {},
   "outputs": [],
   "source": [
    "s='17'\n",
    "i=0\n",
    "if i+1 < len(s) and ((s[i] == '1' or s[i] == '2') and s[i+1] < '7'):\n",
    "    print('done')"
   ]
  },
  {
   "cell_type": "code",
   "execution_count": 5,
   "metadata": {},
   "outputs": [
    {
     "data": {
      "text/plain": [
       "[[0, 0, 0, 0, 0], [0, 0, 0, 0, 0], [0, 0, 0, 0, 0]]"
      ]
     },
     "execution_count": 5,
     "metadata": {},
     "output_type": "execute_result"
    }
   ],
   "source": [
    "text1 = \"abcde\"\n",
    "text2 = \"ace\"\n",
    "dp=[[0 for i in range(len(text1))] for j in range(len(text2))]\n",
    "dp"
   ]
  },
  {
   "cell_type": "code",
   "execution_count": 6,
   "metadata": {},
   "outputs": [
    {
     "data": {
      "text/plain": [
       "-214748365"
      ]
     },
     "execution_count": 6,
     "metadata": {},
     "output_type": "execute_result"
    }
   ],
   "source": [
    "-2147483648//10"
   ]
  }
 ],
 "metadata": {
  "kernelspec": {
   "display_name": "base",
   "language": "python",
   "name": "python3"
  },
  "language_info": {
   "codemirror_mode": {
    "name": "ipython",
    "version": 3
   },
   "file_extension": ".py",
   "mimetype": "text/x-python",
   "name": "python",
   "nbconvert_exporter": "python",
   "pygments_lexer": "ipython3",
   "version": "3.8.16"
  },
  "orig_nbformat": 4,
  "vscode": {
   "interpreter": {
    "hash": "ad2bdc8ecc057115af97d19610ffacc2b4e99fae6737bb82f5d7fb13d2f2c186"
   }
  }
 },
 "nbformat": 4,
 "nbformat_minor": 2
}
