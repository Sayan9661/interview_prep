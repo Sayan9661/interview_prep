{
 "cells": [
  {
   "cell_type": "code",
   "execution_count": 3,
   "metadata": {},
   "outputs": [
    {
     "data": {
      "text/plain": [
       "4"
      ]
     },
     "execution_count": 3,
     "metadata": {},
     "output_type": "execute_result"
    }
   ],
   "source": [
    "heights=[0,4,2,1,6,4,8,9]\n",
    "max(heights[:4])"
   ]
  },
  {
   "attachments": {},
   "cell_type": "markdown",
   "metadata": {},
   "source": [
    "![](2022-12-29-01-04-25.png)"
   ]
  },
  {
   "attachments": {},
   "cell_type": "markdown",
   "metadata": {},
   "source": [
    "The idea of the solution is that at every position the max amount of water we can store is determined by the bottleneck of the right and left walls.<br>\n",
    "### <i><b>Here, the bottleneck is that the minimum of the greatest walls on the left and right side is going to be the bottleneck</i></b>"
   ]
  },
  {
   "attachments": {},
   "cell_type": "markdown",
   "metadata": {},
   "source": [
    "so,<br>\n",
    "bottleneck[i]=min(max of left, max of right)<br> \n",
    "the max water at i = bottleneck[i]-height[i]<br>"
   ]
  },
  {
   "attachments": {},
   "cell_type": "markdown",
   "metadata": {},
   "source": [
    "## Sol1: below solution uses extra O(n) memory.\n",
    "fill the maxleft and maxright arrays travelling from left nd right respec."
   ]
  },
  {
   "attachments": {},
   "cell_type": "markdown",
   "metadata": {},
   "source": [
    "![](2022-12-29-01-03-31.png)"
   ]
  },
  {
   "attachments": {},
   "cell_type": "markdown",
   "metadata": {},
   "source": [
    "## Sol2: uses no extra mem only 2 pointers"
   ]
  },
  {
   "attachments": {},
   "cell_type": "markdown",
   "metadata": {},
   "source": [
    "we maintain 2 pointers maxL and maxR , these 2 pointers maintain the max left and right heights till that place respec.<br>\n",
    "then whichever is smaller we calculate the height of water at that position. **Since we are only worried about the bottleneck at each point, that is the min of the max of the left and right so we only are taking the lesser of the 2 pointers which is the min of L/R.**"
   ]
  },
  {
   "attachments": {},
   "cell_type": "markdown",
   "metadata": {},
   "source": [
    "![](2022-12-29-02-06-58.png)"
   ]
  },
  {
   "cell_type": "code",
   "execution_count": 12,
   "metadata": {},
   "outputs": [],
   "source": [
    "def trap(height):\n",
    "    l, r = 0, len(height)-1\n",
    "    max_vol = 0\n",
    "    maxL, maxR = height[l], height[r]\n",
    "    iter_no=0\n",
    "    while(l < r):\n",
    "        print(\"iter:\",iter_no)\n",
    "        iter_no+=1\n",
    "        # since we are only concerned about the *min* bottleneck so update smaller without caring about the other value which could be more\n",
    "        if(maxL < maxR):\n",
    "            l += 1\n",
    "            #since we update the maxl first so we wont get -ve vol only 0 when height at l>maxl\n",
    "            maxL = max(maxL, height[l])\n",
    "            max_vol += maxL-height[l]\n",
    "            print()\n",
    "           \n",
    "\n",
    "        else:\n",
    "            r -= 1\n",
    "            maxR = max(maxR, height[r])\n",
    "            max_vol += maxR-height[r]\n",
    "        \n",
    "        print(\"left\",l, \"max_left\", maxL,\n",
    "                  \"right\", r, \"max_right\", maxR, \"max_vol\", max_vol)\n",
    "        \n",
    "\n",
    "\n",
    "    return max_vol\n"
   ]
  },
  {
   "cell_type": "code",
   "execution_count": 11,
   "metadata": {},
   "outputs": [
    {
     "name": "stdout",
     "output_type": "stream",
     "text": [
      "iter: 0\n",
      "\n",
      "left 1 max_left 1 right 11 max_right 1 max_vol 0\n",
      "iter: 1\n",
      "left 1 max_left 1 right 10 max_right 2 max_vol 0\n",
      "iter: 2\n",
      "\n",
      "left 2 max_left 1 right 10 max_right 2 max_vol 1\n",
      "iter: 3\n",
      "\n",
      "left 3 max_left 2 right 10 max_right 2 max_vol 1\n",
      "iter: 4\n",
      "left 3 max_left 2 right 9 max_right 2 max_vol 2\n",
      "iter: 5\n",
      "left 3 max_left 2 right 8 max_right 2 max_vol 2\n",
      "iter: 6\n",
      "left 3 max_left 2 right 7 max_right 3 max_vol 2\n",
      "iter: 7\n",
      "\n",
      "left 4 max_left 2 right 7 max_right 3 max_vol 3\n",
      "iter: 8\n",
      "\n",
      "left 5 max_left 2 right 7 max_right 3 max_vol 5\n",
      "iter: 9\n",
      "\n",
      "left 6 max_left 2 right 7 max_right 3 max_vol 6\n",
      "iter: 10\n",
      "\n",
      "left 7 max_left 3 right 7 max_right 3 max_vol 6\n"
     ]
    },
    {
     "data": {
      "text/plain": [
       "6"
      ]
     },
     "execution_count": 11,
     "metadata": {},
     "output_type": "execute_result"
    }
   ],
   "source": [
    "height = [0, 1, 0, 2, 1, 0, 1, 3, 2, 1, 2, 1]\n",
    "trap(height)"
   ]
  }
 ],
 "metadata": {
  "kernelspec": {
   "display_name": "base",
   "language": "python",
   "name": "python3"
  },
  "language_info": {
   "codemirror_mode": {
    "name": "ipython",
    "version": 3
   },
   "file_extension": ".py",
   "mimetype": "text/x-python",
   "name": "python",
   "nbconvert_exporter": "python",
   "pygments_lexer": "ipython3",
   "version": "3.8.8"
  },
  "orig_nbformat": 4,
  "vscode": {
   "interpreter": {
    "hash": "ad2bdc8ecc057115af97d19610ffacc2b4e99fae6737bb82f5d7fb13d2f2c186"
   }
  }
 },
 "nbformat": 4,
 "nbformat_minor": 2
}
