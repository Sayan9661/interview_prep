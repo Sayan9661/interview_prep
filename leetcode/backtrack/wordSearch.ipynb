{
 "cells": [
  {
   "attachments": {},
   "cell_type": "markdown",
   "metadata": {},
   "source": [
    "## logic:\n",
    "just go over all the positions in the board and see if that position can be the start of the word<br>\n",
    "if letter matches then try postions in 4 directions u,d,r,l and store the visited cells in another matrix or set.<br>\n",
    "time complexity:<br>\n",
    "O(n* m * 4 ^ len(word)[as we may try in 4 directions with some letters matching])\n"
   ]
  },
  {
   "cell_type": "code",
   "execution_count": null,
   "metadata": {},
   "outputs": [],
   "source": [
    "def exist(self, board, word: str) -> bool:\n",
    "    ROWS, COLS = len(board)-1, len(board[0])-1\n",
    "    visited = set()\n",
    "\n",
    "    def search_dfs(r, c, i):\n",
    "        if i == len(word):\n",
    "            return True\n",
    "\n",
    "        if (r < 0 or c < 0 or r > ROWS or c > COLS or word[i] != board[r][c] or (r, c) in visited):\n",
    "            return False\n",
    "\n",
    "        visited.add((r, c))\n",
    "\n",
    "        if (\n",
    "            search_dfs(r-1, c, i+1)\n",
    "            or search_dfs(r, c-1, i+1)\n",
    "            or search_dfs(r, c+1, i+1)\n",
    "            or search_dfs(r+1, c, i+1)\n",
    "        ):\n",
    "            visited.remove((r, c))\n",
    "            return True\n",
    "\n",
    "        visited.remove((r, c))\n",
    "        return False\n",
    "\n",
    "    for i in range(ROWS+1):\n",
    "        for j in range(COLS+1):\n",
    "            if search_dfs(i, j, 0):\n",
    "                return True\n",
    "\n",
    "    return False\n"
   ]
  }
 ],
 "metadata": {
  "kernelspec": {
   "display_name": "base",
   "language": "python",
   "name": "python3"
  },
  "language_info": {
   "name": "python",
   "version": "3.8.8 (default, Apr 13 2021, 15:08:03) [MSC v.1916 64 bit (AMD64)]"
  },
  "orig_nbformat": 4,
  "vscode": {
   "interpreter": {
    "hash": "ad2bdc8ecc057115af97d19610ffacc2b4e99fae6737bb82f5d7fb13d2f2c186"
   }
  }
 },
 "nbformat": 4,
 "nbformat_minor": 2
}
