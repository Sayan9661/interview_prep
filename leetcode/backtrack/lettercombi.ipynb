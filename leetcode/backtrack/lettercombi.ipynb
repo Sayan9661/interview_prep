{
 "cells": [
  {
   "cell_type": "code",
   "execution_count": 24,
   "metadata": {},
   "outputs": [],
   "source": [
    "from typing import List\n",
    "\n",
    "def letterCombinations( digits: str) -> List[str]:\n",
    "\n",
    "    map_digits = {\n",
    "            '2': \"abc\",\n",
    "            '3': \"def\",\n",
    "            '4': \"ghi\",\n",
    "            '5': \"jkl\",\n",
    "            '6': \"mno\",\n",
    "            '7': \"pqrs\",\n",
    "            '8': \"tuv\",\n",
    "            '9': \"wxyz\"\n",
    "          }\n",
    "\n",
    "    list = []\n",
    "\n",
    "    def backtrack(i, formed_string):\n",
    "        if(len(formed_string) == len(digits)):\n",
    "            list.append(formed_string)\n",
    "            return\n",
    "\n",
    "        for c in map_digits[digits[i]]:\n",
    "            backtrack(i+1, formed_string+c)\n",
    "\n",
    "    if(digits):\n",
    "        backtrack(0, \"\")\n",
    "\n",
    "    return list\n"
   ]
  },
  {
   "cell_type": "code",
   "execution_count": 26,
   "metadata": {},
   "outputs": [
    {
     "name": "stdout",
     "output_type": "stream",
     "text": [
      "['ad', 'ae', 'af', 'bd', 'be', 'bf', 'cd', 'ce', 'cf']\n"
     ]
    }
   ],
   "source": [
    "ls=letterCombinations(\"23\")\n",
    "print(ls)"
   ]
  }
 ],
 "metadata": {
  "kernelspec": {
   "display_name": "base",
   "language": "python",
   "name": "python3"
  },
  "language_info": {
   "codemirror_mode": {
    "name": "ipython",
    "version": 3
   },
   "file_extension": ".py",
   "mimetype": "text/x-python",
   "name": "python",
   "nbconvert_exporter": "python",
   "pygments_lexer": "ipython3",
   "version": "3.8.8 (default, Apr 13 2021, 15:08:03) [MSC v.1916 64 bit (AMD64)]"
  },
  "orig_nbformat": 4,
  "vscode": {
   "interpreter": {
    "hash": "ad2bdc8ecc057115af97d19610ffacc2b4e99fae6737bb82f5d7fb13d2f2c186"
   }
  }
 },
 "nbformat": 4,
 "nbformat_minor": 2
}
