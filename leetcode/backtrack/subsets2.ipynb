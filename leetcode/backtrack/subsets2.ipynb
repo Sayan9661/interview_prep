{
 "cells": [
  {
   "cell_type": "code",
   "execution_count": 5,
   "metadata": {},
   "outputs": [],
   "source": [
    "from typing import List\n",
    "def subsetsWithDup(nums: List[int]) -> List[List[int]]:\n",
    "\n",
    "    nums.sort()\n",
    "    result = []\n",
    "\n",
    "    def backtrack(pos, curr_nums):\n",
    "        if(pos == len(nums)-1):\n",
    "            result.append(curr_nums.copy())\n",
    "            return\n",
    "\n",
    "        prev = -11\n",
    "        for i in range(pos, len(nums)):\n",
    "            if(prev == nums[i]):\n",
    "                continue\n",
    "            curr_nums.append(nums[i])\n",
    "            backtrack(i+1, curr_nums)\n",
    "            curr_nums.pop()\n",
    "            prev = nums[i]\n",
    "\n",
    "    backtrack(0, [])\n",
    "    return result\n"
   ]
  },
  {
   "cell_type": "code",
   "execution_count": 6,
   "metadata": {},
   "outputs": [
    {
     "name": "stdout",
     "output_type": "stream",
     "text": [
      "[[1, 2], [2]]\n"
     ]
    }
   ],
   "source": [
    "print(subsetsWithDup([1,2,2]))"
   ]
  }
 ],
 "metadata": {
  "kernelspec": {
   "display_name": "base",
   "language": "python",
   "name": "python3"
  },
  "language_info": {
   "codemirror_mode": {
    "name": "ipython",
    "version": 3
   },
   "file_extension": ".py",
   "mimetype": "text/x-python",
   "name": "python",
   "nbconvert_exporter": "python",
   "pygments_lexer": "ipython3",
   "version": "3.8.8 (default, Apr 13 2021, 15:08:03) [MSC v.1916 64 bit (AMD64)]"
  },
  "orig_nbformat": 4,
  "vscode": {
   "interpreter": {
    "hash": "ad2bdc8ecc057115af97d19610ffacc2b4e99fae6737bb82f5d7fb13d2f2c186"
   }
  }
 },
 "nbformat": 4,
 "nbformat_minor": 2
}
