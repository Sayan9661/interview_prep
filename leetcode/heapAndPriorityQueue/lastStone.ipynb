{
 "cells": [
  {
   "attachments": {},
   "cell_type": "markdown",
   "metadata": {},
   "source": [
    "## algo : Use heap to store the elements and extract max then compare ."
   ]
  },
  {
   "cell_type": "code",
   "execution_count": 12,
   "metadata": {},
   "outputs": [],
   "source": [
    "from heapq import heappop, heappush, heapify\n",
    "\n",
    "\n",
    "def lastStoneWeight(stones) -> int:\n",
    "    heap = []\n",
    "    heapify(heap)\n",
    "\n",
    "    for i in range(len(stones)):\n",
    "        heappush(heap, -1*stones[i])\n",
    "\n",
    "    while(len(heap) > 1):\n",
    "        print(heap)\n",
    "        x = -1*heappop(heap)\n",
    "        y = -1*heappop(heap)\n",
    "        \n",
    "        print(\"x\",\"y\",x,y)\n",
    "\n",
    "        if(x != y):\n",
    "            heappush(heap, -1*(x-y))\n",
    "\n",
    "    return -1*heappop(heap) if heap else 0\n"
   ]
  },
  {
   "cell_type": "code",
   "execution_count": 13,
   "metadata": {},
   "outputs": [
    {
     "name": "stdout",
     "output_type": "stream",
     "text": [
      "[-8, -7, -4, -1, -2, -1]\n",
      "x y 8 7\n",
      "[-4, -2, -1, -1, -1]\n",
      "x y 4 2\n",
      "[-2, -1, -1, -1]\n",
      "x y 2 1\n",
      "[-1, -1, -1]\n",
      "x y 1 1\n"
     ]
    },
    {
     "data": {
      "text/plain": [
       "1"
      ]
     },
     "execution_count": 13,
     "metadata": {},
     "output_type": "execute_result"
    }
   ],
   "source": [
    "import heapq\n",
    "stones = [2, 7, 4, 1, 8, 1]\n",
    "lastStoneWeight(stones)\n"
   ]
  }
 ],
 "metadata": {
  "kernelspec": {
   "display_name": "base",
   "language": "python",
   "name": "python3"
  },
  "language_info": {
   "codemirror_mode": {
    "name": "ipython",
    "version": 3
   },
   "file_extension": ".py",
   "mimetype": "text/x-python",
   "name": "python",
   "nbconvert_exporter": "python",
   "pygments_lexer": "ipython3",
   "version": "3.8.8"
  },
  "orig_nbformat": 4,
  "vscode": {
   "interpreter": {
    "hash": "ad2bdc8ecc057115af97d19610ffacc2b4e99fae6737bb82f5d7fb13d2f2c186"
   }
  }
 },
 "nbformat": 4,
 "nbformat_minor": 2
}
