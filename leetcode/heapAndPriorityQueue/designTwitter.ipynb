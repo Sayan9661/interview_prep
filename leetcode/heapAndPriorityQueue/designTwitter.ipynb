{
 "cells": [
  {
   "attachments": {},
   "cell_type": "markdown",
   "metadata": {},
   "source": [
    "![](2023-01-25-17-32-47.png)"
   ]
  },
  {
   "attachments": {},
   "cell_type": "markdown",
   "metadata": {},
   "source": [
    "## data sttructures to be used:\n",
    "\n",
    "### follow/unfollow: hashmap= {userID:hashset(the followee IDs)}\n",
    "\n",
    "This is because using the hashset we can look up any followerID in O(1) and then we can search the hashset of followee IDs in O(1)[useful for unfollow].<br>\n",
    "If we use hashmap= {userID:list(the followee IDs)} then to search the list of fllowee to unfollow() would be a O(N) ops."
   ]
  },
  {
   "cell_type": "code",
   "execution_count": null,
   "metadata": {},
   "outputs": [],
   "source": []
  }
 ],
 "metadata": {
  "kernelspec": {
   "display_name": "base",
   "language": "python",
   "name": "python3"
  },
  "language_info": {
   "name": "python",
   "version": "3.8.8 (default, Apr 13 2021, 15:08:03) [MSC v.1916 64 bit (AMD64)]"
  },
  "orig_nbformat": 4,
  "vscode": {
   "interpreter": {
    "hash": "ad2bdc8ecc057115af97d19610ffacc2b4e99fae6737bb82f5d7fb13d2f2c186"
   }
  }
 },
 "nbformat": 4,
 "nbformat_minor": 2
}
