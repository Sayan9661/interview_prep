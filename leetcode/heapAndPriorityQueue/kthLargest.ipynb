{
 "cells": [
  {
   "attachments": {},
   "cell_type": "markdown",
   "metadata": {},
   "source": [
    "## Algo:\n",
    "<ol>\n",
    "        <li>choose last element as the pivot</li>\n",
    "        <li>pts starts at left most, go through array if elements are smaller than at idx ptr :swap and increment ptr</li>\n",
    "        <li>swap pivot with ptr we should have all greater on right and all smaller on left</li>\n",
    "        <li>pivot is at correct idx , so if we need that idx(kth) return or repeat on left/right</li>\n",
    "        \n",
    "</ol>\n",
    "\n",
    "algo is like quicksort but then we on do recursion on only  left or right subrray.<br>\n",
    "Time complexity=  O(n+n/2+n/4+.....) =O(n) :  Av case<br>\n",
    "For worst case , like quicksort if array is sorted then O(n+(n-1)+(n-2)+.....)=O(n^2)\n"
   ]
  },
  {
   "cell_type": "code",
   "execution_count": 5,
   "metadata": {},
   "outputs": [],
   "source": [
    "def findKthLargest( nums, k: int) -> int:\n",
    "    #could make max heap and pop k values\n",
    "\n",
    "    #here we implement quickselect which is like quicksort\n",
    "\n",
    "    #kth element from end in sorted array gives us our kth largest element\n",
    "    target = len(nums)-k\n",
    "    if len(nums) == 1:\n",
    "            return nums[0]\n",
    "    print(target)\n",
    "    def quickSelect(l, r):\n",
    "        print(\"l\",\"r\",l,r)\n",
    "        pivot = nums[r]\n",
    "        ptr = l\n",
    "        for i in range(l, r):\n",
    "            print(\"ptr\", \"i\",ptr,i)\n",
    "            if nums[i] <= pivot:\n",
    "                nums[i], nums[ptr] = nums[ptr], nums[i]\n",
    "                ptr += 1\n",
    "        nums[ptr], nums[r] = nums[r], nums[ptr]\n",
    "\n",
    "        if target > ptr:\n",
    "            return quickSelect(ptr+1, r)\n",
    "        elif  target<ptr:\n",
    "            return quickSelect(l, ptr-1)\n",
    "        else:\n",
    "            return nums[ptr]\n",
    "\n",
    "    return quickSelect(0, len(nums)-1)\n"
   ]
  },
  {
   "cell_type": "code",
   "execution_count": 10,
   "metadata": {},
   "outputs": [
    {
     "name": "stdout",
     "output_type": "stream",
     "text": [
      "5\n",
      "l r 0 8\n",
      "ptr i 0 0\n",
      "ptr i 1 1\n",
      "ptr i 2 2\n",
      "ptr i 3 3\n",
      "ptr i 4 4\n",
      "ptr i 5 5\n",
      "ptr i 6 6\n",
      "ptr i 7 7\n",
      "l r 0 7\n",
      "ptr i 0 0\n",
      "ptr i 1 1\n",
      "ptr i 2 2\n",
      "ptr i 3 3\n",
      "ptr i 4 4\n",
      "ptr i 5 5\n",
      "ptr i 6 6\n",
      "l r 0 6\n",
      "ptr i 0 0\n",
      "ptr i 1 1\n",
      "ptr i 2 2\n",
      "ptr i 3 3\n",
      "ptr i 4 4\n",
      "ptr i 5 5\n",
      "l r 0 5\n",
      "ptr i 0 0\n",
      "ptr i 1 1\n",
      "ptr i 2 2\n",
      "ptr i 3 3\n",
      "ptr i 4 4\n"
     ]
    },
    {
     "data": {
      "text/plain": [
       "4"
      ]
     },
     "execution_count": 10,
     "metadata": {},
     "output_type": "execute_result"
    }
   ],
   "source": [
    "nums = [3,2,3,1,2,4,5,5,6]\n",
    "k = 4\n",
    "findKthLargest(nums, k)\n"
   ]
  }
 ],
 "metadata": {
  "kernelspec": {
   "display_name": "base",
   "language": "python",
   "name": "python3"
  },
  "language_info": {
   "codemirror_mode": {
    "name": "ipython",
    "version": 3
   },
   "file_extension": ".py",
   "mimetype": "text/x-python",
   "name": "python",
   "nbconvert_exporter": "python",
   "pygments_lexer": "ipython3",
   "version": "3.8.8 (default, Apr 13 2021, 15:08:03) [MSC v.1916 64 bit (AMD64)]"
  },
  "orig_nbformat": 4,
  "vscode": {
   "interpreter": {
    "hash": "ad2bdc8ecc057115af97d19610ffacc2b4e99fae6737bb82f5d7fb13d2f2c186"
   }
  }
 },
 "nbformat": 4,
 "nbformat_minor": 2
}
