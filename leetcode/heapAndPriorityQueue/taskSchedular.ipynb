{
 "cells": [
  {
   "attachments": {},
   "cell_type": "markdown",
   "metadata": {},
   "source": [
    "![](2023-01-13-07-22-55.png)"
   ]
  },
  {
   "attachments": {},
   "cell_type": "markdown",
   "metadata": {},
   "source": [
    "## logic:\n",
    "intuition is tasks with the most count should be scheduled first so that there is less wait time in the end\n",
    "<ul>\n",
    "        <li>Use maxheap to store the task counts and use queue to store the task wait times</li>\n",
    "        <li>run loop and increment time</li>\n",
    "        <li>take the most count task ,decrement it and if the count>0 then put in queue with correspoinding time when it can be scheduled again</li>\n",
    "        <li>check if any of the tasks in the wait queue can be processed now and push it onto maxheap</li>\n",
    "        <li>repeat till the maxheap and queue is empty(tasks may have wait time but count left is 0)</li>\n",
    "</ul>\n"
   ]
  },
  {
   "cell_type": "code",
   "execution_count": 9,
   "metadata": {},
   "outputs": [],
   "source": [
    "import heapq\n",
    "from collections import Counter,deque\n",
    "def leastInterval(tasks, n: int) -> int:\n",
    "\n",
    "    #get the count of each task and then turn that into a hashmap\n",
    "    count = Counter(tasks)\n",
    "    #turn hashmap of counts into a list of count values\n",
    "    maxheap = [-c for c in count.values()]\n",
    "\n",
    "    #turn into max heap\n",
    "    heapq.heapify(maxheap)\n",
    "\n",
    "    #dequeue to hold pair[count of task, time when it can be run]\n",
    "    p = deque()\n",
    "    time = 0\n",
    "    print(time,maxheap,p)\n",
    "    #we check both because maybe all the tasks have been scheduled but then there are tasks in the queue\n",
    "    while maxheap or p:\n",
    "        #increment time\n",
    "        time += 1\n",
    "        print(f'{time}')\n",
    "\n",
    "        #check it there are tasks left to be scheduled\n",
    "        if maxheap:\n",
    "            #decrement the count of the task\n",
    "            cnt = 1+heapq.heappop(maxheap)\n",
    "            if cnt:\n",
    "                #put in the processing queue\n",
    "                p.append([cnt, time+n])\n",
    "        #check if there are tasks in the queue that can be scheduled again after 1 wait--> push them to heap\n",
    "        if p and p[0][1] == time:\n",
    "            heapq.heappush(maxheap, p.popleft()[0])\n",
    "        print(f'{maxheap},{p}')\n",
    "    return time\n"
   ]
  },
  {
   "cell_type": "code",
   "execution_count": 10,
   "metadata": {},
   "outputs": [
    {
     "name": "stdout",
     "output_type": "stream",
     "text": [
      "0 [-3, -3] deque([])\n",
      "1\n",
      "[-3],deque([[-2, 3]])\n",
      "2\n",
      "[],deque([[-2, 3], [-2, 4]])\n",
      "3\n",
      "[-2],deque([[-2, 4]])\n",
      "4\n",
      "[-2],deque([[-1, 6]])\n",
      "5\n",
      "[],deque([[-1, 6], [-1, 7]])\n",
      "6\n",
      "[-1],deque([[-1, 7]])\n",
      "7\n",
      "[-1],deque([])\n",
      "8\n",
      "[],deque([])\n"
     ]
    },
    {
     "data": {
      "text/plain": [
       "8"
      ]
     },
     "execution_count": 10,
     "metadata": {},
     "output_type": "execute_result"
    }
   ],
   "source": [
    "tasks=[\"A\",\"A\",\"A\",\"B\",\"B\",\"B\"]\n",
    "n=2\n",
    "leastInterval(tasks, n)\n"
   ]
  }
 ],
 "metadata": {
  "kernelspec": {
   "display_name": "base",
   "language": "python",
   "name": "python3"
  },
  "language_info": {
   "codemirror_mode": {
    "name": "ipython",
    "version": 3
   },
   "file_extension": ".py",
   "mimetype": "text/x-python",
   "name": "python",
   "nbconvert_exporter": "python",
   "pygments_lexer": "ipython3",
   "version": "3.8.16"
  },
  "orig_nbformat": 4,
  "vscode": {
   "interpreter": {
    "hash": "ad2bdc8ecc057115af97d19610ffacc2b4e99fae6737bb82f5d7fb13d2f2c186"
   }
  }
 },
 "nbformat": 4,
 "nbformat_minor": 2
}
