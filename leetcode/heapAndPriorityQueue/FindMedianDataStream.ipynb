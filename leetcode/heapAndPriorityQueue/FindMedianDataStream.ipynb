{
 "cells": [
  {
   "attachments": {},
   "cell_type": "markdown",
   "metadata": {},
   "source": [
    "## logic:\n",
    "So we make 2 heap :\n",
    "one min heap with the larger elements and one max heap with the smaller elements\n",
    "\n",
    "we always add to the samller nums heap.<br>\n",
    "now if the max heap with smaller elements have 2 or more over the len of the other min heap <br>\n",
    "or if the value added to the max heap of smaller is greater than the smallest of min heap of the larger elements<br>\n",
    "then pop from small and add to large<br>\n",
    "\n",
    "then we have to check if the min heap has 2 or more elements than the max heap : take from min heap and add to max heap"
   ]
  },
  {
   "attachments": {},
   "cell_type": "markdown",
   "metadata": {},
   "source": [
    "![](2023-01-31-22-43-44.png)"
   ]
  },
  {
   "cell_type": "code",
   "execution_count": 12,
   "metadata": {},
   "outputs": [],
   "source": [
    "\n",
    "import heapq\n",
    "class MedianFinder:\n",
    "\n",
    "    def __init__(self):\n",
    "        #min heap of greater elements\n",
    "        self.large = []\n",
    "        #max heap of smaller elements\n",
    "        self.small = []\n",
    "        heapq.heapify(self.small)\n",
    "        heapq.heapify(self.large)\n",
    "\n",
    "    def addNum(self, num: int) -> None:\n",
    "        #initially always add to the max heap with smaller elements\n",
    "        heapq.heappush(self.small, -num)\n",
    "        #now if the max heap with smaller elements have 2 or more over the len of the other min heap \n",
    "        #or if the value added to the max heap of smaller is greater than the smallest of min heap of the larger elements\n",
    "        #then pop from small and add to large  \n",
    "        if len(self.small) > len(self.large)+1 or self.large and -self.small[0] > self.large[0]:\n",
    "            heapq.heappush(self.large, -heapq.heappop(self.small))\n",
    "        # print(self.small, self.large)\n",
    "        if len(self.large) > len(self.small)+1:\n",
    "            heapq.heappush(self.small, -heapq.heappop(self.large))\n",
    "        # print(self.small, self.large)\n",
    "        # print()\n",
    "        \n",
    "\n",
    "        \n",
    "    def findMedian(self) -> float:\n",
    "        print(self.small,self.large)\n",
    "        if len(self.small) == len(self.large):\n",
    "            return (-self.small[0]+self.large[0])/2\n",
    "        elif len(self.small) > len(self.large):\n",
    "            return -self.small[0]\n",
    "        else:\n",
    "            return self.large[0]\n",
    "        return res\n"
   ]
  },
  {
   "cell_type": "code",
   "execution_count": 13,
   "metadata": {},
   "outputs": [
    {
     "name": "stdout",
     "output_type": "stream",
     "text": [
      "[-1] []\n",
      "[-1] []\n",
      "\n",
      "[-1] [2]\n",
      "[-1] [2]\n",
      "\n",
      "[-1] [2]\n",
      "[-1] [2, 3]\n",
      "[-1] [2, 3]\n",
      "\n",
      "[-1] [2, 3]\n"
     ]
    },
    {
     "data": {
      "text/plain": [
       "2"
      ]
     },
     "execution_count": 13,
     "metadata": {},
     "output_type": "execute_result"
    }
   ],
   "source": [
    "medianFinder= MedianFinder()\n",
    "medianFinder.addNum(1)# arr = [1]\n",
    "medianFinder.addNum(2)# arr = [1, 2]\n",
    "medianFinder.findMedian()#return 1.5 (i.e., (1 + 2) / 2)\n",
    "medianFinder.addNum(3)#arr[1, 2, 3]\n",
    "medianFinder.findMedian()#return 2.0\n"
   ]
  },
  {
   "cell_type": "code",
   "execution_count": 14,
   "metadata": {},
   "outputs": [
    {
     "name": "stdout",
     "output_type": "stream",
     "text": [
      "[-1] []\n",
      "[-1] []\n",
      "\n",
      "[-1] [2]\n",
      "[-1] [2]\n",
      "\n",
      "[-1] [2, 3]\n",
      "[-1] [2, 3]\n",
      "\n",
      "[-1] [2, 3, 4]\n",
      "[-2, -1] [3, 4]\n",
      "\n",
      "[-2, -1] [3, 4, 5]\n",
      "[-2, -1] [3, 4, 5]\n",
      "\n",
      "[-2, -1] [3, 4, 5, 6]\n",
      "[-3, -1, -2] [4, 6, 5]\n",
      "\n",
      "[-3, -1, -2] [4, 6, 5]\n"
     ]
    },
    {
     "data": {
      "text/plain": [
       "3.5"
      ]
     },
     "execution_count": 14,
     "metadata": {},
     "output_type": "execute_result"
    }
   ],
   "source": [
    "medianFinder = MedianFinder()\n",
    "medianFinder.addNum(1)  \n",
    "medianFinder.addNum(2)\n",
    "medianFinder.addNum(3)\n",
    "medianFinder.addNum(4)\n",
    "medianFinder.addNum(5)\n",
    "medianFinder.addNum(6)\n",
    "medianFinder.findMedian()\n"
   ]
  }
 ],
 "metadata": {
  "kernelspec": {
   "display_name": "base",
   "language": "python",
   "name": "python3"
  },
  "language_info": {
   "codemirror_mode": {
    "name": "ipython",
    "version": 3
   },
   "file_extension": ".py",
   "mimetype": "text/x-python",
   "name": "python",
   "nbconvert_exporter": "python",
   "pygments_lexer": "ipython3",
   "version": "3.8.8"
  },
  "orig_nbformat": 4,
  "vscode": {
   "interpreter": {
    "hash": "ad2bdc8ecc057115af97d19610ffacc2b4e99fae6737bb82f5d7fb13d2f2c186"
   }
  }
 },
 "nbformat": 4,
 "nbformat_minor": 2
}
