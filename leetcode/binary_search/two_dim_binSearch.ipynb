{
 "cells": [
  {
   "attachments": {},
   "cell_type": "markdown",
   "metadata": {},
   "source": [
    "## basically perform 2D binary search:\n",
    "1. all rows are sorted and are in increasing order\n",
    "2. First if there is a row where the target is by binary search: <br>\n",
    "     compare target to first val of mid row :top+1<br>\n",
    "     compare target to last val of mid row : down-1<br>\n",
    "     if the target not there then top will be > bottom, if there then will break as above to conditions not met meaing target id in the mid row.<br>\n",
    "\n",
    "3. perform bin search on that row or return if top>bottom"
   ]
  },
  {
   "cell_type": "code",
   "execution_count": 2,
   "metadata": {},
   "outputs": [],
   "source": [
    "def searchMatrix(smatrix, target) -> bool:\n",
    "    up = 0\n",
    "    down = len(matrix)-1\n",
    "    left = 0\n",
    "    right = len(matrix[0])-1\n",
    "\n",
    "    while(up <= down):\n",
    "        mid_rows = (up+down)//2\n",
    "\n",
    "        #target is lesser than leftmost value of the mid row\n",
    "        if(target < matrix[mid_rows][0]):\n",
    "            down = mid_rows-1\n",
    "\n",
    "        #target is greater than the rightmost value of mid row\n",
    "        elif(target > matrix[mid_rows][-1]):\n",
    "            up = mid_rows+1\n",
    "\n",
    "        #if both if above not satisfied then basically the target number is in the range of mid row or it doesnt exist\n",
    "        else:\n",
    "            break\n",
    "\n",
    "    #basically the target value is not in range if matrix\n",
    "    if(up > down):\n",
    "        return False\n",
    "\n",
    "    row = (up+down)//2\n",
    "\n",
    "    while (left <= right):\n",
    "\n",
    "        mid = (left+right)//2\n",
    "        if(target == matrix[row][mid]):\n",
    "            return True\n",
    "\n",
    "        elif(target < matrix[row][mid]):\n",
    "            right = mid-1\n",
    "\n",
    "        else:\n",
    "            left = mid+1\n",
    "\n",
    "    return False\n"
   ]
  }
 ],
 "metadata": {
  "kernelspec": {
   "display_name": "base",
   "language": "python",
   "name": "python3"
  },
  "language_info": {
   "codemirror_mode": {
    "name": "ipython",
    "version": 3
   },
   "file_extension": ".py",
   "mimetype": "text/x-python",
   "name": "python",
   "nbconvert_exporter": "python",
   "pygments_lexer": "ipython3",
   "version": "3.8.8"
  },
  "orig_nbformat": 4,
  "vscode": {
   "interpreter": {
    "hash": "ad2bdc8ecc057115af97d19610ffacc2b4e99fae6737bb82f5d7fb13d2f2c186"
   }
  }
 },
 "nbformat": 4,
 "nbformat_minor": 2
}
