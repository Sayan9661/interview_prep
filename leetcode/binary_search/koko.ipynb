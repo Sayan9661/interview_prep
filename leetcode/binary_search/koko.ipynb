{
 "cells": [
  {
   "attachments": {},
   "cell_type": "markdown",
   "metadata": {},
   "source": [
    "![](2023-01-10-04-41-04.png)"
   ]
  },
  {
   "attachments": {},
   "cell_type": "markdown",
   "metadata": {},
   "source": [
    "## logic:\n",
    "we have to find the smallest value of k such that koko can eat all bananas in <=h hours<br>\n",
    "\n",
    "we need at least len(piles) hours to each all the piles.<br>\n",
    "so the max value of k will be the max value of the pile:this will lead to h=len(p).<br>\n",
    "so the range of k is [1,max(p)]. We need to find the min value that will to h < H<br>\n",
    "\n",
    "### binary search of k in [1,max(p)] : if mid is a solution then look for lesser value, else greater."
   ]
  },
  {
   "attachments": {},
   "cell_type": "markdown",
   "metadata": {},
   "source": [
    "![](2023-01-10-04-50-15.png)"
   ]
  },
  {
   "cell_type": "code",
   "execution_count": 3,
   "metadata": {},
   "outputs": [],
   "source": [
    "def minEatingSpeed(piles, h: int) -> int:\n",
    "    #min ,max value of k:\n",
    "    l,r=1,max(piles)\n",
    "    res=max(piles)\n",
    "    \n",
    "\n",
    "    #binary search for min value of k for which hours <= h:\n",
    "\n",
    "    while(l<=r):\n",
    "        k=(l+r)//2\n",
    "        hours=0\n",
    "\n",
    "        #check the total hours with k eating speed\n",
    "        for p in piles:\n",
    "            hours+=math.ceil(p/k)\n",
    "\n",
    "        #if we find that for a particular k hours < h , we try to search for a smaller k\n",
    "        if hours<=h:\n",
    "            #since we are storing the result no need for found condition\n",
    "            res=min(res,k)\n",
    "            r=k-1\n",
    "        #if hours exceeds the given h we need to increase eating speed k\n",
    "        else:\n",
    "            l=k+1\n",
    "\n",
    "    return res\n",
    "            "
   ]
  },
  {
   "cell_type": "code",
   "execution_count": 8,
   "metadata": {},
   "outputs": [
    {
     "name": "stdout",
     "output_type": "stream",
     "text": [
      "2.3\n"
     ]
    },
    {
     "data": {
      "text/plain": [
       "3"
      ]
     },
     "execution_count": 8,
     "metadata": {},
     "output_type": "execute_result"
    }
   ],
   "source": [
    "import math\n",
    "print(23/10)\n",
    "math.ceil(23/10)"
   ]
  },
  {
   "cell_type": "code",
   "execution_count": 1,
   "metadata": {},
   "outputs": [
    {
     "data": {
      "text/plain": [
       "88"
      ]
     },
     "execution_count": 1,
     "metadata": {},
     "output_type": "execute_result"
    }
   ],
   "source": [
    "sum([30,11,23,4,20])"
   ]
  }
 ],
 "metadata": {
  "kernelspec": {
   "display_name": "base",
   "language": "python",
   "name": "python3"
  },
  "language_info": {
   "codemirror_mode": {
    "name": "ipython",
    "version": 3
   },
   "file_extension": ".py",
   "mimetype": "text/x-python",
   "name": "python",
   "nbconvert_exporter": "python",
   "pygments_lexer": "ipython3",
   "version": "3.8.8"
  },
  "orig_nbformat": 4,
  "vscode": {
   "interpreter": {
    "hash": "ad2bdc8ecc057115af97d19610ffacc2b4e99fae6737bb82f5d7fb13d2f2c186"
   }
  }
 },
 "nbformat": 4,
 "nbformat_minor": 2
}
