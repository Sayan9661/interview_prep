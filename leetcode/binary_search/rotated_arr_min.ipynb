{
 "cells": [
  {
   "attachments": {},
   "cell_type": "markdown",
   "metadata": {},
   "source": [
    "![](2023-01-10-08-22-25.png)"
   ]
  },
  {
   "attachments": {},
   "cell_type": "markdown",
   "metadata": {},
   "source": [
    "## logic:\n",
    "we perform binary search:\n",
    "<ul>\n",
    "<li>if nums[mid]>=nums[left] : then we are in the portion so l=mid+1 as we need to search right portion for min</li>\n",
    "<li>else we are in right portion :  so r=mid-1 as we need to search left portion from mid of the right portion for min</li>\n",
    "<li>if nums[left]< nums[right] : this means we have reached some sorted portion so the left most val is the min: no point searching anymore</li>\n",
    "</ul>"
   ]
  },
  {
   "cell_type": "code",
   "execution_count": null,
   "metadata": {},
   "outputs": [],
   "source": [
    "##"
   ]
  },
  {
   "cell_type": "code",
   "execution_count": 5,
   "metadata": {},
   "outputs": [],
   "source": [
    "def findMin(nums) -> int:\n",
    "    res = nums[0]\n",
    "    l, r = 0, len(nums)-1\n",
    "\n",
    "    while(l <= r):\n",
    "        print('l',l,'r',r,'res',res)\n",
    "        #if we are in a sorted portion the the leftmost value is the min\n",
    "        if nums[l] < nums[r]:\n",
    "            res = min(res, nums[l])\n",
    "            break\n",
    "\n",
    "        #calc mid\n",
    "        mid = (l+r)//2\n",
    "        print('mid',mid)\n",
    "        #check if the mid value is min (this is particularly helpful if we are in the right sorted portion as that might be the min value)\n",
    "        res = min(res, nums[mid])\n",
    "\n",
    "        #check if we are in left sorted portion so check to right\n",
    "        if nums[mid] >= nums[l]:\n",
    "            l = mid+1\n",
    "        #else we are in the right portion so check to left\n",
    "        else:\n",
    "            r = mid-1\n",
    "        \n",
    "    return res\n"
   ]
  },
  {
   "cell_type": "code",
   "execution_count": 8,
   "metadata": {},
   "outputs": [
    {
     "name": "stdout",
     "output_type": "stream",
     "text": [
      "l 0 r 1 res 4\n",
      "mid 0\n",
      "l 1 r 1 res 4\n",
      "mid 1\n"
     ]
    },
    {
     "data": {
      "text/plain": [
       "2"
      ]
     },
     "execution_count": 8,
     "metadata": {},
     "output_type": "execute_result"
    }
   ],
   "source": [
    "findMin([4,2])"
   ]
  }
 ],
 "metadata": {
  "kernelspec": {
   "display_name": "base",
   "language": "python",
   "name": "python3"
  },
  "language_info": {
   "codemirror_mode": {
    "name": "ipython",
    "version": 3
   },
   "file_extension": ".py",
   "mimetype": "text/x-python",
   "name": "python",
   "nbconvert_exporter": "python",
   "pygments_lexer": "ipython3",
   "version": "3.8.8"
  },
  "orig_nbformat": 4,
  "vscode": {
   "interpreter": {
    "hash": "ad2bdc8ecc057115af97d19610ffacc2b4e99fae6737bb82f5d7fb13d2f2c186"
   }
  }
 },
 "nbformat": 4,
 "nbformat_minor": 2
}
