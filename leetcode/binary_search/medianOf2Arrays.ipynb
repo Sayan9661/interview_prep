{
 "cells": [
  {
   "attachments": {},
   "cell_type": "markdown",
   "metadata": {},
   "source": [
    "![](2023-01-10-22-36-03.png)"
   ]
  },
  {
   "attachments": {},
   "cell_type": "markdown",
   "metadata": {},
   "source": [
    "![](2023-01-10-22-46-09.png)"
   ]
  },
  {
   "attachments": {},
   "cell_type": "markdown",
   "metadata": {},
   "source": [
    "## logic: O(min(m,n))\n",
    "half=total no of elements in both arrays//2\n",
    "our median = (half index in merged array) if odd  or (half index and half+1) if even\n",
    "\n",
    "take smaller array<br>\n",
    "find the mid<br>\n",
    "left portion in merged is from left of that array to mid.<br>\n",
    "for other array the left porton is half - mid<br>\n",
    "\n",
    "\n",
    "\n",
    "Now,<br>\n",
    "if right-most values in the left partitions are lesser than the left-most values in the other array repectively, then we have partition correctly : median=min(right-most values of left partions)<br>\n",
    "if right-most value of left partition of A(smaller) is greater than left-most value of right partition of other => more values should come from other array in left partition => r=mid-1<br>\n",
    "else: opposite<br> \n",
    "repeat till we find the correct partition and hence the median."
   ]
  },
  {
   "cell_type": "code",
   "execution_count": 23,
   "metadata": {},
   "outputs": [],
   "source": [
    "def findMedianSortedArrays( nums1, nums2) -> float:\n",
    "    A, B = nums1, nums2\n",
    "    if len(A) > len(B):\n",
    "        A, B = B, A\n",
    "\n",
    "    total = len(A)+len(B)\n",
    "    half = total//2\n",
    "\n",
    "    l, r = 0, len(A)-1\n",
    "    while True:\n",
    "\n",
    "        mid = (l+r)//2\n",
    "        mid_other = half-mid-2  # since half is not calculated with 0-indexing so we -2\n",
    "\n",
    "        \n",
    "        #if the mid indices is out of range make then -inf or +inf depending upon whether \n",
    "        # they are begining or end of array \n",
    "        Aleft = A[mid] if mid >= 0 else float(\"-infinity\")\n",
    "        Aright = A[mid+1] if mid+1 < len(A) else float(\"infinity\")\n",
    "        Bleft = B[mid_other] if (mid_other) >= 0 else float(\"-infinity\")\n",
    "        Bright = B[mid_other+1] if (mid_other + 1) < len(B) else float(\"infinity\")\n",
    "\n",
    "        print(mid,mid_other)\n",
    "        print(Aleft, Aright, Bleft,Bright)\n",
    "        if Bleft <= Aright and Aleft <= Bright:\n",
    "            # correct left partitions\n",
    "\n",
    "            #odd\n",
    "            if total % 2:\n",
    "                return min(Aright, Bright)\n",
    "\n",
    "            else:\n",
    "                return ( max(Aleft, Bleft) + min(Aright,Bright))/ 2\n",
    "\n",
    "        if Aleft > Bright:\n",
    "            r = mid-1\n",
    "\n",
    "        else:\n",
    "            l = mid+1\n"
   ]
  },
  {
   "cell_type": "code",
   "execution_count": 24,
   "metadata": {},
   "outputs": [
    {
     "name": "stdout",
     "output_type": "stream",
     "text": [
      "0 0\n",
      "1 2 3 4\n",
      "1 -1\n",
      "2 inf -inf 3\n"
     ]
    },
    {
     "data": {
      "text/plain": [
       "2.5"
      ]
     },
     "execution_count": 24,
     "metadata": {},
     "output_type": "execute_result"
    }
   ],
   "source": [
    "nums1 = [1, 2]\n",
    "nums2 = [3, 4]\n",
    "findMedianSortedArrays(nums1, nums2)\n"
   ]
  },
  {
   "cell_type": "code",
   "execution_count": 17,
   "metadata": {},
   "outputs": [
    {
     "data": {
      "text/plain": [
       "1.5"
      ]
     },
     "execution_count": 17,
     "metadata": {},
     "output_type": "execute_result"
    }
   ],
   "source": [
    "x = float(\"-infinity\")\n",
    "y=max(x,3)/2\n",
    "y"
   ]
  }
 ],
 "metadata": {
  "kernelspec": {
   "display_name": "base",
   "language": "python",
   "name": "python3"
  },
  "language_info": {
   "codemirror_mode": {
    "name": "ipython",
    "version": 3
   },
   "file_extension": ".py",
   "mimetype": "text/x-python",
   "name": "python",
   "nbconvert_exporter": "python",
   "pygments_lexer": "ipython3",
   "version": "3.8.8"
  },
  "orig_nbformat": 4,
  "vscode": {
   "interpreter": {
    "hash": "ad2bdc8ecc057115af97d19610ffacc2b4e99fae6737bb82f5d7fb13d2f2c186"
   }
  }
 },
 "nbformat": 4,
 "nbformat_minor": 2
}
