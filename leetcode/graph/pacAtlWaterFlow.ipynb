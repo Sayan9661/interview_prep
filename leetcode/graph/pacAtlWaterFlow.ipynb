{
 "cells": [
  {
   "attachments": {},
   "cell_type": "markdown",
   "metadata": {},
   "source": [
    "![](2023-01-19-15-35-43.png)"
   ]
  },
  {
   "attachments": {},
   "cell_type": "markdown",
   "metadata": {},
   "source": [
    "## logic:\n",
    "### Naive way:\n",
    "just iterate over each cell and then find it can reach pac and atl using dfs.\n",
    "### better way:\n",
    "start from the cells bordering the oceans and then run dfs on those cells to find cells that can reach their border ocean (mark them in the repec sets pacific and atlantic). then iterate over all cells and check if they are in both set: put in ans. "
   ]
  },
  {
   "cell_type": "code",
   "execution_count": 48,
   "metadata": {},
   "outputs": [],
   "source": [
    "import collections\n",
    "\n",
    "def pacificAtlantic( heights):\n",
    "    res1 = []\n",
    "    pacific, atlantic = set(), set()\n",
    "    ROWS, COLS = len(heights), len(heights[0])\n",
    "\n",
    "    def dfs(r, c, ocean, prevh):\n",
    "        if(\n",
    "            r < 0 or\n",
    "            c < 0 or\n",
    "            r == ROWS or\n",
    "            c == COLS or\n",
    "            heights[r][c] < prevh or\n",
    "            (r, c) in ocean\n",
    "        ):\n",
    "            return\n",
    "\n",
    "        ocean.add((r, c))\n",
    "\n",
    "        dfs(r+1, c, ocean, heights[r][c])\n",
    "        dfs(r-1, c, ocean, heights[r][c])\n",
    "        dfs(r, c+1, ocean, heights[r][c])\n",
    "        dfs(r, c-1, ocean, heights[r][c])\n",
    "        return\n",
    "\n",
    "    for r in range(ROWS):\n",
    "        dfs(r, 0, pacific, heights[r][0])\n",
    "        dfs(r, COLS-1, atlantic, heights[r][COLS-1])\n",
    "    # print('pac','atl',pacific,atlantic)\n",
    "\n",
    "    for c in range(COLS):\n",
    "        dfs(0, c, pacific, heights[0][c])\n",
    "        dfs(ROWS-1, c, atlantic, heights[ROWS-1][c])\n",
    "    # print('pac', 'atl', pacific, atlantic)\n",
    "\n",
    "    for r in range(ROWS):\n",
    "        for c in range(COLS):\n",
    "            if (r, c) in pacific and (r, c) in atlantic:\n",
    "                res1.append([r, c])\n",
    "    \n",
    "    common = (atlantic&pacific)\n",
    "    print(common) \n",
    "    res=[list((r,c)) for (r,c) in (pacific & atlantic) ]\n",
    "    res2=[list((r,c)) for (r,c) in pacific if (r,c) in atlantic ]\n",
    "\n",
    "    print(res.sort()==res1.sort())\n",
    "    print(res1)\n",
    "    print(res)\n",
    "    print(res2)\n",
    "    return res\n"
   ]
  },
  {
   "cell_type": "code",
   "execution_count": 49,
   "metadata": {},
   "outputs": [
    {
     "name": "stdout",
     "output_type": "stream",
     "text": [
      "{(4, 0), (0, 4), (3, 1), (1, 4), (3, 0), (2, 2), (1, 3)}\n",
      "True\n",
      "[[0, 4], [1, 3], [1, 4], [2, 2], [3, 0], [3, 1], [4, 0]]\n",
      "[[0, 4], [1, 3], [1, 4], [2, 2], [3, 0], [3, 1], [4, 0]]\n",
      "[[0, 4], [4, 0], [3, 1], [1, 4], [3, 0], [2, 2], [1, 3]]\n"
     ]
    },
    {
     "data": {
      "text/plain": [
       "[[0, 4], [1, 3], [1, 4], [2, 2], [3, 0], [3, 1], [4, 0]]"
      ]
     },
     "execution_count": 49,
     "metadata": {},
     "output_type": "execute_result"
    }
   ],
   "source": [
    "heights = [[1, 2, 2, 3, 5], [3, 2, 3, 4, 4], [\n",
    "    2, 4, 5, 3, 1], [6, 7, 1, 4, 5], [5, 1, 1, 2, 4]]\n",
    "pacificAtlantic(heights)\n"
   ]
  }
 ],
 "metadata": {
  "kernelspec": {
   "display_name": "base",
   "language": "python",
   "name": "python3"
  },
  "language_info": {
   "codemirror_mode": {
    "name": "ipython",
    "version": 3
   },
   "file_extension": ".py",
   "mimetype": "text/x-python",
   "name": "python",
   "nbconvert_exporter": "python",
   "pygments_lexer": "ipython3",
   "version": "3.8.8"
  },
  "orig_nbformat": 4,
  "vscode": {
   "interpreter": {
    "hash": "ad2bdc8ecc057115af97d19610ffacc2b4e99fae6737bb82f5d7fb13d2f2c186"
   }
  }
 },
 "nbformat": 4,
 "nbformat_minor": 2
}
