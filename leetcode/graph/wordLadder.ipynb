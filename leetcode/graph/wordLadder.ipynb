{
 "cells": [
  {
   "attachments": {},
   "cell_type": "markdown",
   "metadata": {},
   "source": [
    "https://leetcode.com/problems/word-ladder/solutions/1764371/a-very-highly-detailed-explanation/?orderBy=most_votes"
   ]
  },
  {
   "attachments": {},
   "cell_type": "markdown",
   "metadata": {},
   "source": [
    "## Adjacency list generation:\n",
    "\n",
    "![](2023-01-26-22-49-16.png)"
   ]
  },
  {
   "attachments": {},
   "cell_type": "markdown",
   "metadata": {},
   "source": [
    "## Time complexity:\n",
    "\n",
    "For generation of the adjacency list: O(n . m^2)\n",
    "going through each word in the wordlist is n  , then * m for generating '*' at diff positions in the pattern and then * m generate pattern word(strings are immutable)\n",
    "\n",
    "For BFS and finding steps:O(n^2 . m)<br>\n",
    "\n",
    "n nodes in the graph(there could be n^2 edges) or words in word list and m is the len of words"
   ]
  },
  {
   "attachments": {},
   "cell_type": "markdown",
   "metadata": {},
   "source": [
    "![](2023-01-26-23-03-59.png)"
   ]
  },
  {
   "cell_type": "code",
   "execution_count": 32,
   "metadata": {},
   "outputs": [],
   "source": [
    "import collections\n",
    "def ladderLength( beginWord: str, endWord: str, wordList) -> int:\n",
    "    if endWord not in wordList:return 0\n",
    "\n",
    "    #adjacency list to hold all the words to a matching pattern\n",
    "    adjList=collections.defaultdict(list)\n",
    "    wordList.append(beginWord)\n",
    "\n",
    "    #generate pattern and store in ajacency list\n",
    "    for word in wordList:\n",
    "        for j in range(len(word)):\n",
    "            pattern=word[:j]+'*'+word[j+1:] #O(m) op as slicing and '+' involves copying whole string\n",
    "            adjList[pattern].append(word)\n",
    "    print(adjList)\n",
    "\n",
    "    #now for BFS \n",
    "    \n",
    "    #hold visited nodes in set\n",
    "    visited=set([beginWord])\n",
    "    q=collections.deque([beginWord])\n",
    "    \n",
    "    #count steps in path\n",
    "    path=1\n",
    "    print(q,visited)\n",
    "    \n",
    "    #BFS\n",
    "    while q:\n",
    "        for i in range(len(q)):\n",
    "            word=q.popleft()\n",
    "\n",
    "            if word==endWord:return path\n",
    "\n",
    "            for j in range(len(word)):\n",
    "                pattern=word[:j]+'*'+word[j+1:]\n",
    "                for w in adjList[pattern]:\n",
    "                    if w not in visited:\n",
    "                        q.append(w)\n",
    "                        visited.add(w)\n",
    "        path+=1\n",
    "        print(q,visited)\n",
    "    return 0\n"
   ]
  },
  {
   "cell_type": "code",
   "execution_count": 33,
   "metadata": {},
   "outputs": [
    {
     "name": "stdout",
     "output_type": "stream",
     "text": [
      "defaultdict(<class 'list'>, {'*ot': ['hot', 'dot', 'lot'], 'h*t': ['hot', 'hit'], 'ho*': ['hot'], 'd*t': ['dot'], 'do*': ['dot', 'dog'], '*og': ['dog', 'log', 'cog'], 'd*g': ['dog'], 'l*t': ['lot'], 'lo*': ['lot', 'log'], 'l*g': ['log'], 'c*g': ['cog'], 'co*': ['cog'], '*it': ['hit'], 'hi*': ['hit']})\n",
      "deque(['hit']) {'hit'}\n",
      "deque(['hot']) {'hit', 'hot'}\n",
      "deque(['dot', 'lot']) {'hit', 'hot', 'dot', 'lot'}\n",
      "deque(['dog', 'log']) {'dog', 'hit', 'hot', 'log', 'lot', 'dot'}\n",
      "deque(['cog']) {'dog', 'hit', 'hot', 'log', 'cog', 'lot', 'dot'}\n"
     ]
    },
    {
     "data": {
      "text/plain": [
       "5"
      ]
     },
     "execution_count": 33,
     "metadata": {},
     "output_type": "execute_result"
    }
   ],
   "source": [
    "beginWord = \"hit\"\n",
    "endWord = \"cog\"\n",
    "wordList = [\"hot\", \"dot\", \"dog\", \"lot\", \"log\", \"cog\"]\n",
    "\n",
    "ladderLength(beginWord, endWord, wordList)\n"
   ]
  },
  {
   "cell_type": "code",
   "execution_count": 28,
   "metadata": {},
   "outputs": [],
   "source": [
    "def ladderLength( beginWord: str, endWord: str, wordList) -> int:\n",
    "    if endWord not in wordList:\n",
    "            return 0\n",
    "\n",
    "    visited = set([beginWord])\n",
    "\n",
    "    q = collections.deque([beginWord])\n",
    "\n",
    "    path = 1\n",
    "\n",
    "    words = set(wordList)\n",
    "\n",
    "    print(q, visited)\n",
    "    while q:\n",
    "\n",
    "        for k in range(len(q)):\n",
    "            word = q.popleft()\n",
    "\n",
    "            if word ==endWord:\n",
    "                    return path\n",
    "\n",
    "            for j in range(len(word)):\n",
    "                for i in range(26):\n",
    "                    wordchanged = word[:j]+chr(97+i)+word[j+1:]\n",
    "\n",
    "                    if wordchanged not in visited and wordchanged in words:\n",
    "                        q.append(wordchanged)\n",
    "                        visited.add(wordchanged)\n",
    "        path += 1\n",
    "        print(q,visited)\n",
    "    return 0\n"
   ]
  },
  {
   "cell_type": "code",
   "execution_count": 29,
   "metadata": {},
   "outputs": [
    {
     "name": "stdout",
     "output_type": "stream",
     "text": [
      "deque(['hit']) {'hit'}\n",
      "deque(['hot']) {'hit', 'hot'}\n",
      "deque(['dot', 'lot']) {'hit', 'hot', 'dot', 'lot'}\n",
      "deque(['dog', 'log']) {'dog', 'hit', 'hot', 'log', 'lot', 'dot'}\n",
      "deque(['cog']) {'dog', 'hit', 'hot', 'log', 'cog', 'lot', 'dot'}\n"
     ]
    },
    {
     "data": {
      "text/plain": [
       "5"
      ]
     },
     "execution_count": 29,
     "metadata": {},
     "output_type": "execute_result"
    }
   ],
   "source": [
    "beginWord = \"hit\"\n",
    "endWord = \"cog\"\n",
    "wordList = [\"hot\", \"dot\", \"dog\", \"lot\", \"log\", \"cog\"]\n",
    "\n",
    "ladderLength(beginWord, endWord, wordList)\n"
   ]
  }
 ],
 "metadata": {
  "kernelspec": {
   "display_name": "base",
   "language": "python",
   "name": "python3"
  },
  "language_info": {
   "codemirror_mode": {
    "name": "ipython",
    "version": 3
   },
   "file_extension": ".py",
   "mimetype": "text/x-python",
   "name": "python",
   "nbconvert_exporter": "python",
   "pygments_lexer": "ipython3",
   "version": "3.8.8"
  },
  "orig_nbformat": 4,
  "vscode": {
   "interpreter": {
    "hash": "ad2bdc8ecc057115af97d19610ffacc2b4e99fae6737bb82f5d7fb13d2f2c186"
   }
  }
 },
 "nbformat": 4,
 "nbformat_minor": 2
}
