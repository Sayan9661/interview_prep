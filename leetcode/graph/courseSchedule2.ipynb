{
 "cells": [
  {
   "attachments": {},
   "cell_type": "markdown",
   "metadata": {},
   "source": [
    "## Topological Sort\n",
    "\n",
    "\n",
    "\n",
    "Run dfs on every node<br>\n",
    "As each node finishes add to output list<br>\n",
    "if there is cycle : as in if we detect back edge then return (We do this using a visiting set or color nodes(-1,0,1)) <br>\n",
    "return list of finished nodes."
   ]
  },
  {
   "attachments": {},
   "cell_type": "markdown",
   "metadata": {},
   "source": [
    "![](2023-01-25-19-43-22.png)"
   ]
  },
  {
   "cell_type": "code",
   "execution_count": 12,
   "metadata": {},
   "outputs": [],
   "source": [
    "#solution using DFS Topological sort\n",
    "def findOrder(numCourses: int, prerequisites):\n",
    "    res = []\n",
    "    visiting = set()\n",
    "    map = {i: [] for i in range(numCourses)}\n",
    "\n",
    "    #reverse pre and courses if we dont want to reverse the output or use queue\n",
    "    for course, pre in prerequisites:\n",
    "        map[pre].append(course)\n",
    "\n",
    "\n",
    "    print(map)\n",
    "    \n",
    "    def dfs(course):\n",
    "        \n",
    "        print(course,visiting,res)\n",
    "        \n",
    "        #loop detection: grey node(in dfs stack or path)\n",
    "        if course in visiting:\n",
    "            return False\n",
    "\n",
    "        #node finished:black node\n",
    "        if course in res:\n",
    "            return True\n",
    "\n",
    "        #add to dfs path stack\n",
    "        visiting.add(course)\n",
    "\n",
    "        #dfs : go down one path and then others\n",
    "        for pre in map[course]:\n",
    "            if dfs(pre) == False:\n",
    "                return False\n",
    "\n",
    "        #node finished visiting in dfs so remove from dfs stack\n",
    "        visiting.remove(course)\n",
    "        #append to list\n",
    "        res.append(course)\n",
    "\n",
    "        print(course,visiting,res)\n",
    "            \n",
    "    for i in range(numCourses):\n",
    "\n",
    "        if dfs(i) == False:\n",
    "            return []\n",
    "\n",
    "    return res[::-1]\n"
   ]
  },
  {
   "cell_type": "code",
   "execution_count": 13,
   "metadata": {},
   "outputs": [
    {
     "name": "stdout",
     "output_type": "stream",
     "text": [
      "{0: [1, 2], 1: [3], 2: [3], 3: []}\n",
      "0 set() []\n",
      "1 {0} []\n",
      "3 {0, 1} []\n",
      "3 {0, 1} [3]\n",
      "1 {0} [3, 1]\n",
      "2 {0} [3, 1]\n",
      "3 {0, 2} [3, 1]\n",
      "2 {0} [3, 1, 2]\n",
      "0 set() [3, 1, 2, 0]\n",
      "1 set() [3, 1, 2, 0]\n",
      "2 set() [3, 1, 2, 0]\n",
      "3 set() [3, 1, 2, 0]\n"
     ]
    },
    {
     "data": {
      "text/plain": [
       "[0, 2, 1, 3]"
      ]
     },
     "execution_count": 13,
     "metadata": {},
     "output_type": "execute_result"
    }
   ],
   "source": [
    "numCourses = 4\n",
    "prerequisites = [[1,0],[2,0],[3,1],[3,2]]\n",
    "findOrder(numCourses, prerequisites)\n"
   ]
  },
  {
   "attachments": {},
   "cell_type": "markdown",
   "metadata": {},
   "source": [
    "## BFS+queue: Topological sort:\n"
   ]
  },
  {
   "attachments": {},
   "cell_type": "markdown",
   "metadata": {},
   "source": [
    "![](2023-01-25-19-40-01.png)"
   ]
  },
  {
   "attachments": {},
   "cell_type": "markdown",
   "metadata": {},
   "source": [
    "![](2023-01-25-19-40-27.png)"
   ]
  },
  {
   "cell_type": "code",
   "execution_count": null,
   "metadata": {},
   "outputs": [],
   "source": []
  }
 ],
 "metadata": {
  "kernelspec": {
   "display_name": "base",
   "language": "python",
   "name": "python3"
  },
  "language_info": {
   "codemirror_mode": {
    "name": "ipython",
    "version": 3
   },
   "file_extension": ".py",
   "mimetype": "text/x-python",
   "name": "python",
   "nbconvert_exporter": "python",
   "pygments_lexer": "ipython3",
   "version": "3.8.8"
  },
  "orig_nbformat": 4,
  "vscode": {
   "interpreter": {
    "hash": "ad2bdc8ecc057115af97d19610ffacc2b4e99fae6737bb82f5d7fb13d2f2c186"
   }
  }
 },
 "nbformat": 4,
 "nbformat_minor": 2
}
