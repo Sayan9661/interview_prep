{
 "cells": [
  {
   "attachments": {},
   "cell_type": "markdown",
   "metadata": {},
   "source": [
    "# Intuition\n",
    "Use disjoint sets/union find.\n",
    "\n",
    "find parents of vertices for edge(in edge list)\n",
    "if absolute parents are equal return vetices.(as adding that edge would result in loop)\n",
    "else make one absolute parent point to another(union)\n",
    "\n",
    "\n",
    "parent list index is vertex number and value is the parent vertex\n",
    "\n",
    "\n",
    "\n",
    "# Complexity\n",
    "- Time complexity:\n",
    "O(E.V)\n",
    "\n",
    "- Space complexity:\n",
    "O(v)\n"
   ]
  },
  {
   "attachments": {},
   "cell_type": "markdown",
   "metadata": {},
   "source": [
    "![](2023-01-25-02-11-06.png)"
   ]
  },
  {
   "cell_type": "code",
   "execution_count": 1,
   "metadata": {},
   "outputs": [],
   "source": [
    "def findRedundantConnection(edges):\n",
    "\n",
    "    parent = [i for i in range(len(edges))]\n",
    "\n",
    "    def find(node):\n",
    "\n",
    "        while parent[node] != node:\n",
    "            node = parent[node]\n",
    "        return node\n",
    "\n",
    "    for v1, v2 in edges:\n",
    "        v1 -= 1\n",
    "        v2 -= 1\n",
    "        pa1 = find(v1)\n",
    "        pa2 = find(v2)\n",
    "        if pa1 == pa2:\n",
    "            return [v1+1, v2+1]\n",
    "        else:\n",
    "            parent[pa1] = pa2\n"
   ]
  },
  {
   "cell_type": "code",
   "execution_count": 2,
   "metadata": {},
   "outputs": [
    {
     "data": {
      "text/plain": [
       "[2, 3]"
      ]
     },
     "execution_count": 2,
     "metadata": {},
     "output_type": "execute_result"
    }
   ],
   "source": [
    "edges = [[1,2],[1,3],[2,3]]\n",
    "findRedundantConnection(edges)\n"
   ]
  },
  {
   "attachments": {},
   "cell_type": "markdown",
   "metadata": {},
   "source": [
    "## optimize find by path compression and union do by rank"
   ]
  },
  {
   "attachments": {},
   "cell_type": "markdown",
   "metadata": {},
   "source": [
    "find/union: O(V) to O(log V) \n",
    "\n",
    "So , overall O(E.log V)"
   ]
  },
  {
   "attachments": {},
   "cell_type": "markdown",
   "metadata": {},
   "source": [
    "![](2023-01-25-02-05-35.png)"
   ]
  },
  {
   "cell_type": "code",
   "execution_count": 1,
   "metadata": {},
   "outputs": [],
   "source": [
    "def findRedundantConnection(edges):\n",
    "\n",
    "    parent = [i for i in range(len(edges))]\n",
    "    rank = [0] * len(edges)\n",
    "\n",
    "    def find(node):\n",
    "\n",
    "        while parent[node] != node:\n",
    "            #path compression\n",
    "            parent[node] = parent[parent[node]]\n",
    "            node = parent[node]\n",
    "        return node\n",
    "\n",
    "    for v1, v2 in edges:\n",
    "        v1 -= 1\n",
    "        v2 -= 1\n",
    "        pa1 = find(v1)\n",
    "        pa2 = find(v2)\n",
    "        if pa1 == pa2:\n",
    "            return [v1+1, v2+1]\n",
    "\n",
    "        if rank[pa1] > rank[pa2]:\n",
    "            parent[pa2] = pa1\n",
    "        elif rank[pa2] < rank[pa1]:\n",
    "            parent[pa1] = pa2\n",
    "        else:\n",
    "            parent[pa1] = pa2\n",
    "            rank[pa2] += 1\n"
   ]
  },
  {
   "cell_type": "code",
   "execution_count": 2,
   "metadata": {},
   "outputs": [
    {
     "data": {
      "text/plain": [
       "[2, 3]"
      ]
     },
     "execution_count": 2,
     "metadata": {},
     "output_type": "execute_result"
    }
   ],
   "source": [
    "edges = [[1, 2], [1, 3], [2, 3]]\n",
    "findRedundantConnection(edges)\n"
   ]
  },
  {
   "attachments": {},
   "cell_type": "markdown",
   "metadata": {},
   "source": [
    "![](2023-01-25-02-05-27.png)\n"
   ]
  }
 ],
 "metadata": {
  "kernelspec": {
   "display_name": "base",
   "language": "python",
   "name": "python3"
  },
  "language_info": {
   "codemirror_mode": {
    "name": "ipython",
    "version": 3
   },
   "file_extension": ".py",
   "mimetype": "text/x-python",
   "name": "python",
   "nbconvert_exporter": "python",
   "pygments_lexer": "ipython3",
   "version": "3.8.8 (default, Apr 13 2021, 15:08:03) [MSC v.1916 64 bit (AMD64)]"
  },
  "orig_nbformat": 4,
  "vscode": {
   "interpreter": {
    "hash": "ad2bdc8ecc057115af97d19610ffacc2b4e99fae6737bb82f5d7fb13d2f2c186"
   }
  }
 },
 "nbformat": 4,
 "nbformat_minor": 2
}
