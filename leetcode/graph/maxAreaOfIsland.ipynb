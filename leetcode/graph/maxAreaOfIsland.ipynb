{
 "cells": [
  {
   "attachments": {},
   "cell_type": "markdown",
   "metadata": {},
   "source": [
    "![](2023-01-19-10-28-45.png)"
   ]
  },
  {
   "attachments": {},
   "cell_type": "markdown",
   "metadata": {},
   "source": [
    "## logic:\n",
    "iterate over all the cells and if 1 then island<br>\n",
    "use recursive dfs to search for adjacent cells with 1 and make them 0 as visited(drown the island)<br>\n",
    "store all the areas and find max."
   ]
  },
  {
   "cell_type": "code",
   "execution_count": 4,
   "metadata": {},
   "outputs": [],
   "source": [
    "def maxAreaOfIsland(grid) -> int:\n",
    "\n",
    "    ROWS, COLS = len(grid), len(grid[0])\n",
    "    area = []\n",
    "\n",
    "    def dfs(r, c, i):\n",
    "        \n",
    "        \n",
    "        #check id the cell is out of bounds or 0\n",
    "        if (\n",
    "            r < 0 or\n",
    "            c < 0 or\n",
    "            r >= ROWS or\n",
    "            c >= COLS or\n",
    "            grid[r][c] == 0\n",
    "        ):\n",
    "            return\n",
    "\n",
    "        #add to area and make cell 0 to mark as visited\n",
    "        area[i] += 1\n",
    "        grid[r][c] = 0\n",
    "\n",
    "        #recursively search adjacent cells\n",
    "        dfs(r+1, c, i)\n",
    "        dfs(r-1, c, i)\n",
    "        dfs(r, c+1, i)\n",
    "        dfs(r, c-1, i)\n",
    "        return\n",
    "\n",
    "    \n",
    "    #iterate over all the cells\n",
    "    count = 0\n",
    "    for i in range(ROWS):\n",
    "        for j in range(COLS):\n",
    "            \n",
    "            #if the cell is 1 then possible island so start dfs\n",
    "            if grid[i][j] == 1:\n",
    "                area.append(0)\n",
    "                dfs(i, j, count)\n",
    "                count += 1\n",
    "\n",
    "    print(area)\n",
    "    return max(area) if area else 0\n"
   ]
  },
  {
   "cell_type": "code",
   "execution_count": 3,
   "metadata": {},
   "outputs": [
    {
     "name": "stdout",
     "output_type": "stream",
     "text": [
      "[1, 4, 4, 5, 6, 5]\n"
     ]
    },
    {
     "data": {
      "text/plain": [
       "6"
      ]
     },
     "execution_count": 3,
     "metadata": {},
     "output_type": "execute_result"
    }
   ],
   "source": [
    "grid = [[0,0,1,0,0,0,0,1,0,0,0,0,0],\n",
    "        [0,0,0,0,0,0,0,1,1,1,0,0,0],\n",
    "        [0,1,1,0,1,0,0,0,0,0,0,0,0],\n",
    "        [0,1,0,0,1,1,0,0,1,0,1,0,0],\n",
    "        [0,1,0,0,1,1,0,0,1,1,1,0,0],\n",
    "        [0,0,0,0,0,0,0,0,0,0,1,0,0],\n",
    "        [0,0,0,0,0,0,0,1,1,1,0,0,0],\n",
    "        [0,0,0,0,0,0,0,1,1,0,0,0,0]]\n",
    "\n",
    "\n",
    "maxAreaOfIsland(grid)\n"
   ]
  }
 ],
 "metadata": {
  "kernelspec": {
   "display_name": "base",
   "language": "python",
   "name": "python3"
  },
  "language_info": {
   "codemirror_mode": {
    "name": "ipython",
    "version": 3
   },
   "file_extension": ".py",
   "mimetype": "text/x-python",
   "name": "python",
   "nbconvert_exporter": "python",
   "pygments_lexer": "ipython3",
   "version": "3.8.8 (default, Apr 13 2021, 15:08:03) [MSC v.1916 64 bit (AMD64)]"
  },
  "orig_nbformat": 4,
  "vscode": {
   "interpreter": {
    "hash": "ad2bdc8ecc057115af97d19610ffacc2b4e99fae6737bb82f5d7fb13d2f2c186"
   }
  }
 },
 "nbformat": 4,
 "nbformat_minor": 2
}
