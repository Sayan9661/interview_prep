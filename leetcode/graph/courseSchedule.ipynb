{
 "cells": [
  {
   "attachments": {},
   "cell_type": "markdown",
   "metadata": {},
   "source": [
    "## Classic problem of detecting loop in graph:\n",
    "\n",
    "Use the DFS to detect back edge stratrgy<br>\n",
    "#can't do floyds as this is a graph no a linked list\n",
    "\n",
    "    #here we will use dfs to detect loop\n",
    "     #In DFS for graph, if there is a loop , then DFS produces a back edge that is\n",
    "    #an edge the points back to a node in the current dfs visited path.\n"
   ]
  },
  {
   "attachments": {},
   "cell_type": "markdown",
   "metadata": {},
   "source": [
    "https://leetcode.com/problems/course-schedule/solutions/441722/python-99-time-and-100-space-collection-of-solutions-with-explanation/?orderBy=most_votes"
   ]
  },
  {
   "cell_type": "code",
   "execution_count": null,
   "metadata": {},
   "outputs": [],
   "source": [
    "def canFinish(numCourses, prerequisites) -> bool:\n",
    "    \n",
    "\n",
    "    #this set will hold all the node in the current dfs path so we can detect back edge\n",
    "    visiting = set()\n",
    "\n",
    "    adj_list = {i: [] for i in range(numCourses)}\n",
    "\n",
    "    #fill in the adjacency list. course-->prereq\n",
    "    for course, prereq in prerequisites:\n",
    "        adj_list[course].append(prereq)\n",
    "\n",
    "    def dfs(crs):\n",
    "\n",
    "        if crs in visiting:\n",
    "            return False\n",
    "\n",
    "        if not adj_list[crs]:\n",
    "            return True\n",
    "\n",
    "        #add node to the dfs path\n",
    "        visiting.add(crs)\n",
    "\n",
    "        for course in adj_list[crs]:\n",
    "            if not dfs(course):\n",
    "                return False\n",
    "\n",
    "        #remove from the dfs path as we are done with this node\n",
    "        visiting.remove(crs)\n",
    "\n",
    "        #mark node as safe(visited too) that is from here there is no cycle so we remove elements from it's adjacency list because we dont want to do dfs from this node again\n",
    "        adj_list[crs] = []\n",
    "\n",
    "        return True\n",
    "\n",
    "    #could be a disconnect graph so we need to check all the components\n",
    "    for i in range(numCourses):\n",
    "        if not dfs(i):\n",
    "            return False\n",
    "\n",
    "    return True\n"
   ]
  },
  {
   "cell_type": "code",
   "execution_count": 1,
   "metadata": {},
   "outputs": [],
   "source": [
    "def canFinish(self, numCourses, prerequisites):\n",
    "    graph = [[] for _ in range(numCourses)]\n",
    "    visit = [0 for _ in range(numCourses)]\n",
    "    for x, y in prerequisites:\n",
    "        graph[x].append(y)\n",
    "\n",
    "    def dfs(i):\n",
    "        if visit[i] == -1:\n",
    "            return False\n",
    "        if visit[i] == 1:\n",
    "            return True\n",
    "        visit[i] = -1\n",
    "        for j in graph[i]:\n",
    "            if not dfs(j):\n",
    "                return False\n",
    "        visit[i] = 1\n",
    "        return True\n",
    "    for i in range(numCourses):\n",
    "        if not dfs(i):\n",
    "            return False\n",
    "    return True\n"
   ]
  },
  {
   "cell_type": "code",
   "execution_count": 6,
   "metadata": {},
   "outputs": [
    {
     "data": {
      "text/plain": [
       "[0, 0, 0, 0, 0, 0, 0, 0, 0, 0, 0, 0, 0, 0, 0, 0, 0, 0, 0, 0, 0, 0, 0, 0, 0, 0]"
      ]
     },
     "execution_count": 6,
     "metadata": {},
     "output_type": "execute_result"
    }
   ],
   "source": [
    "list(range(10))\n",
    "state=[0]*26\n",
    "state"
   ]
  }
 ],
 "metadata": {
  "kernelspec": {
   "display_name": "base",
   "language": "python",
   "name": "python3"
  },
  "language_info": {
   "codemirror_mode": {
    "name": "ipython",
    "version": 3
   },
   "file_extension": ".py",
   "mimetype": "text/x-python",
   "name": "python",
   "nbconvert_exporter": "python",
   "pygments_lexer": "ipython3",
   "version": "3.8.8 (default, Apr 13 2021, 15:08:03) [MSC v.1916 64 bit (AMD64)]"
  },
  "orig_nbformat": 4,
  "vscode": {
   "interpreter": {
    "hash": "ad2bdc8ecc057115af97d19610ffacc2b4e99fae6737bb82f5d7fb13d2f2c186"
   }
  }
 },
 "nbformat": 4,
 "nbformat_minor": 2
}
