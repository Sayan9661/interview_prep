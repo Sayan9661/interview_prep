{
 "cells": [
  {
   "attachments": {},
   "cell_type": "markdown",
   "metadata": {},
   "source": [
    "## logic:\n",
    "first marks all regions with 'T' that are unsurrounded.(Regions formed by border cell'O')<br>\n",
    "then loop and change all the other values to 'X and change 'T back to 'O'"
   ]
  },
  {
   "attachments": {},
   "cell_type": "markdown",
   "metadata": {},
   "source": [
    "![](2023-01-20-15-23-51.png)"
   ]
  },
  {
   "cell_type": "code",
   "execution_count": 6,
   "metadata": {},
   "outputs": [],
   "source": [
    "import numpy as np\n",
    "def solve(board) -> None:\n",
    "    ROWS, COLS = len(board), len(board[0])\n",
    "\n",
    "    #dfs to cpature the regions not surrounded by 'x'\n",
    "    def dfs(r, c):\n",
    "        if(\n",
    "            r < 0 or\n",
    "            c < 0 or\n",
    "            r == ROWS or\n",
    "            c == COLS or\n",
    "            board[r][c] != 'O'\n",
    "        ):\n",
    "            return\n",
    "\n",
    "        #this also marks cell as previously visited by dfs so we will not run dfs on it again in following loop\n",
    "        board[r][c] = 'T'\n",
    "\n",
    "        dfs(r+1, c)\n",
    "        dfs(r-1, c)\n",
    "        dfs(r, c+1)\n",
    "        dfs(r, c-1)\n",
    "\n",
    "    #only border cells and regions formed by them will not be surrounded\n",
    "    for r in range(ROWS):\n",
    "        for c in range(COLS):\n",
    "            if board[r][c] == 'O' and (r in [0, ROWS-1] or c in [0, COLS-1]):\n",
    "                dfs(r, c)\n",
    "\n",
    "    print(np.matrix(board).view())\n",
    "    #turn all regions except the ones unsurrounded to 'O'\n",
    "    for r in range(ROWS):\n",
    "        for c in range(COLS):\n",
    "            if board[r][c] == 'O':\n",
    "                board[r][c] = 'X'\n",
    "            elif board[r][c] == 'T':\n",
    "                board[r][c] = 'O'\n"
   ]
  },
  {
   "cell_type": "code",
   "execution_count": 9,
   "metadata": {},
   "outputs": [
    {
     "name": "stdout",
     "output_type": "stream",
     "text": [
      "[['X' 'X' 'X' 'X']\n",
      " ['X' 'X' 'O' 'X']\n",
      " ['X' 'O' 'X' 'X']\n",
      " ['X' 'O' 'X' 'X']]\n",
      "\n",
      "\n",
      "[['X' 'X' 'X' 'X']\n",
      " ['X' 'X' 'O' 'X']\n",
      " ['X' 'T' 'X' 'X']\n",
      " ['X' 'T' 'X' 'X']]\n",
      "\n",
      "\n",
      "[['X' 'X' 'X' 'X']\n",
      " ['X' 'X' 'X' 'X']\n",
      " ['X' 'O' 'X' 'X']\n",
      " ['X' 'O' 'X' 'X']]\n"
     ]
    }
   ],
   "source": [
    "import numpy as np\n",
    "board = [[\"X\",\"X\",\"X\",\"X\"],\n",
    "         [\"X\",\"X\",\"O\",\"X\"],\n",
    "         [\"X\",\"O\",\"X\",\"X\"],\n",
    "         [\"X\",\"O\",\"X\",\"X\"]]\n",
    "print(np.matrix(board).view())\n",
    "print()\n",
    "print()\n",
    "solve(board)\n",
    "print()\n",
    "print()\n",
    "print(np.matrix(board).view())\n"
   ]
  }
 ],
 "metadata": {
  "kernelspec": {
   "display_name": "base",
   "language": "python",
   "name": "python3"
  },
  "language_info": {
   "codemirror_mode": {
    "name": "ipython",
    "version": 3
   },
   "file_extension": ".py",
   "mimetype": "text/x-python",
   "name": "python",
   "nbconvert_exporter": "python",
   "pygments_lexer": "ipython3",
   "version": "3.8.8"
  },
  "orig_nbformat": 4,
  "vscode": {
   "interpreter": {
    "hash": "ad2bdc8ecc057115af97d19610ffacc2b4e99fae6737bb82f5d7fb13d2f2c186"
   }
  }
 },
 "nbformat": 4,
 "nbformat_minor": 2
}
