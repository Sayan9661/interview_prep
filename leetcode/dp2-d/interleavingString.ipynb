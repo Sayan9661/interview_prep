{
 "cells": [
  {
   "attachments": {},
   "cell_type": "markdown",
   "metadata": {},
   "source": [
    "### DFS+memoization:"
   ]
  },
  {
   "attachments": {},
   "cell_type": "markdown",
   "metadata": {},
   "source": [
    "![](2023-02-04-03-23-05.png)"
   ]
  },
  {
   "attachments": {},
   "cell_type": "markdown",
   "metadata": {},
   "source": [
    "### bottom up dp:"
   ]
  },
  {
   "attachments": {},
   "cell_type": "markdown",
   "metadata": {},
   "source": [
    "![](2023-02-04-03-23-55.png)"
   ]
  },
  {
   "cell_type": "code",
   "execution_count": 1,
   "metadata": {},
   "outputs": [
    {
     "data": {
      "text/plain": [
       "False"
      ]
     },
     "execution_count": 1,
     "metadata": {},
     "output_type": "execute_result"
    }
   ],
   "source": [
    "def isInterleave(s1: str, s2: str, s3: str) -> bool:\n",
    "    #DFS+memoization\n",
    "    dp={}#key--->(idx1,idx2)\n",
    "    def dfs(idx1,idx2):\n",
    "        if idx1==len(s1) and idx2==len(s3):\n",
    "            return True\n",
    "        if (idx1,idx2) in dp:\n",
    "            return dp[(idx1,idx2)]\n",
    "\n",
    "        if idx1<len(s1) and s1[idx1]==s3[idx1+idx2]:\n",
    "            if dfs(idx1+1,idx2):\n",
    "                return True\n",
    "\n",
    "        if idx2<len(s2) and s2[idx2]==s3[idx1+idx2]:\n",
    "            if dfs(idx1,idx2+1):\n",
    "                return True\n",
    "        dp[(idx1,idx2)]=False\n",
    "        return False\n",
    "    return dfs(0,0)\n",
    "\n",
    "s1 = \"aabcc\"\n",
    "s2 = \"dbbca\"\n",
    "s3 = \"aadbbcbcac\"\n",
    "isInterleave(s1,s2,s3)"
   ]
  },
  {
   "cell_type": "code",
   "execution_count": 2,
   "metadata": {},
   "outputs": [],
   "source": [
    "\n",
    "def isInterleave( s1: str, s2: str, s3: str) -> bool:\n",
    "        if len(s1) + len(s2) != len(s3):\n",
    "            return False\n",
    "\n",
    "        dp = [[False] * (len(s2) + 1) for i in range(len(s1) + 1)]\n",
    "        dp[len(s1)][len(s2)] = True\n",
    "\n",
    "        for i in range(len(s1), -1, -1):\n",
    "            for j in range(len(s2), -1, -1):\n",
    "                #char match --> if rest of strings can interleave set true\n",
    "                if i < len(s1) and s1[i] == s3[i + j] and dp[i + 1][j]:\n",
    "                    dp[i][j] = True\n",
    "                if j < len(s2) and s2[j] == s3[i + j] and dp[i][j + 1]:\n",
    "                    dp[i][j] = True\n",
    "        return dp[0][0]"
   ]
  }
 ],
 "metadata": {
  "kernelspec": {
   "display_name": "base",
   "language": "python",
   "name": "python3"
  },
  "language_info": {
   "codemirror_mode": {
    "name": "ipython",
    "version": 3
   },
   "file_extension": ".py",
   "mimetype": "text/x-python",
   "name": "python",
   "nbconvert_exporter": "python",
   "pygments_lexer": "ipython3",
   "version": "3.8.16"
  },
  "orig_nbformat": 4,
  "vscode": {
   "interpreter": {
    "hash": "ad2bdc8ecc057115af97d19610ffacc2b4e99fae6737bb82f5d7fb13d2f2c186"
   }
  }
 },
 "nbformat": 4,
 "nbformat_minor": 2
}
