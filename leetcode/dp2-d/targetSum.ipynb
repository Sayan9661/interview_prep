{
 "cells": [
  {
   "attachments": {},
   "cell_type": "markdown",
   "metadata": {},
   "source": [
    "![](2023-02-04-02-28-54.png)"
   ]
  },
  {
   "attachments": {},
   "cell_type": "markdown",
   "metadata": {},
   "source": [
    "![](2023-02-04-02-28-24.png)"
   ]
  },
  {
   "attachments": {},
   "cell_type": "markdown",
   "metadata": {},
   "source": [
    "## Logic:\n",
    "As we can see above at each node in the decision tree, we can either add +nums[i] or -nums[i].<br>\n",
    "So we have 2 decisions at each point and height of tree is n --->O(2^n)\n",
    "\n",
    "so we do what we do,\n",
    "DFS+memoization:\n",
    "use the index and num value as key in hashmap or a 2-d array.---O(n*sum(nums)), we take sum(nums) as that is the max number of values we can cache ---->works because this is worst case complexity O()."
   ]
  },
  {
   "cell_type": "code",
   "execution_count": 2,
   "metadata": {},
   "outputs": [],
   "source": [
    "def findTargetSumWays(nums, target: int) -> int:\n",
    "        \n",
    "    dp={}\n",
    "    def dfs(idx,num):\n",
    "        if (idx,num) in dp:\n",
    "            return dp[(idx,num)]\n",
    "\n",
    "        if idx==len(nums):\n",
    "            if num==target:\n",
    "                dp[(idx,num)]=1\n",
    "                return dp[(idx,num)]\n",
    "            else:\n",
    "                dp[(idx,num)]=0\n",
    "                return dp[(idx,num)]\n",
    "        \n",
    "\n",
    "        dp[(idx,num)]=dfs(idx+1,num+nums[idx])+dfs(idx+1,num-nums[idx])\n",
    "        return dp[(idx,num)]\n",
    "    return dfs(0,0)"
   ]
  },
  {
   "cell_type": "code",
   "execution_count": 3,
   "metadata": {},
   "outputs": [
    {
     "data": {
      "text/plain": [
       "5"
      ]
     },
     "execution_count": 3,
     "metadata": {},
     "output_type": "execute_result"
    }
   ],
   "source": [
    "nums = [1,1,1,1,1]\n",
    "target = 3\n",
    "findTargetSumWays(nums, target)"
   ]
  }
 ],
 "metadata": {
  "kernelspec": {
   "display_name": "base",
   "language": "python",
   "name": "python3"
  },
  "language_info": {
   "codemirror_mode": {
    "name": "ipython",
    "version": 3
   },
   "file_extension": ".py",
   "mimetype": "text/x-python",
   "name": "python",
   "nbconvert_exporter": "python",
   "pygments_lexer": "ipython3",
   "version": "3.8.16"
  },
  "orig_nbformat": 4,
  "vscode": {
   "interpreter": {
    "hash": "ad2bdc8ecc057115af97d19610ffacc2b4e99fae6737bb82f5d7fb13d2f2c186"
   }
  }
 },
 "nbformat": 4,
 "nbformat_minor": 2
}
