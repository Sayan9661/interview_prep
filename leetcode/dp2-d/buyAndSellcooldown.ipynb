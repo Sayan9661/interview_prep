{
 "cells": [
  {
   "attachments": {},
   "cell_type": "markdown",
   "metadata": {},
   "source": [
    "![](2023-02-03-23-10-08.png)"
   ]
  },
  {
   "attachments": {},
   "cell_type": "markdown",
   "metadata": {},
   "source": [
    "## logic: DFS+memoization(with 2 states nuy/sell and idx of the array)\n",
    "At each node in the decision tree we have 2 possiblities we can buy/sell(depending on what we did last) or cooldown for one stage.<br>\n",
    "\n",
    "we do memoization of 2 states:<br>\n",
    "1. buy /sell state \n",
    "2. the idx in the array at which we are.\n",
    "\n"
   ]
  },
  {
   "cell_type": "code",
   "execution_count": 3,
   "metadata": {},
   "outputs": [
    {
     "name": "stdout",
     "output_type": "stream",
     "text": [
      "True 4 0\n",
      "False 4 2\n",
      "True 3 2\n",
      "False 3 2\n",
      "True 2 2\n",
      "False 2 3\n",
      "True 1 2\n",
      "False 1 4\n",
      "True 0 3\n"
     ]
    },
    {
     "data": {
      "text/plain": [
       "3"
      ]
     },
     "execution_count": 3,
     "metadata": {},
     "output_type": "execute_result"
    }
   ],
   "source": [
    "def maxProfit(prices) -> int:\n",
    "    #dp hashmap saves the states: buy/sell and the index\n",
    "\n",
    "    dp = {}  # (buy/sell,index)--->key:value=(the net profit)\n",
    "\n",
    "    netProfit = 0\n",
    "\n",
    "    def dfs(buy, idx):\n",
    "        #base cases\n",
    "        if idx >= len(prices):\n",
    "            return 0\n",
    "        if (buy, idx) in dp:\n",
    "            return dp[(buy, idx)]\n",
    "\n",
    "        #we can choose cooldown\n",
    "        profitcool = dfs(buy, idx+1)\n",
    "        \n",
    "        #if we buy we call dfs with sell state\n",
    "        if buy:\n",
    "            netProfit = dfs(not buy, idx+1)-prices[idx]\n",
    "            maxProfit = max(profitcool, netProfit)\n",
    "\n",
    "        #if we sell we call dfs with buy state\n",
    "        if not buy:\n",
    "            netProfit = dfs(not buy, idx+2)+prices[idx]\n",
    "            maxProfit = max(profitcool, netProfit)\n",
    "\n",
    "        dp[(buy, idx)] = maxProfit\n",
    "        print(buy,idx,maxProfit)\n",
    "        return dp[(buy, idx)]\n",
    "    return dfs(True, 0)\n",
    "\n",
    "\n",
    "prices = [1, 2, 3, 0, 2]\n",
    "maxProfit(prices)\n"
   ]
  },
  {
   "cell_type": "code",
   "execution_count": 9,
   "metadata": {},
   "outputs": [
    {
     "name": "stdout",
     "output_type": "stream",
     "text": [
      "True 4 0\n",
      "False 4 2\n",
      "True 3 2\n",
      "False 3 2\n",
      "True 2 2\n",
      "False 2 3\n",
      "True 1 2\n",
      "False 1 4\n",
      "True 0 3\n"
     ]
    },
    {
     "data": {
      "text/plain": [
       "3"
      ]
     },
     "execution_count": 9,
     "metadata": {},
     "output_type": "execute_result"
    }
   ],
   "source": [
    "prices = [1,2,3,0,2]\n",
    "maxProfit(prices)\n"
   ]
  }
 ],
 "metadata": {
  "kernelspec": {
   "display_name": "base",
   "language": "python",
   "name": "python3"
  },
  "language_info": {
   "codemirror_mode": {
    "name": "ipython",
    "version": 3
   },
   "file_extension": ".py",
   "mimetype": "text/x-python",
   "name": "python",
   "nbconvert_exporter": "python",
   "pygments_lexer": "ipython3",
   "version": "3.8.16"
  },
  "orig_nbformat": 4,
  "vscode": {
   "interpreter": {
    "hash": "ad2bdc8ecc057115af97d19610ffacc2b4e99fae6737bb82f5d7fb13d2f2c186"
   }
  }
 },
 "nbformat": 4,
 "nbformat_minor": 2
}
