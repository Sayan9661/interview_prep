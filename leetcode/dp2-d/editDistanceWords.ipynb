{
 "cells": [
  {
   "attachments": {},
   "cell_type": "markdown",
   "metadata": {},
   "source": [
    "![](2023-02-06-21-27-21.png)"
   ]
  },
  {
   "attachments": {},
   "cell_type": "markdown",
   "metadata": {},
   "source": []
  },
  {
   "cell_type": "code",
   "execution_count": 8,
   "metadata": {},
   "outputs": [],
   "source": [
    "import numpy as np\n",
    "def minDistance( word1: str, word2: str) -> int:\n",
    "    cache=[[float('inf')]*(len(word2)+1) for i in range(len(word1)+1)]\n",
    "\n",
    "    for j in range(len(word2)+1):\n",
    "        cache[0][j]=j\n",
    "    \n",
    "    \n",
    "    for i in range(len(word1)+1):\n",
    "        cache[i][0]=i\n",
    "    \n",
    "    for i in range(1,len(word1)+1):\n",
    "        for j in range(1,len(word2)+1):\n",
    "            if word1[i-1]==word2[j-1]:\n",
    "                cache[i][j]=cache[i-1][j-1]\n",
    "            else:\n",
    "                cache[i][j]=1+ min(cache[i-1][j],cache[i][j-1],cache[i-1][j-1])\n",
    "    print(np.matrix(cache).view())\n",
    "    return cache[-1][-1]"
   ]
  },
  {
   "cell_type": "code",
   "execution_count": 9,
   "metadata": {},
   "outputs": [
    {
     "name": "stdout",
     "output_type": "stream",
     "text": [
      "[[0 1 2 3]\n",
      " [1 0 1 2]\n",
      " [2 1 1 2]\n",
      " [3 2 2 1]]\n"
     ]
    },
    {
     "data": {
      "text/plain": [
       "1"
      ]
     },
     "execution_count": 9,
     "metadata": {},
     "output_type": "execute_result"
    }
   ],
   "source": [
    "word2='acd'\n",
    "word1='abd'\n",
    "minDistance(word1,word2)"
   ]
  }
 ],
 "metadata": {
  "kernelspec": {
   "display_name": "base",
   "language": "python",
   "name": "python3"
  },
  "language_info": {
   "codemirror_mode": {
    "name": "ipython",
    "version": 3
   },
   "file_extension": ".py",
   "mimetype": "text/x-python",
   "name": "python",
   "nbconvert_exporter": "python",
   "pygments_lexer": "ipython3",
   "version": "3.8.16"
  },
  "orig_nbformat": 4,
  "vscode": {
   "interpreter": {
    "hash": "ad2bdc8ecc057115af97d19610ffacc2b4e99fae6737bb82f5d7fb13d2f2c186"
   }
  }
 },
 "nbformat": 4,
 "nbformat_minor": 2
}
