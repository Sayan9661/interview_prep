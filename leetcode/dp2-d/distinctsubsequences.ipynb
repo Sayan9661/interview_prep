{
 "cells": [
  {
   "attachments": {},
   "cell_type": "markdown",
   "metadata": {},
   "source": [
    "https://leetcode.com/problems/distinct-subsequences/solutions/572192/understand-dp-through-question-115-explanation-with-pictures/?orderBy=most_votes"
   ]
  },
  {
   "attachments": {},
   "cell_type": "markdown",
   "metadata": {},
   "source": [
    "![](2023-02-11-18-04-21.png)"
   ]
  },
  {
   "cell_type": "code",
   "execution_count": 3,
   "metadata": {},
   "outputs": [],
   "source": [
    "def numDistinct(self, s: str, t: str) -> int:\n",
    "    dp={}\n",
    "\n",
    "    def dfs(idxS,idxT):\n",
    "        \n",
    "        if idxT==len(t):\n",
    "            return 1\n",
    "        \n",
    "        \n",
    "        if idxS==len(s):\n",
    "            return 0\n",
    "        \n",
    "        if (idxS,idxT) in dp:\n",
    "            return dp[(idxS,idxT)]\n",
    "        \n",
    "        # ways=0\n",
    "        \n",
    "        #if the characters match then we can check for subsequences including or excludind the curr char in s\n",
    "        if s[idxS]==t[idxT]:\n",
    "            dp[(idxS,idxT)]=dfs(idxS+1,idxT+1)+dfs(idxS+1,idxT)\n",
    "        \n",
    "        # if they dont match then take the next character and try\n",
    "        else:\n",
    "            dp[(idxS,idxT)]=dfs(idxS+1,idxT)\n",
    "        return dp[(idxS,idxT)]\n",
    "    return dfs(0,0)"
   ]
  },
  {
   "cell_type": "code",
   "execution_count": 2,
   "metadata": {},
   "outputs": [],
   "source": [
    "def numDistinct(self, s, t):\n",
    "        dp = [[0] * (len(s) + 1) for _ in range(len(t) + 1)]\n",
    "        for col in range(len(dp[0])):\n",
    "            dp[0][col] = 1\n",
    "        for x in range(1, len(s) + 1):\n",
    "            for y in range(1, len(t) + 1):\n",
    "                if s[x - 1] == t[y - 1]:\n",
    "                    dp[y][x] = dp[y - 1][x - 1] + dp[y][x - 1]\n",
    "                else:\n",
    "                    dp[y][x] = dp[y][x - 1]\n",
    "        return dp[-1][-1]"
   ]
  }
 ],
 "metadata": {
  "kernelspec": {
   "display_name": "base",
   "language": "python",
   "name": "python3"
  },
  "language_info": {
   "codemirror_mode": {
    "name": "ipython",
    "version": 3
   },
   "file_extension": ".py",
   "mimetype": "text/x-python",
   "name": "python",
   "nbconvert_exporter": "python",
   "pygments_lexer": "ipython3",
   "version": "3.8.16"
  },
  "orig_nbformat": 4,
  "vscode": {
   "interpreter": {
    "hash": "ad2bdc8ecc057115af97d19610ffacc2b4e99fae6737bb82f5d7fb13d2f2c186"
   }
  }
 },
 "nbformat": 4,
 "nbformat_minor": 2
}
