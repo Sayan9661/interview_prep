{
 "cells": [
  {
   "cell_type": "code",
   "execution_count": 1,
   "metadata": {},
   "outputs": [],
   "source": [
    "def longestIncreasingPath(matrix) -> int:\n",
    "    maxPath=0\n",
    "    \n",
    "    #memoize the max path from a cell\n",
    "    dp={}\n",
    "    def dfs(i,j,prev):\n",
    "        \n",
    "        #index out of bounds\n",
    "        if i<0 or i>len(matrix)-1 or j<0 or j>len(matrix[0])-1:\n",
    "            return 0\n",
    "        \n",
    "        #if the values of current cell is less ---> cant go back to the prev cell also\n",
    "        if matrix[i][j]<=prev:\n",
    "            return 0\n",
    "        \n",
    "        #if already computed return the memoized val\n",
    "        if (i,j) in dp:\n",
    "            return dp[(i,j)]\n",
    "        \n",
    "        #check for path in all directions and find the max\n",
    "        pathLen=max(dfs(i+1,j,matrix[i][j]),dfs(i,j+1,matrix[i][j]),dfs(i-1,j,matrix[i][j]),dfs(i,j-1,matrix[i][j]))\n",
    "        dp[(i,j)]=1+pathLen\n",
    "        return dp[(i,j)]\n",
    "    \n",
    "    #start from each cell and try to find max path\n",
    "    for i in range(len(matrix)):\n",
    "        for j in range(len(matrix[0])):\n",
    "            maxPath=max(dfs(i,j,-1),maxPath)\n",
    "\n",
    "    return maxPath"
   ]
  },
  {
   "cell_type": "code",
   "execution_count": null,
   "metadata": {},
   "outputs": [],
   "source": []
  }
 ],
 "metadata": {
  "kernelspec": {
   "display_name": "base",
   "language": "python",
   "name": "python3"
  },
  "language_info": {
   "codemirror_mode": {
    "name": "ipython",
    "version": 3
   },
   "file_extension": ".py",
   "mimetype": "text/x-python",
   "name": "python",
   "nbconvert_exporter": "python",
   "pygments_lexer": "ipython3",
   "version": "3.8.16"
  },
  "orig_nbformat": 4,
  "vscode": {
   "interpreter": {
    "hash": "ad2bdc8ecc057115af97d19610ffacc2b4e99fae6737bb82f5d7fb13d2f2c186"
   }
  }
 },
 "nbformat": 4,
 "nbformat_minor": 2
}
