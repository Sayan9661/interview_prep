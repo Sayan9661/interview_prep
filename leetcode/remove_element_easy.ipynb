{
 "cells": [
  {
   "cell_type": "code",
   "execution_count": 1,
   "metadata": {},
   "outputs": [],
   "source": []
  },
  {
   "cell_type": "code",
   "execution_count": 1,
   "metadata": {},
   "outputs": [
    {
     "name": "stdout",
     "output_type": "stream",
     "text": [
      "left 1 nums= [0, 1, 1, 1, 2, 2, 3, 4, 5, 2, 2] i 0\n",
      "left 2 nums= [0, 1, 1, 1, 2, 2, 3, 4, 5, 2, 2] i 1\n",
      "left 3 nums= [0, 1, 1, 1, 2, 2, 3, 4, 5, 2, 2] i 2\n",
      "left 4 nums= [0, 1, 1, 1, 2, 2, 3, 4, 5, 2, 2] i 3\n",
      "left 4 nums= [0, 1, 1, 1, 2, 2, 3, 4, 5, 2, 2] i 4\n",
      "left 4 nums= [0, 1, 1, 1, 2, 2, 3, 4, 5, 2, 2] i 5\n",
      "left 5 nums= [0, 1, 1, 1, 3, 2, 3, 4, 5, 2, 2] i 6\n",
      "left 6 nums= [0, 1, 1, 1, 3, 4, 3, 4, 5, 2, 2] i 7\n",
      "left 7 nums= [0, 1, 1, 1, 3, 4, 5, 4, 5, 2, 2] i 8\n",
      "left 7 nums= [0, 1, 1, 1, 3, 4, 5, 4, 5, 2, 2] i 9\n",
      "left 7 nums= [0, 1, 1, 1, 3, 4, 5, 4, 5, 2, 2] i 10\n",
      "[0, 1, 1, 1, 3, 4, 5, 4, 5, 2, 2]\n"
     ]
    }
   ],
   "source": [
    "nums=[0,1,1,1,2,2,3,4,5,2,2]\n",
    "val=2\n",
    "left = 0\n",
    "\n",
    "for i in range(len(nums)):\n",
    "    #we only want to put values that are not val eliminating/overwriting val\n",
    "    \n",
    "    if nums[i] != val:\n",
    "        nums[left] = nums[i]\n",
    "        left += 1\n",
    "    print(\"left\", left, \"nums=\", nums, \"i\", i)\n",
    "\n",
    "\n",
    "        \n",
    "\n",
    "print(nums)\n",
    "    \n"
   ]
  }
 ],
 "metadata": {
  "kernelspec": {
   "display_name": "base",
   "language": "python",
   "name": "python3"
  },
  "language_info": {
   "codemirror_mode": {
    "name": "ipython",
    "version": 3
   },
   "file_extension": ".py",
   "mimetype": "text/x-python",
   "name": "python",
   "nbconvert_exporter": "python",
   "pygments_lexer": "ipython3",
   "version": "3.8.8 (default, Apr 13 2021, 15:08:03) [MSC v.1916 64 bit (AMD64)]"
  },
  "orig_nbformat": 4,
  "vscode": {
   "interpreter": {
    "hash": "ad2bdc8ecc057115af97d19610ffacc2b4e99fae6737bb82f5d7fb13d2f2c186"
   }
  }
 },
 "nbformat": 4,
 "nbformat_minor": 2
}
