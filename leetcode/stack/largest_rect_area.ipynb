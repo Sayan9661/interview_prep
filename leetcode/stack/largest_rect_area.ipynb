{
 "cells": [
  {
   "attachments": {},
   "cell_type": "markdown",
   "metadata": {},
   "source": [
    "![](2023-01-05-23-01-32.png)"
   ]
  },
  {
   "attachments": {},
   "cell_type": "markdown",
   "metadata": {},
   "source": [
    "## logic:\n",
    "here iterate over the histogram and see how far we can extend the rectangle area. if the new bar encountered is greater than the ones already encountered we add to stack.<br>\n",
    "the stack holds the value of the encountered bars and from ehich index their area start. <br>\n",
    "when we keep encountering greater bars: no problem as their area starts from where we index them.<br>\n",
    "once something smaller is encountered then we cannot extend the prev encountered(greater value) bar so we calculate the are that they could have made and pop.<br>\n",
    "for the smaller bar though we check how far **back** we could have extended them and then we put that as start index<br> "
   ]
  },
  {
   "cell_type": "code",
   "execution_count": 5,
   "metadata": {},
   "outputs": [],
   "source": [
    "def largestRectangleArea(heights) -> int:\n",
    "    maxArea = 0\n",
    "    stack = []  # (start index of height,height)\n",
    "    for i, h in enumerate(heights):\n",
    "        #initialize the start index of the current height to itself unless it is smaller and then we pop greater bars\n",
    "        #and see how far we can extend backwards(indices popped)\n",
    "        print(stack)\n",
    "        start_ind = i\n",
    "        while stack and stack[-1][1] > h:\n",
    "            start_ind, height = stack.pop()\n",
    "            maxArea = max(maxArea, height*(i-start_ind))\n",
    "            print(maxArea)\n",
    "        stack.append([start_ind, h])\n",
    "    #if values remain in stack this means they were extended all the way to the end.\n",
    "    print(stack)\n",
    "    for i, h in stack:\n",
    "        maxArea = max(maxArea, h * (len(heights)-i))\n",
    "\n",
    "    return maxArea\n"
   ]
  },
  {
   "cell_type": "code",
   "execution_count": 6,
   "metadata": {},
   "outputs": [
    {
     "name": "stdout",
     "output_type": "stream",
     "text": [
      "[]\n",
      "[[0, 2]]\n",
      "2\n",
      "[[0, 1]]\n",
      "[[0, 1], [2, 5]]\n",
      "[[0, 1], [2, 5], [3, 6]]\n",
      "6\n",
      "10\n",
      "[[0, 1], [2, 2]]\n",
      "[[0, 1], [2, 2], [5, 3]]\n"
     ]
    },
    {
     "data": {
      "text/plain": [
       "10"
      ]
     },
     "execution_count": 6,
     "metadata": {},
     "output_type": "execute_result"
    }
   ],
   "source": [
    "heights = [2,1,5,6,2,3]\n",
    "largestRectangleArea(heights)\n"
   ]
  }
 ],
 "metadata": {
  "kernelspec": {
   "display_name": "base",
   "language": "python",
   "name": "python3"
  },
  "language_info": {
   "codemirror_mode": {
    "name": "ipython",
    "version": 3
   },
   "file_extension": ".py",
   "mimetype": "text/x-python",
   "name": "python",
   "nbconvert_exporter": "python",
   "pygments_lexer": "ipython3",
   "version": "3.8.8 (default, Apr 13 2021, 15:08:03) [MSC v.1916 64 bit (AMD64)]"
  },
  "orig_nbformat": 4,
  "vscode": {
   "interpreter": {
    "hash": "ad2bdc8ecc057115af97d19610ffacc2b4e99fae6737bb82f5d7fb13d2f2c186"
   }
  }
 },
 "nbformat": 4,
 "nbformat_minor": 2
}
