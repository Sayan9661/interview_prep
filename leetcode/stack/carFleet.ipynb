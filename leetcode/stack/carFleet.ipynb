{
 "cells": [
  {
   "attachments": {},
   "cell_type": "markdown",
   "metadata": {},
   "source": [
    "## logic\n",
    "the idea is we store the position and speed in one sorted array according to postion.<br>\n",
    "In the image below we can see that, that the cars are in different positions and have different speeds. now the thing is if we see that one car behind another has lesser time to reach target (time=distance (target-curr_pos)/speed) it will collide with the car in front of it and **the combined will move at the pace of the car in front.**<br>\n",
    "so then we maintain a stack and go from left to right and if a car collides with one to right of it we pop **that car as it combines with the car right of it** . In this way the no of cars left in the stack will be the fleets."
   ]
  },
  {
   "attachments": {},
   "cell_type": "markdown",
   "metadata": {},
   "source": [
    "![](2023-01-05-06-34-57.png)"
   ]
  },
  {
   "cell_type": "code",
   "execution_count": 3,
   "metadata": {},
   "outputs": [],
   "source": [
    "def carFleet(target: int, position, speed):\n",
    "\n",
    "    stack = []\n",
    "    pos_target = [[p, s] for (p, s) in zip(position, speed)]\n",
    "    print(sorted(pos_target, reverse=True))\n",
    "\n",
    "    #want to travel pos_target in reverse order that way only need to compare elements at top of stack as the car left matches to car right(ahead)\n",
    "    for p, s in sorted(pos_target, reverse=True):\n",
    "        #so now the largest pos is in the leftmost position in both array and stack\n",
    "        stack.append((target-p)/s)\n",
    "        print(stack)\n",
    "        if len(stack) > 1 and stack[-1] <= stack[-2]:\n",
    "            #car in 2nd pos(from left of stack and behind in pos) will catch up and become one car fleet so we remove it. Now the next car can only catch up with the one in front.\n",
    "            stack.pop()\n",
    "    #num cars left in stack are the num of car fleets in the end.\n",
    "    return len(stack)\n"
   ]
  },
  {
   "attachments": {},
   "cell_type": "markdown",
   "metadata": {},
   "source": [
    "cars cannot overtake the one in front"
   ]
  },
  {
   "cell_type": "code",
   "execution_count": 4,
   "metadata": {},
   "outputs": [
    {
     "name": "stdout",
     "output_type": "stream",
     "text": [
      "[[10, 2], [8, 4], [5, 1], [3, 3], [0, 1]]\n",
      "[1.0]\n",
      "[1.0, 1.0]\n",
      "[1.0, 7.0]\n",
      "[1.0, 7.0, 3.0]\n",
      "[1.0, 7.0, 12.0]\n"
     ]
    },
    {
     "data": {
      "text/plain": [
       "3"
      ]
     },
     "execution_count": 4,
     "metadata": {},
     "output_type": "execute_result"
    }
   ],
   "source": [
    "target = 12\n",
    "position = [10, 8, 0, 5, 3]\n",
    "speed = [2, 4, 1, 1, 3]\n",
    "carFleet(target, position, speed)\n"
   ]
  }
 ],
 "metadata": {
  "kernelspec": {
   "display_name": "base",
   "language": "python",
   "name": "python3"
  },
  "language_info": {
   "codemirror_mode": {
    "name": "ipython",
    "version": 3
   },
   "file_extension": ".py",
   "mimetype": "text/x-python",
   "name": "python",
   "nbconvert_exporter": "python",
   "pygments_lexer": "ipython3",
   "version": "3.8.8 (default, Apr 13 2021, 15:08:03) [MSC v.1916 64 bit (AMD64)]"
  },
  "orig_nbformat": 4,
  "vscode": {
   "interpreter": {
    "hash": "ad2bdc8ecc057115af97d19610ffacc2b4e99fae6737bb82f5d7fb13d2f2c186"
   }
  }
 },
 "nbformat": 4,
 "nbformat_minor": 2
}
