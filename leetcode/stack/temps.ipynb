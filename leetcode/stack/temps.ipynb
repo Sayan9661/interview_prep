{
 "cells": [
  {
   "attachments": {},
   "cell_type": "markdown",
   "metadata": {},
   "source": [
    "![](2023-01-05-04-40-32.png)"
   ]
  },
  {
   "attachments": {},
   "cell_type": "markdown",
   "metadata": {},
   "source": [
    "## logic:\n",
    "1. use monotonically decreasing stack.(or correctly non-increasing stack)\n",
    "2. just place temps in stack. \n",
    "3. then for each value check the values in stack pop once lesser than the one currently encountered\n",
    "4. add difference of indices of currently encountered value and the value popped.\n",
    "\n",
    "### time complexity and mem : O(n)"
   ]
  },
  {
   "attachments": {},
   "cell_type": "markdown",
   "metadata": {},
   "source": [
    "![](2023-01-05-04-39-39.png)"
   ]
  },
  {
   "cell_type": "code",
   "execution_count": 9,
   "metadata": {},
   "outputs": [],
   "source": [
    "def dailyTemperatures(temperatures):\n",
    "    stack = []  # each entry is []temp , i] as pair\n",
    "    res = [0]*len(temperatures)\n",
    "    \n",
    "    print(res)\n",
    "\n",
    "    for i, t in enumerate(temperatures):\n",
    "        while stack and t > stack[-1][0]:\n",
    "            res[stack[-1][1]] = i-stack[-1][1]\n",
    "            print(res)\n",
    "            \n",
    "            stack.pop()\n",
    "        stack.append([t, i])\n",
    "        print(stack)\n",
    "\n",
    "    return res\n"
   ]
  },
  {
   "cell_type": "code",
   "execution_count": 10,
   "metadata": {},
   "outputs": [
    {
     "name": "stdout",
     "output_type": "stream",
     "text": [
      "[0, 0, 0, 0, 0, 0, 0, 0]\n",
      "[[73, 0]]\n",
      "[1, 0, 0, 0, 0, 0, 0, 0]\n",
      "[[74, 1]]\n",
      "[1, 1, 0, 0, 0, 0, 0, 0]\n",
      "[[75, 2]]\n",
      "[[75, 2], [71, 3]]\n",
      "[[75, 2], [71, 3], [69, 4]]\n",
      "[1, 1, 0, 0, 1, 0, 0, 0]\n",
      "[1, 1, 0, 2, 1, 0, 0, 0]\n",
      "[[75, 2], [72, 5]]\n",
      "[1, 1, 0, 2, 1, 1, 0, 0]\n",
      "[1, 1, 4, 2, 1, 1, 0, 0]\n",
      "[[76, 6]]\n",
      "[[76, 6], [73, 7]]\n"
     ]
    },
    {
     "data": {
      "text/plain": [
       "[1, 1, 4, 2, 1, 1, 0, 0]"
      ]
     },
     "execution_count": 10,
     "metadata": {},
     "output_type": "execute_result"
    }
   ],
   "source": [
    "temperatures=[73,74,75,71,69,72,76,73]\n",
    "dailyTemperatures(temperatures)\n"
   ]
  }
 ],
 "metadata": {
  "kernelspec": {
   "display_name": "base",
   "language": "python",
   "name": "python3"
  },
  "language_info": {
   "codemirror_mode": {
    "name": "ipython",
    "version": 3
   },
   "file_extension": ".py",
   "mimetype": "text/x-python",
   "name": "python",
   "nbconvert_exporter": "python",
   "pygments_lexer": "ipython3",
   "version": "3.8.8 (default, Apr 13 2021, 15:08:03) [MSC v.1916 64 bit (AMD64)]"
  },
  "orig_nbformat": 4,
  "vscode": {
   "interpreter": {
    "hash": "ad2bdc8ecc057115af97d19610ffacc2b4e99fae6737bb82f5d7fb13d2f2c186"
   }
  }
 },
 "nbformat": 4,
 "nbformat_minor": 2
}
