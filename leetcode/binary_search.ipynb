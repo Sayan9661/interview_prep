{
 "cells": [
  {
   "attachments": {},
   "cell_type": "markdown",
   "metadata": {},
   "source": [
    "## This is a generalized binary search template"
   ]
  },
  {
   "cell_type": "code",
   "execution_count": null,
   "metadata": {},
   "outputs": [],
   "source": [
    "def binary_search(array) -> int:\n",
    "    def condition(value) -> bool:\n",
    "        pass\n",
    "\n",
    "    left, right = 0, len(array)\n",
    "    while left < right:\n",
    "        mid = left + (right - left) // 2\n",
    "        if condition(mid):\n",
    "            right = mid\n",
    "        else:\n",
    "            left = mid + 1\n",
    "    return left"
   ]
  },
  {
   "attachments": {},
   "cell_type": "markdown",
   "metadata": {},
   "source": [
    "<p>What's really nice of this template is that, for most of the binary search problems, we only need to modify three parts after copy-pasting this template, and never need to worry about corner cases and bugs in code any more:\n",
    "</p>\n",
    "\n",
    "<ol>\n",
    "    <li>Correctly initialize the boundary variables left and right. Only one rule: set up the boundary to include all possible elements;</li>\n",
    "    <li>Decide return value. Is it return left or return left - 1? *Remember this: after exiting the while loop, left is the minimal k​ satisfying the condition function* </li>\n",
    "    <li>Design the condition function. This is the most difficult and most beautiful part. Needs lots of practice.</li>\n",
    "</ol>\n",
    "\n",
    "\n"
   ]
  }
 ],
 "metadata": {
  "kernelspec": {
   "display_name": "base",
   "language": "python",
   "name": "python3"
  },
  "language_info": {
   "name": "python",
   "version": "3.8.16"
  },
  "orig_nbformat": 4,
  "vscode": {
   "interpreter": {
    "hash": "ad2bdc8ecc057115af97d19610ffacc2b4e99fae6737bb82f5d7fb13d2f2c186"
   }
  }
 },
 "nbformat": 4,
 "nbformat_minor": 2
}
