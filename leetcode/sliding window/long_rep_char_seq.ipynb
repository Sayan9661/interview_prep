{
 "cells": [
  {
   "attachments": {},
   "cell_type": "markdown",
   "metadata": {},
   "source": [
    "![](2023-01-08-23-43-57.png)"
   ]
  },
  {
   "attachments": {},
   "cell_type": "markdown",
   "metadata": {},
   "source": [
    "## logic:\n",
    "<ul>\n",
    "<li>use hashmap to store the count of each character , so that we can find the most frequent character in the window</li>\n",
    "<li>current length-maxfrequency<=k where k is the no of replacements allowed</li>\n",
    "<li>sliding window with left and right point : expand right and checking condition</li>\n",
    "<li>if condition is invalid shift left pointer, then try again</li>\n",
    "</ul>"
   ]
  },
  {
   "attachments": {},
   "cell_type": "markdown",
   "metadata": {},
   "source": [
    "![](2023-01-08-23-43-24.png)"
   ]
  },
  {
   "attachments": {},
   "cell_type": "markdown",
   "metadata": {},
   "source": [
    "## furthur optimizations:\n",
    "above solution is O(26n) as we have to check all the characters in the hashmap.<br>\n",
    "Using below technique we can make it O(n) although we still need to hashmap"
   ]
  },
  {
   "attachments": {},
   "cell_type": "markdown",
   "metadata": {},
   "source": [
    "we can just store the max frequency in a var and **important thing is we dont need to decrement it as the max length can only increase if we increase the the max freq so that condition is valid**"
   ]
  },
  {
   "attachments": {},
   "cell_type": "markdown",
   "metadata": {},
   "source": [
    "![](2023-01-08-23-50-57.png)"
   ]
  },
  {
   "cell_type": "code",
   "execution_count": 35,
   "metadata": {},
   "outputs": [],
   "source": [
    "def characterReplacement(s: str, k: int) -> int:\n",
    "    count_freqs={}\n",
    "    l=0\n",
    "    max_len=0\n",
    "    for r in range(len(s)):\n",
    "        #add to frequency of chars and expand r till condition is invalid\n",
    "        count_freqs[s[r]]=1+count_freqs.get(s[r],0)\n",
    "        \n",
    "        #shrink window to make it valid (condtion:len_window-max_freq<=k)\n",
    "        while (r-l+1)-max(count_freqs.values())>k:\n",
    "            count_freqs[s[l]]-=1\n",
    "            l+=1\n",
    "        print(\"window size:\", (r-l+1),\"r\",r,\"l\",l)\n",
    "        max_len=max(max_len,r-l+1)\n",
    "    return max_len\n"
   ]
  },
  {
   "cell_type": "code",
   "execution_count": 37,
   "metadata": {},
   "outputs": [
    {
     "name": "stdout",
     "output_type": "stream",
     "text": [
      "window size: 1 r 0 l 0\n",
      "window size: 2 r 1 l 0\n",
      "window size: 3 r 2 l 0\n",
      "window size: 4 r 3 l 0\n",
      "window size: 3 r 4 l 2\n",
      "window size: 4 r 5 l 2\n",
      "window size: 3 r 6 l 4\n"
     ]
    },
    {
     "data": {
      "text/plain": [
       "4"
      ]
     },
     "execution_count": 37,
     "metadata": {},
     "output_type": "execute_result"
    }
   ],
   "source": [
    "s=\"AABABBA\"\n",
    "k = 1\n",
    "characterReplacement(s,k)\n"
   ]
  },
  {
   "cell_type": "code",
   "execution_count": 25,
   "metadata": {},
   "outputs": [],
   "source": [
    "def characterReplacement(self, s: str, k: int) -> int:\n",
    "    count_freqs = {}\n",
    "    l = 0\n",
    "    max_len = 0\n",
    "    max_f = 0\n",
    "    for r in range(len(s)):\n",
    "        #add to frequency of chars and expand r till condition is invalid\n",
    "        count_freqs[s[r]] = 1+count_freqs.get(s[r], 0)\n",
    "        #keep track of the max freq and dont need to decrement it as result will not increase from what we already got if it decreases.\n",
    "        max_f = max(max_f, count_freqs[s[r]])\n",
    "        #shrink window to make it valid (condtion:len_window-max_freq<=k)\n",
    "        while (r-l+1)-max_f > k:\n",
    "            count_freqs[s[l]] -= 1\n",
    "            l += 1\n",
    "        max_len = max(max_len, r-l+1)\n",
    "    return max_len\n"
   ]
  }
 ],
 "metadata": {
  "kernelspec": {
   "display_name": "base",
   "language": "python",
   "name": "python3"
  },
  "language_info": {
   "codemirror_mode": {
    "name": "ipython",
    "version": 3
   },
   "file_extension": ".py",
   "mimetype": "text/x-python",
   "name": "python",
   "nbconvert_exporter": "python",
   "pygments_lexer": "ipython3",
   "version": "3.8.8"
  },
  "orig_nbformat": 4,
  "vscode": {
   "interpreter": {
    "hash": "ad2bdc8ecc057115af97d19610ffacc2b4e99fae6737bb82f5d7fb13d2f2c186"
   }
  }
 },
 "nbformat": 4,
 "nbformat_minor": 2
}
