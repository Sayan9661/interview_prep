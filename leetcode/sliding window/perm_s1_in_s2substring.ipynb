{
 "cells": [
  {
   "attachments": {},
   "cell_type": "markdown",
   "metadata": {},
   "source": [
    "# Intuition\n",
    "<!-- Describe your first thoughts on how to solve this problem. -->\n",
    "We just need to compare the frequency of characters in s1 to a sliding window of length s1 over s2.\n",
    "\n",
    "# Approach\n",
    "<!-- Describe your approach to solving the problem. -->\n",
    "use 2 lists (s1count and s2 count) to store the frequency of characters , one for the characters is s1 and another for the sliding window over s2 of length s1.\n",
    "Use only one hashmap (s1map) with the s1count as the only key. Then as we slide our window over s2 we increment the character count of the rightmost character in our window and decrement the count of the leftmost character in the window. These updates happen in s2count. At each iteration compare if s2count as key exists in our hashmap s1map.\n",
    "\n",
    "\n",
    "\n",
    "# Complexity\n",
    "- Time complexity:\n",
    "<!-- Add your time complexity here, e.g. $$O(n)$$ -->\n",
    "s1count and s2 count(to the length of s1 fill up together) + remaining s2count and key lookup is constant.\n",
    "O(l1 + l2-l1)\n",
    "\n",
    "\n",
    "- Space complexity:\n",
    "<!-- Add your space complexity here, e.g. $$O(n)$$ -->\n",
    "O(1)\n",
    "as constant space"
   ]
  },
  {
   "cell_type": "code",
   "execution_count": null,
   "metadata": {},
   "outputs": [],
   "source": [
    "def checkInclusion(self, s1: str, s2: str) -> bool:\n",
    "    if len(s1) > len(s2):\n",
    "            return False\n",
    "\n",
    "    s1map = {}\n",
    "    s1count = [0]*26\n",
    "    l = 0\n",
    "    s2count = [0]*26\n",
    "    for c in range(len(s1)):\n",
    "        s1count[ord(s1[c])-ord('a')] += 1\n",
    "        s2count[ord(s2[c])-ord('a')] += 1\n",
    "    s1map[tuple(s1count)] = s1map.get(tuple(s1count), 0)+1\n",
    "\n",
    "    for r in range(len(s1), len(s2)):\n",
    "        if tuple(s2count) in s1map:\n",
    "            return True\n",
    "\n",
    "        s2count[ord(s2[r])-ord('a')] += 1\n",
    "        s2count[ord(s2[l])-ord('a')] -= 1\n",
    "        l += 1\n",
    "\n",
    "    if tuple(s2count) in s1map:\n",
    "        return True\n",
    "\n",
    "    return False\n"
   ]
  },
  {
   "attachments": {},
   "cell_type": "markdown",
   "metadata": {},
   "source": [
    "## Another approach:\n",
    "use 2 arrays representing the character frequencies of s1 and [sliding window over s2] and a variable matches which stores the number of matches, if the number of matches is 26(which is length of arrays) the a permutations of s1 is in s2."
   ]
  },
  {
   "cell_type": "code",
   "execution_count": null,
   "metadata": {},
   "outputs": [],
   "source": [
    "def checkInclusion(self, s1: str, s2: str) -> bool:\n",
    "    if len(s1) > len(s2):\n",
    "        return False\n",
    "\n",
    "    s1Count, s2Count = [0] * 26, [0] * 26\n",
    "    for i in range(len(s1)):\n",
    "        s1Count[ord(s1[i]) - ord(\"a\")] += 1\n",
    "        s2Count[ord(s2[i]) - ord(\"a\")] += 1\n",
    "\n",
    "    matches = 0\n",
    "    for i in range(26):\n",
    "        matches += 1 if s1Count[i] == s2Count[i] else 0\n",
    "\n",
    "    l = 0\n",
    "    for r in range(len(s1), len(s2)):\n",
    "        if matches == 26:\n",
    "            return True\n",
    "\n",
    "        index = ord(s2[r]) - ord(\"a\")\n",
    "        s2Count[index] += 1\n",
    "        if s1Count[index] == s2Count[index]:\n",
    "            matches += 1\n",
    "        elif s1Count[index] + 1 == s2Count[index]:\n",
    "            matches -= 1\n",
    "\n",
    "        index = ord(s2[l]) - ord(\"a\")\n",
    "        s2Count[index] -= 1\n",
    "        if s1Count[index] == s2Count[index]:\n",
    "            matches += 1\n",
    "        elif s1Count[index] - 1 == s2Count[index]:\n",
    "            matches -= 1\n",
    "        l += 1\n",
    "    return matches == 26\n"
   ]
  }
 ],
 "metadata": {
  "kernelspec": {
   "display_name": "base",
   "language": "python",
   "name": "python3"
  },
  "language_info": {
   "name": "python",
   "version": "3.8.8 (default, Apr 13 2021, 15:08:03) [MSC v.1916 64 bit (AMD64)]"
  },
  "orig_nbformat": 4,
  "vscode": {
   "interpreter": {
    "hash": "ad2bdc8ecc057115af97d19610ffacc2b4e99fae6737bb82f5d7fb13d2f2c186"
   }
  }
 },
 "nbformat": 4,
 "nbformat_minor": 2
}
