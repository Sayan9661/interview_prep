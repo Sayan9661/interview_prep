{
 "cells": [
  {
   "attachments": {},
   "cell_type": "markdown",
   "metadata": {},
   "source": [
    "![](2023-01-17-12-14-05.png)"
   ]
  },
  {
   "cell_type": "code",
   "execution_count": 9,
   "metadata": {},
   "outputs": [],
   "source": [
    "import collections\n",
    "def maxSlidingWindow( nums, k: int):\n",
    "    q=collections.deque()\n",
    "    res=[]\n",
    "    \n",
    "    for r in range(len(nums)):\n",
    "        print(q)\n",
    "        if q and q[0][1]<=r-k:\n",
    "            q.popleft()\n",
    "        \n",
    "\n",
    "        while q and q[-1][0]<nums[r]:\n",
    "            q.pop()\n",
    "        q.append([nums[r],r])\n",
    "\n",
    "        if r>=k-1:\n",
    "            res.append(q[0][0])\n",
    "    \n",
    "    return res"
   ]
  },
  {
   "cell_type": "code",
   "execution_count": 10,
   "metadata": {},
   "outputs": [
    {
     "name": "stdout",
     "output_type": "stream",
     "text": [
      "deque([])\n",
      "deque([[1, 0]])\n",
      "deque([[3, 1]])\n",
      "deque([[3, 1], [-1, 2]])\n",
      "deque([[3, 1], [-1, 2], [-3, 3]])\n",
      "deque([[5, 4]])\n",
      "deque([[5, 4], [3, 5]])\n",
      "deque([[6, 6]])\n"
     ]
    },
    {
     "data": {
      "text/plain": [
       "[3, 3, 5, 5, 6, 7]"
      ]
     },
     "execution_count": 10,
     "metadata": {},
     "output_type": "execute_result"
    }
   ],
   "source": [
    "nums = [1, 3, -1, -3, 5, 3, 6, 7]\n",
    "k = 3\n",
    "maxSlidingWindow(nums,k)"
   ]
  }
 ],
 "metadata": {
  "kernelspec": {
   "display_name": "base",
   "language": "python",
   "name": "python3"
  },
  "language_info": {
   "codemirror_mode": {
    "name": "ipython",
    "version": 3
   },
   "file_extension": ".py",
   "mimetype": "text/x-python",
   "name": "python",
   "nbconvert_exporter": "python",
   "pygments_lexer": "ipython3",
   "version": "3.8.8"
  },
  "orig_nbformat": 4,
  "vscode": {
   "interpreter": {
    "hash": "ad2bdc8ecc057115af97d19610ffacc2b4e99fae6737bb82f5d7fb13d2f2c186"
   }
  }
 },
 "nbformat": 4,
 "nbformat_minor": 2
}
