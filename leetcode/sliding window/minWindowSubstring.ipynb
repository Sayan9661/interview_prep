{
 "cells": [
  {
   "attachments": {},
   "cell_type": "markdown",
   "metadata": {},
   "source": [
    "## Logic:\n",
    "<ul>\n",
    "        <li>We keep 2 hashmaps , one for string t , other for the sliding window</li>\n",
    "        <li>each hashmap value corresponds to unique chars and their count</li>\n",
    "        <li>we fill in the hashmap for the t string and get its need=length(unique no of chars)</li>\n",
    "        <li>now we start adding elements to our window from the right: after each add we check if the char count for that character is met by compaaring the value in the hashmaps(have) </li>\n",
    "        <li>while the have==need we store the res if it is smallest.... then delete elements from the left of the window</li>\n",
    "        <li>repeat above 2 steps till our window reaches the end of s</li>\n",
    "    </ul>"
   ]
  },
  {
   "attachments": {},
   "cell_type": "markdown",
   "metadata": {},
   "source": [
    "![](2023-01-16-00-43-21.png)"
   ]
  },
  {
   "cell_type": "code",
   "execution_count": 9,
   "metadata": {},
   "outputs": [],
   "source": [
    "def minWindow(s: str, t: str) -> str:\n",
    "    if t == \"\":\n",
    "            return \"\"\n",
    "\n",
    "    map_t = {}\n",
    "    map_window = {}\n",
    "\n",
    "    l = 0\n",
    "    res = [-1, -1]\n",
    "    resLen = float(\"infinity\")\n",
    "\n",
    "    #get all the chars in t in a hashmap\n",
    "    for c in t:\n",
    "        map_t[c] = 1+map_t.get(c, 0)\n",
    "\n",
    "    #have and need keeps track of unique chars and if count matches in s(that are in t) and t\n",
    "    have, need = 0, len(map_t)\n",
    "    \n",
    "    print('have',have,'need',need)\n",
    "\n",
    "    #add characters to the right in out window\n",
    "    for i in range(len(s)):\n",
    "\n",
    "        print('curr window:',s[l:i+1])\n",
    "        \n",
    "        #put in hashmaap for window\n",
    "        map_window[s[i]] = 1+map_window.get(s[i], 0)\n",
    "\n",
    "        #check if the char count for a char matches the hashmap for t\n",
    "        if s[i] in map_t and map_window[s[i]] == map_t[s[i]]:\n",
    "            have += 1\n",
    "\n",
    "        while have == need:\n",
    "\n",
    "            \n",
    "            #update result\n",
    "            if (i-l+1) < resLen:\n",
    "                res = [l, i]\n",
    "                resLen = i-l+1\n",
    "                print('res',s[res[0]:res[1]+1])\n",
    "\n",
    "            #since we are deleting elements from left in our window\n",
    "            map_window[s[l]] = map_window[s[l]]-1\n",
    "\n",
    "            #check if after deletion if the hashmap values do not match\n",
    "            if s[l] in map_t and map_window[s[l]] < map_t[s[l]]:\n",
    "                have -= 1\n",
    "\n",
    "            l += 1\n",
    "            print('curr window:', s[l:i+1],'have',have)\n",
    "\n",
    "    l, r = res\n",
    "    return s[l:r+1] if resLen != float(\"infinity\") else \"\"\n"
   ]
  },
  {
   "cell_type": "code",
   "execution_count": 10,
   "metadata": {},
   "outputs": [
    {
     "name": "stdout",
     "output_type": "stream",
     "text": [
      "have 0 need 3\n",
      "curr window: A\n",
      "curr window: AD\n",
      "curr window: ADO\n",
      "curr window: ADOB\n",
      "curr window: ADOBE\n",
      "curr window: ADOBEC\n",
      "res ADOBEC\n",
      "curr window: DOBEC have 2\n",
      "curr window: DOBECO\n",
      "curr window: DOBECOD\n",
      "curr window: DOBECODE\n",
      "curr window: DOBECODEB\n",
      "curr window: DOBECODEBA\n",
      "curr window: OBECODEBA have 3\n",
      "curr window: BECODEBA have 3\n",
      "curr window: ECODEBA have 3\n",
      "curr window: CODEBA have 3\n",
      "curr window: ODEBA have 2\n",
      "curr window: ODEBAN\n",
      "curr window: ODEBANC\n",
      "curr window: DEBANC have 3\n",
      "curr window: EBANC have 3\n",
      "res EBANC\n",
      "curr window: BANC have 3\n",
      "res BANC\n",
      "curr window: ANC have 2\n"
     ]
    },
    {
     "data": {
      "text/plain": [
       "'BANC'"
      ]
     },
     "execution_count": 10,
     "metadata": {},
     "output_type": "execute_result"
    }
   ],
   "source": [
    "s = \"ADOBECODEBANC\"\n",
    "t = \"ABC\"\n",
    "minWindow(s, t)"
   ]
  }
 ],
 "metadata": {
  "kernelspec": {
   "display_name": "base",
   "language": "python",
   "name": "python3"
  },
  "language_info": {
   "codemirror_mode": {
    "name": "ipython",
    "version": 3
   },
   "file_extension": ".py",
   "mimetype": "text/x-python",
   "name": "python",
   "nbconvert_exporter": "python",
   "pygments_lexer": "ipython3",
   "version": "3.8.8"
  },
  "orig_nbformat": 4,
  "vscode": {
   "interpreter": {
    "hash": "ad2bdc8ecc057115af97d19610ffacc2b4e99fae6737bb82f5d7fb13d2f2c186"
   }
  }
 },
 "nbformat": 4,
 "nbformat_minor": 2
}
