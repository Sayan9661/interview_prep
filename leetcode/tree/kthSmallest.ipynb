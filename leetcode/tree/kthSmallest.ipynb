{
 "cells": [
  {
   "attachments": {},
   "cell_type": "markdown",
   "metadata": {},
   "source": [
    "![](2023-01-11-06-04-25.png)"
   ]
  },
  {
   "cell_type": "code",
   "execution_count": 2,
   "metadata": {},
   "outputs": [],
   "source": [
    "class TreeNode:\n",
    "    def __init__(self, val=0, left=None, right=None):\n",
    "        self.val = val\n",
    "        self.left = left\n",
    "        self.right = right\n"
   ]
  },
  {
   "attachments": {},
   "cell_type": "markdown",
   "metadata": {},
   "source": [
    "## logic : for iterative\n",
    "maintain a stack and then inorder traversal , return at kth element"
   ]
  },
  {
   "cell_type": "code",
   "execution_count": 4,
   "metadata": {},
   "outputs": [],
   "source": [
    "def kthSmallest(self, root, k: int) -> int:\n",
    "\n",
    "    stack = []\n",
    "    curr = root\n",
    "\n",
    "    #iterative solution\n",
    "    while curr or stack:\n",
    "        \n",
    "        #just continue left till you can\n",
    "        while curr:\n",
    "            #append to stack on the way\n",
    "            stack.append(curr)\n",
    "            curr = curr.left\n",
    "\n",
    "        #pop an element after you can go left anymore: inorder traversal\n",
    "        curr = stack.pop()\n",
    "        k -= 1\n",
    "        if k == 0:\n",
    "            return curr.val\n",
    "\n",
    "        #go right and repeat\n",
    "        curr = curr.right\n",
    "    return -1\n"
   ]
  },
  {
   "attachments": {},
   "cell_type": "markdown",
   "metadata": {},
   "source": [
    "## recursive solution: same logic inorder traversal gives sorted list so just take kth element"
   ]
  },
  {
   "cell_type": "code",
   "execution_count": 5,
   "metadata": {},
   "outputs": [],
   "source": [
    "def kthSmallest(self, root, k: int) -> int:\n",
    "    self.k = k\n",
    "    self.res = -1\n",
    "    self.helper(root)\n",
    "    return self.res\n",
    "\n",
    "\n",
    "\n",
    "def helper(self,root):\n",
    "    \n",
    "    if not root:\n",
    "        return \n",
    "\n",
    "    self.helper(root.left)\n",
    "    \n",
    "    self.k-=1\n",
    "    \n",
    "    if self.k==0:\n",
    "        self.res=root.val\n",
    "\n",
    "    self.helper(root.right)\n"
   ]
  }
 ],
 "metadata": {
  "kernelspec": {
   "display_name": "base",
   "language": "python",
   "name": "python3"
  },
  "language_info": {
   "codemirror_mode": {
    "name": "ipython",
    "version": 3
   },
   "file_extension": ".py",
   "mimetype": "text/x-python",
   "name": "python",
   "nbconvert_exporter": "python",
   "pygments_lexer": "ipython3",
   "version": "3.8.8 (default, Apr 13 2021, 15:08:03) [MSC v.1916 64 bit (AMD64)]"
  },
  "orig_nbformat": 4,
  "vscode": {
   "interpreter": {
    "hash": "ad2bdc8ecc057115af97d19610ffacc2b4e99fae6737bb82f5d7fb13d2f2c186"
   }
  }
 },
 "nbformat": 4,
 "nbformat_minor": 2
}
