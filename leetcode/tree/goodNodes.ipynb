{
 "cells": [
  {
   "cell_type": "code",
   "execution_count": 2,
   "metadata": {},
   "outputs": [],
   "source": [
    "# Definition for a binary tree node.\n",
    "class TreeNode:\n",
    "    def __init__(self, val=0, left=None, right=None):\n",
    "        self.val = val\n",
    "        self.left = left\n",
    "        self.right = right\n"
   ]
  },
  {
   "attachments": {},
   "cell_type": "markdown",
   "metadata": {},
   "source": [
    "## logic:\n",
    "good nodes have to have value lesser than all previouly encountered values in it's path so just store the max in path in a variable and compare\n",
    " "
   ]
  },
  {
   "cell_type": "code",
   "execution_count": 3,
   "metadata": {},
   "outputs": [],
   "source": [
    "class Solution:\n",
    "    def goodNodes(self, root: TreeNode) -> int:\n",
    "\n",
    "        #since good nodes have to have value>= all values encuntered in its path\n",
    "        def dfs(root, maxVal):\n",
    "\n",
    "            #null node is not good\n",
    "            if not root:\n",
    "                return 0\n",
    "\n",
    "            #check if good\n",
    "            if maxVal <= root.val:\n",
    "                res = 1\n",
    "            else:\n",
    "                res = 0\n",
    "\n",
    "            maxVal = max(maxVal, root.val)\n",
    "\n",
    "            return res + dfs(root.left, maxVal) + dfs(root.right, maxVal)\n",
    "        #root node is always good\n",
    "        return dfs(root, root.val)\n"
   ]
  }
 ],
 "metadata": {
  "kernelspec": {
   "display_name": "base",
   "language": "python",
   "name": "python3"
  },
  "language_info": {
   "codemirror_mode": {
    "name": "ipython",
    "version": 3
   },
   "file_extension": ".py",
   "mimetype": "text/x-python",
   "name": "python",
   "nbconvert_exporter": "python",
   "pygments_lexer": "ipython3",
   "version": "3.8.8"
  },
  "orig_nbformat": 4,
  "vscode": {
   "interpreter": {
    "hash": "ad2bdc8ecc057115af97d19610ffacc2b4e99fae6737bb82f5d7fb13d2f2c186"
   }
  }
 },
 "nbformat": 4,
 "nbformat_minor": 2
}
