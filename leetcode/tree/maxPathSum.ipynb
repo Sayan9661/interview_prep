{
 "cells": [
  {
   "cell_type": "code",
   "execution_count": 8,
   "metadata": {},
   "outputs": [],
   "source": [
    "class TreeNode:\n",
    "    def __init__(self,val=0, left=None, right=None):\n",
    "        self.val = val\n",
    "        self.left = left\n",
    "        self.right = right\n"
   ]
  },
  {
   "cell_type": "code",
   "execution_count": 17,
   "metadata": {},
   "outputs": [],
   "source": [
    "def from_list(elements):\n",
    "    root_node = TreeNode(val=elements[0])\n",
    "    nodes = [root_node]\n",
    "    for i, val in enumerate(elements[1:]):\n",
    "        if val is None:\n",
    "            continue\n",
    "        parent_node = nodes[i // 2]\n",
    "        is_left = (i % 2 == 0)\n",
    "        node = TreeNode(val=val)\n",
    "        if is_left:\n",
    "            parent_node.left = node\n",
    "        else:\n",
    "            parent_node.right = node\n",
    "        nodes.append(node)\n",
    "\n",
    "    return root_node\n"
   ]
  },
  {
   "attachments": {},
   "cell_type": "markdown",
   "metadata": {},
   "source": [
    "![](2023-01-17-15-46-09.png)"
   ]
  },
  {
   "attachments": {},
   "cell_type": "markdown",
   "metadata": {},
   "source": [
    "## Logic:\n",
    "At each node calculate the max sum by splitting(left sub tree max + right sub tree max + node.val) and store in res<br>\n",
    "return recursively from function the max sum of left path or right path + node.val (sum if split)"
   ]
  },
  {
   "cell_type": "code",
   "execution_count": 16,
   "metadata": {},
   "outputs": [],
   "source": [
    "def maxPathSum(root:[TreeNode]) -> int:\n",
    "    #so at each node we compute the path sum with split and without split\n",
    "    res = [root.val]\n",
    "\n",
    "    def dfs(root):\n",
    "        if not root:\n",
    "            return 0\n",
    "\n",
    "        #compute the max path sum of the left and right sub trees if negetive we can choose not to include so take max with 0\n",
    "        leftMax = max(dfs(root.left), 0)\n",
    "        rightMax = max(dfs(root.right), 0)\n",
    "\n",
    "        #compute the max path sum with splitting\n",
    "        res[0] = max(res[0], leftMax+rightMax+root.val)\n",
    "\n",
    "        #return the max path sum without splitting\n",
    "        return max(root.val+leftMax, root.val+rightMax)\n",
    "    dfs(root)\n",
    "    return res[0]\n"
   ]
  },
  {
   "cell_type": "code",
   "execution_count": 18,
   "metadata": {},
   "outputs": [
    {
     "name": "stdout",
     "output_type": "stream",
     "text": [
      "2\n"
     ]
    },
    {
     "data": {
      "text/plain": [
       "6"
      ]
     },
     "execution_count": 18,
     "metadata": {},
     "output_type": "execute_result"
    }
   ],
   "source": [
    "list1 =[1, 2, 3]\n",
    "root=from_list(list1)\n",
    "\n",
    "maxPathSum(root)\n"
   ]
  },
  {
   "cell_type": "code",
   "execution_count": 20,
   "metadata": {},
   "outputs": [],
   "source": [
    "def maxPathSum(self, root:[TreeNode]) -> int:\n",
    "    #without using global list to store no split max\n",
    "\n",
    "    def dfs(root):\n",
    "        if not root:\n",
    "            return [0, float('-inf')]\n",
    "\n",
    "        #compute the max path sum of the left and right sub trees if negetive we can choose not to include so take max with 0\n",
    "        leftMax, sumNoSplitLeft = dfs(root.left)\n",
    "        leftMax = max(leftMax, 0)\n",
    "        rightMax, sumNoSplitRight = dfs(root.right)\n",
    "        rightMax = max(rightMax, 0)\n",
    "\n",
    "        #compute the max path sum with splitting\n",
    "        sumNoSplit = max(leftMax+rightMax+root.val,\n",
    "                            sumNoSplitLeft, sumNoSplitRight)\n",
    "\n",
    "        #return the max path sum without splitting\n",
    "        sumSplit = max(root.val+leftMax, root.val+rightMax)\n",
    "        return [sumSplit, sumNoSplit]\n",
    "    res = dfs(root)\n",
    "    print(res)\n",
    "    return max(res)\n"
   ]
  }
 ],
 "metadata": {
  "kernelspec": {
   "display_name": "base",
   "language": "python",
   "name": "python3"
  },
  "language_info": {
   "codemirror_mode": {
    "name": "ipython",
    "version": 3
   },
   "file_extension": ".py",
   "mimetype": "text/x-python",
   "name": "python",
   "nbconvert_exporter": "python",
   "pygments_lexer": "ipython3",
   "version": "3.8.8 (default, Apr 13 2021, 15:08:03) [MSC v.1916 64 bit (AMD64)]"
  },
  "orig_nbformat": 4,
  "vscode": {
   "interpreter": {
    "hash": "ad2bdc8ecc057115af97d19610ffacc2b4e99fae6737bb82f5d7fb13d2f2c186"
   }
  }
 },
 "nbformat": 4,
 "nbformat_minor": 2
}
