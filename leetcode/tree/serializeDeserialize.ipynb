{
 "cells": [
  {
   "cell_type": "code",
   "execution_count": 6,
   "metadata": {},
   "outputs": [],
   "source": [
    "class TreeNode(object):\n",
    "    def __init__(self, val):\n",
    "        self.val = val\n",
    "        self.left = None\n",
    "        self.right = None\n"
   ]
  },
  {
   "cell_type": "code",
   "execution_count": 7,
   "metadata": {},
   "outputs": [],
   "source": [
    "def from_list(elements):\n",
    "    root_node = TreeNode(val=elements[0])\n",
    "    nodes = [root_node]\n",
    "    for i, val in enumerate(elements[1:]):\n",
    "        if val is None:\n",
    "            continue\n",
    "        parent_node = nodes[i // 2]\n",
    "        is_left = (i % 2 == 0)\n",
    "        node = TreeNode(val=val)\n",
    "        if is_left:\n",
    "            parent_node.left = node\n",
    "        else:\n",
    "            parent_node.right = node\n",
    "        nodes.append(node)\n",
    "\n",
    "    return root_node\n"
   ]
  },
  {
   "attachments": {},
   "cell_type": "markdown",
   "metadata": {},
   "source": [
    "## serialize:\n",
    "preorder traversal and add 'N' for none nodes.(2 none children is leaf node)"
   ]
  },
  {
   "attachments": {},
   "cell_type": "markdown",
   "metadata": {},
   "source": [
    "![](2023-01-18-18-57-33.png)"
   ]
  },
  {
   "attachments": {},
   "cell_type": "markdown",
   "metadata": {},
   "source": [
    "## deserialize:\n",
    "go throught the list and if 'N' then return None else continue preorder traversal"
   ]
  },
  {
   "attachments": {},
   "cell_type": "markdown",
   "metadata": {},
   "source": [
    "![](2023-01-18-18-57-00.png)"
   ]
  },
  {
   "cell_type": "code",
   "execution_count": 3,
   "metadata": {},
   "outputs": [],
   "source": [
    "class Codec:\n",
    "\n",
    "    def serialize(self, root):\n",
    "        #to store the result in list\n",
    "        res=[]\n",
    "\n",
    "        #preorder traversal and add to list\n",
    "        def dfs(root):\n",
    "            if not root:\n",
    "                res.append('Null')\n",
    "                return\n",
    "            res.append(str(root.val))\n",
    "            dfs(root.left)\n",
    "            dfs(root.right)\n",
    "        dfs(root)\n",
    "        return ','.join(res)\n",
    "\n",
    "        \n",
    "\n",
    "    def deserialize(self, data):\n",
    "        self.i=0\n",
    "        vals=data.split(',')\n",
    "\n",
    "\n",
    "        def dfs():\n",
    "            if vals[self.i]=='Null':\n",
    "                self.i+=1\n",
    "                return None\n",
    "\n",
    "            node=TreeNode(int(vals[self.i]))\n",
    "            self.i+=1\n",
    "            node.left=dfs()\n",
    "            node.right=dfs()\n",
    "            return node\n",
    "        return dfs()\n",
    "        "
   ]
  },
  {
   "cell_type": "code",
   "execution_count": 16,
   "metadata": {},
   "outputs": [
    {
     "data": {
      "text/plain": [
       "<__main__.TreeNode at 0x1d772320c70>"
      ]
     },
     "execution_count": 16,
     "metadata": {},
     "output_type": "execute_result"
    }
   ],
   "source": [
    "root=from_list([1, 2, 3, None, None, 4, 5])\n",
    "obj=Codec()\n",
    "obj.deserialize(obj.serialize(root))\n"
   ]
  }
 ],
 "metadata": {
  "kernelspec": {
   "display_name": "base",
   "language": "python",
   "name": "python3"
  },
  "language_info": {
   "codemirror_mode": {
    "name": "ipython",
    "version": 3
   },
   "file_extension": ".py",
   "mimetype": "text/x-python",
   "name": "python",
   "nbconvert_exporter": "python",
   "pygments_lexer": "ipython3",
   "version": "3.8.8"
  },
  "orig_nbformat": 4,
  "vscode": {
   "interpreter": {
    "hash": "ad2bdc8ecc057115af97d19610ffacc2b4e99fae6737bb82f5d7fb13d2f2c186"
   }
  }
 },
 "nbformat": 4,
 "nbformat_minor": 2
}
