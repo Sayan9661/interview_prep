{
 "cells": [
  {
   "attachments": {},
   "cell_type": "markdown",
   "metadata": {},
   "source": [
    "![](2023-01-12-03-53-20.png)"
   ]
  },
  {
   "attachments": {},
   "cell_type": "markdown",
   "metadata": {},
   "source": [
    "## algo:\n",
    "Note : all elements are unique\n",
    "<ul>\n",
    "<li>first element in preorder gives us the root</li>\n",
    "<li>look up that element in the inorder list and the elements left are in left subtree same with right</li>\n",
    "<li>now partition the preorder accrding to this info and then repeat for each part</li>\n",
    "<ul>"
   ]
  },
  {
   "attachments": {},
   "cell_type": "markdown",
   "metadata": {},
   "source": []
  },
  {
   "cell_type": "code",
   "execution_count": 1,
   "metadata": {},
   "outputs": [],
   "source": [
    "# Definition for a binary tree node.\n",
    "class TreeNode:\n",
    "    def __init__(self, val=0, left=None, right=None):\n",
    "        self.val = val\n",
    "        self.left = left\n",
    "        self.right = right\n",
    "class Solution:\n",
    "    def buildTree(self, preorder, inorder) -> [TreeNode]:\n",
    "\n",
    "        # map={inorder[i]:i for i in range(len(inorder))}\n",
    "\n",
    "        # def recur():\n",
    "\n",
    "        if not preorder or not inorder:\n",
    "            return None\n",
    "\n",
    "        root = TreeNode(preorder[0])\n",
    "        #find index of the root in inorder so that we can get the subarrays for the left and right subtrees\n",
    "        idx_root = inorder.index(root.val)\n",
    "        #look at pic above for indices: where-ever we found root in inorder , for preorder l=(1,root idx in inorder inclusive)\n",
    "        #0 idx in preorder was the root so leave that out\n",
    "        root.left = self.buildTree(preorder[1:idx_root+1], inorder[:idx_root])\n",
    "        root.right = self.buildTree(\n",
    "            preorder[idx_root+1:], inorder[idx_root+1:])\n",
    "        return root\n",
    "        # return recur()\n"
   ]
  }
 ],
 "metadata": {
  "kernelspec": {
   "display_name": "base",
   "language": "python",
   "name": "python3"
  },
  "language_info": {
   "codemirror_mode": {
    "name": "ipython",
    "version": 3
   },
   "file_extension": ".py",
   "mimetype": "text/x-python",
   "name": "python",
   "nbconvert_exporter": "python",
   "pygments_lexer": "ipython3",
   "version": "3.8.8"
  },
  "orig_nbformat": 4,
  "vscode": {
   "interpreter": {
    "hash": "ad2bdc8ecc057115af97d19610ffacc2b4e99fae6737bb82f5d7fb13d2f2c186"
   }
  }
 },
 "nbformat": 4,
 "nbformat_minor": 2
}
