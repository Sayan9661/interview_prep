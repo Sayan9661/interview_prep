{
 "cells": [
  {
   "cell_type": "code",
   "execution_count": 32,
   "metadata": {},
   "outputs": [],
   "source": [
    "def myPow( x: float, n: int):\n",
    "    def recur(x, n):\n",
    "        print(x, '^', n, '*', x, '^', n, '=')\n",
    "        \n",
    "        if x == 0: return 0\n",
    "        if n == 0: return 1\n",
    "       \n",
    "        res = recur(x, n//2)\n",
    "        #x^n= x^n/2 * x^n/2(this part of recursion is repeated so just calculate once and multiply by itself)\n",
    "        \n",
    "        res = res*res\n",
    "        print(res)\n",
    "        return res*x if n % 2 else res\n",
    "\n",
    "    res = recur(x,abs(n)) \n",
    "    return res if n>=0 else 1/res\n"
   ]
  },
  {
   "cell_type": "code",
   "execution_count": 33,
   "metadata": {},
   "outputs": [
    {
     "name": "stdout",
     "output_type": "stream",
     "text": [
      "2 ^ 10 * 2 ^ 10 =\n",
      "2 ^ 5 * 2 ^ 5 =\n",
      "2 ^ 2 * 2 ^ 2 =\n",
      "2 ^ 1 * 2 ^ 1 =\n",
      "2 ^ 0 * 2 ^ 0 =\n",
      "1\n",
      "4\n",
      "16\n",
      "1024\n"
     ]
    },
    {
     "data": {
      "text/plain": [
       "1024"
      ]
     },
     "execution_count": 33,
     "metadata": {},
     "output_type": "execute_result"
    }
   ],
   "source": [
    "myPow(2,10)"
   ]
  }
 ],
 "metadata": {
  "kernelspec": {
   "display_name": "base",
   "language": "python",
   "name": "python3"
  },
  "language_info": {
   "codemirror_mode": {
    "name": "ipython",
    "version": 3
   },
   "file_extension": ".py",
   "mimetype": "text/x-python",
   "name": "python",
   "nbconvert_exporter": "python",
   "pygments_lexer": "ipython3",
   "version": "3.8.8"
  },
  "orig_nbformat": 4,
  "vscode": {
   "interpreter": {
    "hash": "ad2bdc8ecc057115af97d19610ffacc2b4e99fae6737bb82f5d7fb13d2f2c186"
   }
  }
 },
 "nbformat": 4,
 "nbformat_minor": 2
}
