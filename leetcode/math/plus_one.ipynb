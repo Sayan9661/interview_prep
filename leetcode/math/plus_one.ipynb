{
 "cells": [
  {
   "cell_type": "code",
   "execution_count": 1,
   "metadata": {},
   "outputs": [
    {
     "name": "stderr",
     "output_type": "stream",
     "text": [
      "<>:5: SyntaxWarning: \"is not\" with a literal. Did you mean \"!=\"?\n",
      "<>:12: SyntaxWarning: \"is\" with a literal. Did you mean \"==\"?\n",
      "<>:5: SyntaxWarning: \"is not\" with a literal. Did you mean \"!=\"?\n",
      "<>:12: SyntaxWarning: \"is\" with a literal. Did you mean \"==\"?\n",
      "<ipython-input-1-20830140962e>:5: SyntaxWarning: \"is not\" with a literal. Did you mean \"!=\"?\n",
      "  if digits[pt]+carry is not 10:\n",
      "<ipython-input-1-20830140962e>:12: SyntaxWarning: \"is\" with a literal. Did you mean \"==\"?\n",
      "  return digits if carry is 0 else [1]+digits\n"
     ]
    }
   ],
   "source": [
    "def plusOne(digits):\n",
    "    pt = len(digits)-1\n",
    "    carry = 1\n",
    "    while(pt > -1):\n",
    "        if digits[pt]+carry is not 10:\n",
    "            digits[pt] += carry\n",
    "            carry = 0\n",
    "        else:\n",
    "            digits[pt] = 0\n",
    "            carry = 1\n",
    "        pt -= 1\n",
    "    return digits if carry is 0 else [1]+digits\n"
   ]
  },
  {
   "cell_type": "code",
   "execution_count": 3,
   "metadata": {},
   "outputs": [
    {
     "data": {
      "text/plain": [
       "[1, 0]"
      ]
     },
     "execution_count": 3,
     "metadata": {},
     "output_type": "execute_result"
    }
   ],
   "source": [
    "plusOne([9])"
   ]
  }
 ],
 "metadata": {
  "kernelspec": {
   "display_name": "base",
   "language": "python",
   "name": "python3"
  },
  "language_info": {
   "codemirror_mode": {
    "name": "ipython",
    "version": 3
   },
   "file_extension": ".py",
   "mimetype": "text/x-python",
   "name": "python",
   "nbconvert_exporter": "python",
   "pygments_lexer": "ipython3",
   "version": "3.8.8"
  },
  "orig_nbformat": 4,
  "vscode": {
   "interpreter": {
    "hash": "ad2bdc8ecc057115af97d19610ffacc2b4e99fae6737bb82f5d7fb13d2f2c186"
   }
  }
 },
 "nbformat": 4,
 "nbformat_minor": 2
}
