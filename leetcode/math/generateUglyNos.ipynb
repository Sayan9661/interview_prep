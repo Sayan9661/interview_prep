{
 "cells": [
  {
   "attachments": {},
   "cell_type": "markdown",
   "metadata": {},
   "source": [
    "ugly numbers are: 2^a* 3^b *5^c, where a,b,c are 0,1,2,....."
   ]
  },
  {
   "attachments": {},
   "cell_type": "markdown",
   "metadata": {},
   "source": [
    "![](2023-02-01-04-48-37.png)"
   ]
  },
  {
   "attachments": {},
   "cell_type": "markdown",
   "metadata": {},
   "source": [
    "## ugly nos pattern(arr) matches the multiplier for 2,3,5 in above , that is nothing other than multiples of 2,3,5"
   ]
  },
  {
   "attachments": {},
   "cell_type": "markdown",
   "metadata": {},
   "source": [
    "no 7* 2 or 7*5 etc as they are not multiples of 2 *3 *5"
   ]
  },
  {
   "attachments": {},
   "cell_type": "markdown",
   "metadata": {},
   "source": [
    "![](2023-02-01-04-25-51.png)"
   ]
  },
  {
   "cell_type": "code",
   "execution_count": 12,
   "metadata": {},
   "outputs": [],
   "source": [
    "def hamming(n):\n",
    "    idx = [0, 0, 0]\n",
    "    Nextmul = [2, 3, 5]\n",
    "    res = [1]\n",
    "    nos = [2, 3, 5]\n",
    "    if n == 1:\n",
    "        return 1\n",
    "\n",
    "    for i in range(n-1):\n",
    "        minval = float('inf')\n",
    "        minind = -1\n",
    "        for j in range(3):\n",
    "            if Nextmul[j] < minval:\n",
    "                minval = Nextmul[j]\n",
    "                minind = j\n",
    "        res.append(minval)\n",
    "\n",
    "        print(f'i2,i3,i5={idx} NextMUL={Nextmul}')\n",
    "        for i in range(3):\n",
    "            if Nextmul[i] == minval:\n",
    "                idx[i] += 1\n",
    "                Nextmul[i] = res[idx[i]]*nos[i]\n",
    "        print(f'res={res}')\n",
    "    \n",
    "    return res[-1]\n"
   ]
  },
  {
   "cell_type": "code",
   "execution_count": 13,
   "metadata": {},
   "outputs": [
    {
     "name": "stdout",
     "output_type": "stream",
     "text": [
      "i2,i3,i5=[0, 0, 0] NextMUL=[2, 3, 5]\n",
      "res=[1, 2]\n",
      "i2,i3,i5=[1, 0, 0] NextMUL=[4, 3, 5]\n",
      "res=[1, 2, 3]\n",
      "i2,i3,i5=[1, 1, 0] NextMUL=[4, 6, 5]\n",
      "res=[1, 2, 3, 4]\n",
      "i2,i3,i5=[2, 1, 0] NextMUL=[6, 6, 5]\n",
      "res=[1, 2, 3, 4, 5]\n",
      "i2,i3,i5=[2, 1, 1] NextMUL=[6, 6, 10]\n",
      "res=[1, 2, 3, 4, 5, 6]\n",
      "i2,i3,i5=[3, 2, 1] NextMUL=[8, 9, 10]\n",
      "res=[1, 2, 3, 4, 5, 6, 8]\n",
      "i2,i3,i5=[4, 2, 1] NextMUL=[10, 9, 10]\n",
      "res=[1, 2, 3, 4, 5, 6, 8, 9]\n",
      "i2,i3,i5=[4, 3, 1] NextMUL=[10, 12, 10]\n",
      "res=[1, 2, 3, 4, 5, 6, 8, 9, 10]\n",
      "i2,i3,i5=[5, 3, 2] NextMUL=[12, 12, 15]\n",
      "res=[1, 2, 3, 4, 5, 6, 8, 9, 10, 12]\n",
      "i2,i3,i5=[6, 4, 2] NextMUL=[16, 15, 15]\n",
      "res=[1, 2, 3, 4, 5, 6, 8, 9, 10, 12, 15]\n",
      "i2,i3,i5=[6, 5, 3] NextMUL=[16, 18, 20]\n",
      "res=[1, 2, 3, 4, 5, 6, 8, 9, 10, 12, 15, 16]\n",
      "i2,i3,i5=[7, 5, 3] NextMUL=[18, 18, 20]\n",
      "res=[1, 2, 3, 4, 5, 6, 8, 9, 10, 12, 15, 16, 18]\n",
      "i2,i3,i5=[8, 6, 3] NextMUL=[20, 24, 20]\n",
      "res=[1, 2, 3, 4, 5, 6, 8, 9, 10, 12, 15, 16, 18, 20]\n",
      "i2,i3,i5=[9, 6, 4] NextMUL=[24, 24, 25]\n",
      "res=[1, 2, 3, 4, 5, 6, 8, 9, 10, 12, 15, 16, 18, 20, 24]\n"
     ]
    },
    {
     "data": {
      "text/plain": [
       "24"
      ]
     },
     "execution_count": 13,
     "metadata": {},
     "output_type": "execute_result"
    }
   ],
   "source": [
    "hamming(15)"
   ]
  },
  {
   "cell_type": "code",
   "execution_count": 3,
   "metadata": {},
   "outputs": [],
   "source": [
    "def hamming(n):\n",
    "    bag = {1}\n",
    "    for _ in range(n - 1):\n",
    "        head = min(bag)\n",
    "        bag.remove(head)\n",
    "        bag |= {head*2, head*3, head*5}\n",
    "        print(bag)\n",
    "    return min(bag)\n"
   ]
  },
  {
   "cell_type": "code",
   "execution_count": 4,
   "metadata": {},
   "outputs": [
    {
     "name": "stdout",
     "output_type": "stream",
     "text": [
      "{2, 3, 5}\n",
      "{3, 4, 5, 6, 10}\n",
      "{4, 5, 6, 9, 10, 15}\n",
      "{5, 6, 8, 9, 10, 12, 15, 20}\n",
      "{6, 8, 9, 10, 12, 15, 20, 25}\n",
      "{8, 9, 10, 12, 15, 18, 20, 25, 30}\n",
      "{40, 9, 10, 12, 15, 16, 18, 20, 24, 25, 30}\n",
      "{40, 10, 12, 45, 15, 16, 18, 20, 24, 25, 27, 30}\n",
      "{40, 12, 45, 15, 16, 18, 50, 20, 24, 25, 27, 30}\n",
      "{36, 40, 45, 15, 16, 18, 50, 20, 24, 25, 27, 60, 30}\n",
      "{36, 40, 75, 45, 16, 18, 50, 20, 24, 25, 27, 60, 30}\n",
      "{32, 36, 40, 75, 45, 48, 80, 18, 50, 20, 24, 25, 27, 60, 30}\n",
      "{75, 80, 20, 24, 25, 90, 27, 30, 32, 36, 40, 45, 48, 50, 54, 60}\n",
      "{75, 80, 24, 25, 90, 27, 30, 32, 36, 100, 40, 45, 48, 50, 54, 60}\n"
     ]
    },
    {
     "data": {
      "text/plain": [
       "24"
      ]
     },
     "execution_count": 4,
     "metadata": {},
     "output_type": "execute_result"
    }
   ],
   "source": [
    "hamming(15)"
   ]
  }
 ],
 "metadata": {
  "kernelspec": {
   "display_name": "base",
   "language": "python",
   "name": "python3"
  },
  "language_info": {
   "codemirror_mode": {
    "name": "ipython",
    "version": 3
   },
   "file_extension": ".py",
   "mimetype": "text/x-python",
   "name": "python",
   "nbconvert_exporter": "python",
   "pygments_lexer": "ipython3",
   "version": "3.8.8"
  },
  "orig_nbformat": 4,
  "vscode": {
   "interpreter": {
    "hash": "ad2bdc8ecc057115af97d19610ffacc2b4e99fae6737bb82f5d7fb13d2f2c186"
   }
  }
 },
 "nbformat": 4,
 "nbformat_minor": 2
}
