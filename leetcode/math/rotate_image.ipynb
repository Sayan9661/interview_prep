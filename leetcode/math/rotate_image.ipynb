{
 "cells": [
  {
   "attachments": {},
   "cell_type": "markdown",
   "metadata": {},
   "source": [
    "![](rotate_image.jpg)"
   ]
  },
  {
   "cell_type": "code",
   "execution_count": 2,
   "metadata": {},
   "outputs": [],
   "source": [
    "def rotate(matrix):\n",
    "    \n",
    "    r, l = len(matrix)-1, 0\n",
    "\n",
    "    while l < r:\n",
    "\n",
    "        #this will rotate a single layer of the square matrix\n",
    "        for i in range(l-l, r-l):\n",
    "            #r-l as the last element in each row is already rotated in first rotation\n",
    "            #also the rotation for each different group in layer is shifted by (0,r-l)\n",
    "\n",
    "            #i will be used to move to me next element in the layer to be rotated\n",
    "\n",
    "            top, bottom = l, r\n",
    "            #save the top left value\n",
    "            save_top_left = matrix[top][l+i]\n",
    "            #copy bottom left to top left\n",
    "            matrix[top][l+i] = matrix[bottom-i][l]\n",
    "            #copy bottom right to bottom left\n",
    "            matrix[bottom-i][l] = matrix[bottom][r-i]\n",
    "            #copy top right to bottom right\n",
    "            matrix[bottom][r-i] = matrix[top+i][r]\n",
    "            #copy the top left to top right\n",
    "            matrix[top+i][r] = save_top_left\n",
    "\n",
    "        r -= 1\n",
    "        l += 1\n"
   ]
  },
  {
   "cell_type": "code",
   "execution_count": 6,
   "metadata": {},
   "outputs": [
    {
     "name": "stdout",
     "output_type": "stream",
     "text": [
      "[[ 4 33 13 32 12  2]\n",
      " [24  1 14 33 27 29]\n",
      " [ 1 20 32 32  9 20]\n",
      " [ 6  7 27  2 25 26]\n",
      " [32 21 22 28 13 16]\n",
      " [34  7 26 14 21 28]]\n"
     ]
    }
   ],
   "source": [
    "import numpy as np\n",
    "matrix=[[2,29,20,26,16,28],\n",
    "        [12,27,9,25,13,21],\n",
    "        [32,33,32,2,28,14],\n",
    "        [13,14,32,27,22,26],\n",
    "        [33,1,20,7,21,7],\n",
    "        [4,24,1,6,32,34]]\n",
    "rotate(matrix)\n",
    "print(np.matrix(matrix).view())\n"
   ]
  }
 ],
 "metadata": {
  "kernelspec": {
   "display_name": "base",
   "language": "python",
   "name": "python3"
  },
  "language_info": {
   "codemirror_mode": {
    "name": "ipython",
    "version": 3
   },
   "file_extension": ".py",
   "mimetype": "text/x-python",
   "name": "python",
   "nbconvert_exporter": "python",
   "pygments_lexer": "ipython3",
   "version": "3.8.8 (default, Apr 13 2021, 15:08:03) [MSC v.1916 64 bit (AMD64)]"
  },
  "orig_nbformat": 4,
  "vscode": {
   "interpreter": {
    "hash": "ad2bdc8ecc057115af97d19610ffacc2b4e99fae6737bb82f5d7fb13d2f2c186"
   }
  }
 },
 "nbformat": 4,
 "nbformat_minor": 2
}
