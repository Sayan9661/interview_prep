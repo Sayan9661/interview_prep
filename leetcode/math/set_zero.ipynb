{
 "cells": [
  {
   "attachments": {},
   "cell_type": "markdown",
   "metadata": {},
   "source": [
    "![](2022-12-30-03-44-13.png)"
   ]
  },
  {
   "attachments": {},
   "cell_type": "markdown",
   "metadata": {},
   "source": [
    "### algo 1: O(m.n) just make copy and update rows and cols in copy then copy back to original\n",
    "### algo 2: O(m+n) take 2 arrays update rows and cols array then update to original\n",
    "### algo 3: O(1) take 2 arrays which are the first row and col of the matrix itself and 1 extra cell to avoid overlap then do above."
   ]
  },
  {
   "cell_type": "code",
   "execution_count": 10,
   "metadata": {},
   "outputs": [],
   "source": [
    "import numpy as np\n",
    "def setZeroes(matrix):\n",
    "   \n",
    "    setrow0 = 1\n",
    "\n",
    "    for r in range(len(matrix)):\n",
    "        for c in range(len(matrix[0])):\n",
    "            if matrix[r][c] == 0:\n",
    "                matrix[0][c] = 0\n",
    "                if r > 0:\n",
    "                    matrix[r][0] = 0\n",
    "                else:\n",
    "                    setrow0 = 0\n",
    "    print(np.matrix(matrix).view(), setrow0)\n",
    "    for r in range(1, len(matrix)):\n",
    "        for c in range(1, len(matrix[0])):\n",
    "            if matrix[r][0] == 0 or matrix[0][c] ==0:\n",
    "                matrix[r][c] = 0\n",
    "    print(np.matrix(matrix).view(), setrow0)\n",
    "    if matrix[0][0] == 0:\n",
    "        for r in range(len(matrix)):\n",
    "            matrix[r][0] = 0\n",
    "    print(np.matrix(matrix).view(), setrow0)\n",
    "    if setrow0 == 0:\n",
    "        for c in range(len(matrix[0])):\n",
    "            matrix[0][c] = 0\n"
   ]
  },
  {
   "cell_type": "code",
   "execution_count": 11,
   "metadata": {},
   "outputs": [
    {
     "name": "stdout",
     "output_type": "stream",
     "text": [
      "[[1 0 1]\n",
      " [0 0 1]\n",
      " [1 1 1]] 1\n",
      "[[1 0 1]\n",
      " [0 0 0]\n",
      " [1 0 1]] 1\n",
      "[[1 0 1]\n",
      " [0 0 0]\n",
      " [1 0 1]] 1\n",
      "[[1 0 1]\n",
      " [0 0 0]\n",
      " [1 0 1]]\n"
     ]
    }
   ],
   "source": [
    "import numpy as np\n",
    "matrix=[[1,1,1],[1,0,1],[1,1,1]]\n",
    "setZeroes(matrix)\n",
    "print(np.matrix(matrix).view())"
   ]
  }
 ],
 "metadata": {
  "kernelspec": {
   "display_name": "base",
   "language": "python",
   "name": "python3"
  },
  "language_info": {
   "codemirror_mode": {
    "name": "ipython",
    "version": 3
   },
   "file_extension": ".py",
   "mimetype": "text/x-python",
   "name": "python",
   "nbconvert_exporter": "python",
   "pygments_lexer": "ipython3",
   "version": "3.8.8"
  },
  "orig_nbformat": 4,
  "vscode": {
   "interpreter": {
    "hash": "ad2bdc8ecc057115af97d19610ffacc2b4e99fae6737bb82f5d7fb13d2f2c186"
   }
  }
 },
 "nbformat": 4,
 "nbformat_minor": 2
}
