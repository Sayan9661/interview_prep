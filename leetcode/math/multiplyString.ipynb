{
 "cells": [
  {
   "cell_type": "code",
   "execution_count": 1,
   "metadata": {},
   "outputs": [],
   "source": [
    "class Solution:\n",
    "    def multiply(self, num1: str, num2: str) -> str:\n",
    "\n",
    "        if num1 == '0' or num2 == '0':\n",
    "            return '0'\n",
    "\n",
    "        res = [0]*(len(num1)+len(num2))\n",
    "        num1, num2 = num1[::-1], num2[::-1]\n",
    "        for i, n1 in enumerate(num1):\n",
    "            for j, n2 in enumerate(num2):\n",
    "                digit = int(n1)*int(n2)\n",
    "                res[i+j] += digit\n",
    "                res[i+j+1] += res[i+j]//10\n",
    "                res[i+j] = res[i+j] % 10\n",
    "\n",
    "        res = res[::-1]\n",
    "        start = 0\n",
    "        while(start < len(res) and res[start] == 0):\n",
    "            start += 1\n",
    "\n",
    "        out = \"\"\n",
    "        for i in range(start, len(res)):\n",
    "            out += str(res[i])\n",
    "\n",
    "        return out\n"
   ]
  },
  {
   "cell_type": "code",
   "execution_count": 2,
   "metadata": {},
   "outputs": [
    {
     "data": {
      "text/plain": [
       "'6'"
      ]
     },
     "execution_count": 2,
     "metadata": {},
     "output_type": "execute_result"
    }
   ],
   "source": [
    "num1 = \"2\"\n",
    "num2 = \"3\"\n",
    "Solution().multiply(num1,num2)"
   ]
  }
 ],
 "metadata": {
  "kernelspec": {
   "display_name": "web_python",
   "language": "python",
   "name": "python3"
  },
  "language_info": {
   "codemirror_mode": {
    "name": "ipython",
    "version": 3
   },
   "file_extension": ".py",
   "mimetype": "text/x-python",
   "name": "python",
   "nbconvert_exporter": "python",
   "pygments_lexer": "ipython3",
   "version": "3.11.0"
  },
  "orig_nbformat": 4
 },
 "nbformat": 4,
 "nbformat_minor": 2
}
