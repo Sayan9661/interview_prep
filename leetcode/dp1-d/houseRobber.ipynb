{
 "cells": [
  {
   "attachments": {},
   "cell_type": "markdown",
   "metadata": {},
   "source": [
    "https://leetcode.com/problems/house-robber/solutions/156523/from-good-to-great-how-to-approach-most-of-dp-problems/?orderBy=most_votes"
   ]
  },
  {
   "attachments": {},
   "cell_type": "markdown",
   "metadata": {},
   "source": [
    "Q: You are a professional robber planning to rob houses along a street. Each house has a certain amount of money stashed, the only constraint stopping you from robbing each of them is that adjacent houses have security systems connected and it will automatically contact the police if two adjacent houses were broken into on the same night.\n",
    "\n",
    "Given an integer array nums representing the amount of money of each house, return the maximum amount of money you can rob tonight without alerting the police.\n",
    "\n",
    " \n",
    "\n",
    "Example 1:\n",
    "\n",
    "Input: nums = [1,2,3,1]<br>\n",
    "Output: 4<br>\n",
    "Explanation: Rob house 1 (money = 1) and then rob house 3 (money = 3).<br>\n",
    "Total amount you can rob = 1 + 3 = 4.<br>"
   ]
  },
  {
   "cell_type": "code",
   "execution_count": 9,
   "metadata": {},
   "outputs": [],
   "source": [
    "def rob(nums) -> int:\n",
    "    rob1, rob2 = 0, 0\n",
    "\n",
    "    for n in nums:\n",
    "        \n",
    "        #houses: rob1,rob2,n,n+1,......\n",
    "        robVal = max(n+rob1, rob2)\n",
    "        print(f'rob1={rob1},rob2={rob2},robval={robVal},n={n}')\n",
    "\n",
    "        rob1 = rob2\n",
    "        rob2 = robVal\n",
    "    return rob2\n",
    "\n"
   ]
  },
  {
   "cell_type": "code",
   "execution_count": 10,
   "metadata": {},
   "outputs": [
    {
     "name": "stdout",
     "output_type": "stream",
     "text": [
      "rob1=0,rob2=0,robval=2,n=2\n",
      "rob1=0,rob2=2,robval=7,n=7\n",
      "rob1=2,rob2=7,robval=11,n=9\n",
      "rob1=7,rob2=11,robval=11,n=3\n",
      "rob1=11,rob2=11,robval=12,n=1\n"
     ]
    },
    {
     "data": {
      "text/plain": [
       "12"
      ]
     },
     "execution_count": 10,
     "metadata": {},
     "output_type": "execute_result"
    }
   ],
   "source": [
    "nums = [2,7,9,3,1]\n",
    "rob(nums)"
   ]
  },
  {
   "cell_type": "code",
   "execution_count": 3,
   "metadata": {},
   "outputs": [],
   "source": [
    "#recursive brute force O(2^N)\n",
    "def rob(self,nums) -> int:\n",
    "    self.nums=nums\n",
    "    return self.recur(len(nums)-1)\n",
    "def recur(self,i):\n",
    "    if i<0:\n",
    "        return 0\n",
    "    return max(self.nums[i]+self.recur(i-2) , self.recur(i-1))\n"
   ]
  },
  {
   "cell_type": "code",
   "execution_count": 5,
   "metadata": {},
   "outputs": [],
   "source": [
    "#recursive(top down) +memoization O(n):time and space\n",
    "def rob(self, nums) -> int:\n",
    "    self.nums=nums\n",
    "    self.dp=[-1]*len(nums)\n",
    "    return self.recur(len(nums)-1)\n",
    "def recur(self,i):\n",
    "    if i<0:\n",
    "        return 0\n",
    "    if self.dp[i]!=-1:\n",
    "        return self.dp[i]\n",
    "    self.dp[i]=max(self.nums[i]+self.recur(i-2) , self.recur(i-1))\n",
    "    return self.dp[i]\n"
   ]
  },
  {
   "cell_type": "code",
   "execution_count": 6,
   "metadata": {},
   "outputs": [],
   "source": [
    "#iterative O(n):space and time, bottom up approach\n",
    "#dp[] ---> max value of rob till index i.\n",
    "def rob(self, nums) -> int:\n",
    "    if len(nums)==1:return nums[0]\n",
    "    dp=[-1]*len(nums)\n",
    "    dp[0]=nums[0]\n",
    "    dp[1]=max(nums[1],nums[0])\n",
    "    for i in range(2,len(nums)):\n",
    "        dp[i]=max(nums[i]+dp[i-2],dp[i-1])\n",
    "    print(dp)\n",
    "    return dp[-1]\n"
   ]
  },
  {
   "cell_type": "code",
   "execution_count": 7,
   "metadata": {},
   "outputs": [],
   "source": [
    "#iterative O(n) with O(1) space\n",
    "def rob(self, nums) -> int:\n",
    "    rob1, rob2 = 0, 0\n",
    "\n",
    "    for i, n in enumerate(nums):\n",
    "        robtillidx = max(n+rob1, rob2)\n",
    "        rob1 = rob2\n",
    "        rob2 = robtillidx\n",
    "        # print(f'i={i},rob till {i}={robtillidx}')\n",
    "    return rob2\n"
   ]
  },
  {
   "attachments": {},
   "cell_type": "markdown",
   "metadata": {},
   "source": [
    "![](2023-01-31-16-33-16.png)"
   ]
  },
  {
   "cell_type": "code",
   "execution_count": 5,
   "metadata": {},
   "outputs": [],
   "source": [
    "class Sol:\n",
    "    #we can rob houses starting from 1st house (excluding last) or rob the last house (excluding the first) \n",
    "    #if there is only one house then rob that\n",
    "    \n",
    "    def rob2(self, nums) -> int:\n",
    "        return max(nums[0], self.rob(nums[1:]), self.rob(nums[:-1]))\n",
    "\n",
    "\n",
    "#code from house robber 1\n",
    "    def rob(self, nums) -> int:\n",
    "        self.nums = nums\n",
    "        self.dp = [-1]*len(nums)\n",
    "        return self.recur(len(nums)-1)\n",
    "\n",
    "\n",
    "    def recur(self, i):\n",
    "        if i < 0:\n",
    "            return 0\n",
    "        if self.dp[i] != -1:\n",
    "            return self.dp[i]\n",
    "        self.dp[i] = max(self.nums[i]+self.recur(i-2), self.recur(i-1))\n",
    "        return self.dp[i]\n"
   ]
  },
  {
   "cell_type": "code",
   "execution_count": 6,
   "metadata": {},
   "outputs": [
    {
     "data": {
      "text/plain": [
       "4"
      ]
     },
     "execution_count": 6,
     "metadata": {},
     "output_type": "execute_result"
    }
   ],
   "source": [
    "nums = [1, 2, 3, 1]\n",
    "Sol().rob2(nums)"
   ]
  }
 ],
 "metadata": {
  "kernelspec": {
   "display_name": "base",
   "language": "python",
   "name": "python3"
  },
  "language_info": {
   "codemirror_mode": {
    "name": "ipython",
    "version": 3
   },
   "file_extension": ".py",
   "mimetype": "text/x-python",
   "name": "python",
   "nbconvert_exporter": "python",
   "pygments_lexer": "ipython3",
   "version": "3.8.16"
  },
  "orig_nbformat": 4,
  "vscode": {
   "interpreter": {
    "hash": "ad2bdc8ecc057115af97d19610ffacc2b4e99fae6737bb82f5d7fb13d2f2c186"
   }
  }
 },
 "nbformat": 4,
 "nbformat_minor": 2
}
