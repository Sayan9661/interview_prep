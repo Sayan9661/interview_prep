{
 "cells": [
  {
   "attachments": {},
   "cell_type": "markdown",
   "metadata": {},
   "source": [
    "https://leetcode.com/problems/min-cost-climbing-stairs/solutions/476388/4-ways-step-by-step-from-recursion-top-down-dp-bottom-up-dp-fine-tuning/?orderBy=most_votes"
   ]
  },
  {
   "cell_type": "code",
   "execution_count": 8,
   "metadata": {},
   "outputs": [],
   "source": [
    "def minCostClimbingStairs(cost) -> int:\n",
    "\n",
    "    costFromIdx = [-1]*len(cost)\n",
    "\n",
    "    mincost = float('inf')\n",
    "\n",
    "    costFromIdx[-1] = cost[-1]\n",
    "\n",
    "    costFromIdx[-2] = cost[-2]\n",
    "\n",
    "    if len(cost) > 2:\n",
    "        for i in range(len(cost)-3, -1, -1):\n",
    "            costFromIdx[i] = cost[i] + min(costFromIdx[i+1], costFromIdx[i+2])\n",
    "\n",
    "    print(costFromIdx)\n",
    "    return min(costFromIdx[0], costFromIdx[1])\n"
   ]
  },
  {
   "cell_type": "code",
   "execution_count": 9,
   "metadata": {},
   "outputs": [
    {
     "name": "stdout",
     "output_type": "stream",
     "text": [
      "[6, 105, 5, 5, 4, 102, 3, 2, 100, 1]\n"
     ]
    },
    {
     "data": {
      "text/plain": [
       "6"
      ]
     },
     "execution_count": 9,
     "metadata": {},
     "output_type": "execute_result"
    }
   ],
   "source": [
    "cost = [1,100,1,1,1,100,1,1,100,1]\n",
    "minCostClimbingStairs(cost)\n"
   ]
  },
  {
   "attachments": {},
   "cell_type": "markdown",
   "metadata": {},
   "source": [
    "another approch strating from idx 0,1 and then solution is min of last 2 indices"
   ]
  },
  {
   "cell_type": "code",
   "execution_count": 10,
   "metadata": {},
   "outputs": [],
   "source": [
    "def minCostClimbingStairs(self, cost) -> int:\n",
    "    n = len(cost)\n",
    "    dp = [0] * (n + 1)  # dp[i] is minimum cost to reach to i_th floor\n",
    "    for i in range(2, n + 1):\n",
    "        # Minimum cost if we jump 1 step from floor (i-1)_th to i_th floor\n",
    "        jumpOneStep = dp[i - 1] + cost[i - 1]\n",
    "        # Minimum cost if we jump 2 steps from floor (i-2)_th to i_th floor\n",
    "        jumpTwoStep = dp[i - 2] + cost[i - 2]\n",
    "        dp[i] = min(jumpOneStep, jumpTwoStep)\n",
    "    return dp[n]\n"
   ]
  }
 ],
 "metadata": {
  "kernelspec": {
   "display_name": "base",
   "language": "python",
   "name": "python3"
  },
  "language_info": {
   "codemirror_mode": {
    "name": "ipython",
    "version": 3
   },
   "file_extension": ".py",
   "mimetype": "text/x-python",
   "name": "python",
   "nbconvert_exporter": "python",
   "pygments_lexer": "ipython3",
   "version": "3.8.8"
  },
  "orig_nbformat": 4,
  "vscode": {
   "interpreter": {
    "hash": "ad2bdc8ecc057115af97d19610ffacc2b4e99fae6737bb82f5d7fb13d2f2c186"
   }
  }
 },
 "nbformat": 4,
 "nbformat_minor": 2
}
