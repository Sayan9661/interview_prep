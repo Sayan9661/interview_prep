{
 "cells": [
  {
   "attachments": {},
   "cell_type": "markdown",
   "metadata": {},
   "source": [
    "## Logic:\n",
    "Store the max and min product at each index in the array because the min might multiply with a negetive numbeer in the next position and turn out to be the max as a contiguous subarray.<br>\n",
    "\n",
    "so at each position i,we take max/min of  (prev max)*nums[i], (prev min)*nums[i], nums[i] (number at that position by itself might be max or min)"
   ]
  },
  {
   "attachments": {},
   "cell_type": "markdown",
   "metadata": {},
   "source": [
    "![](2023-01-29-20-54-34.png)"
   ]
  },
  {
   "cell_type": "code",
   "execution_count": 3,
   "metadata": {},
   "outputs": [],
   "source": [
    "def maxProduct( nums) -> int:\n",
    "\n",
    "    # set the initial result to the max of arr useful if only one element\n",
    "    res = max(nums)\n",
    "    #store curMax and curMin for each value we encounter\n",
    "    curMax, curMin = 1, 1\n",
    "\n",
    "    for i in nums:\n",
    "        #store cur max in temp var as we will need it.\n",
    "        #max/min now might be +*+(i)  or -*-(i) or the num itself\n",
    "        tmp = max(curMax*i, curMin*i, i)\n",
    "        curMin = min(curMax*i, curMin*i, i)\n",
    "        #0 value will be handled by the ,i above\n",
    "        curMax = tmp\n",
    "        \n",
    "        print(f'curMin={curMin} and curMax={curMax}')\n",
    "        res = max(res, curMax)\n",
    "        print(f'result={res}')\n",
    "        print()\n",
    "    return res\n",
    "\n",
    "\n"
   ]
  },
  {
   "cell_type": "code",
   "execution_count": 5,
   "metadata": {},
   "outputs": [
    {
     "name": "stdout",
     "output_type": "stream",
     "text": [
      "curMin=-4 and curMax=-4\n",
      "result=5\n",
      "\n",
      "curMin=-2 and curMax=8\n",
      "result=8\n",
      "\n",
      "curMin=-24 and curMax=6\n",
      "result=8\n",
      "\n",
      "curMin=0 and curMax=0\n",
      "result=8\n",
      "\n",
      "curMin=0 and curMax=3\n",
      "result=8\n",
      "\n",
      "curMin=0 and curMax=15\n",
      "result=15\n",
      "\n"
     ]
    },
    {
     "data": {
      "text/plain": [
       "15"
      ]
     },
     "execution_count": 5,
     "metadata": {},
     "output_type": "execute_result"
    }
   ],
   "source": [
    "nums=[-4,-2,-3,0,3,5]\n",
    "maxProduct(nums)"
   ]
  },
  {
   "attachments": {},
   "cell_type": "markdown",
   "metadata": {},
   "source": [
    "## Using prefix and suffix product"
   ]
  },
  {
   "attachments": {},
   "cell_type": "markdown",
   "metadata": {},
   "source": [
    "First, if there's no zero in the array, then the subarray with maximum product must start with the first element or end with the last element. And therefore, the maximum product must be some prefix product or suffix product. So in this solution, we compute the prefix product A and suffix product B, and simply return the maximum of A and B.\n",
    "\n",
    "Why? Here's the proof:\n",
    "\n",
    "Say, we have a subarray A[i : j](i != 0, j != n) and the product of elements inside is P. Take P > 0 for example: if A[i] > 0 or A[j] > 0, then obviously, we should extend this subarray to include A[i] or A[j]; if both A[i] and A[j] are negative, then extending this subarray to include both A[i] and A[j] to get a larger product. Repeating this procedure and eventually we will reach the beginning or the end of A.\n",
    "\n",
    "What if there are zeroes in the array? Well, we can split the array into several smaller ones. That's to say, when the prefix product is 0, we start over and compute prefix profuct from the current element instead. And this is exactly what A[i] *= (A[i - 1]) or 1 does."
   ]
  },
  {
   "cell_type": "code",
   "execution_count": 12,
   "metadata": {},
   "outputs": [],
   "source": [
    "def maxProduct(A):\n",
    "    B = A[::-1]\n",
    "    for i in range(1, len(A)):\n",
    "        A[i] *= A[i - 1] or 1\n",
    "        B[i] *= B[i - 1] or 1\n",
    "        print(A,B)\n",
    "    print(A+B)\n",
    "    return max(A + B)\n"
   ]
  },
  {
   "cell_type": "code",
   "execution_count": 17,
   "metadata": {},
   "outputs": [
    {
     "name": "stdout",
     "output_type": "stream",
     "text": [
      "[2, 6, -2, 4] [4, -8, 3, 2]\n",
      "[2, 6, -12, 4] [4, -8, -24, 2]\n",
      "[2, 6, -12, -48] [4, -8, -24, -48]\n",
      "[2, 6, -12, -48, 4, -8, -24, -48]\n"
     ]
    },
    {
     "data": {
      "text/plain": [
       "6"
      ]
     },
     "execution_count": 17,
     "metadata": {},
     "output_type": "execute_result"
    }
   ],
   "source": [
    "nums = [-4, -2, -3, 0, 3, 5]\n",
    "nums1 = [-2, 0, -1]\n",
    "nums2 = [2, 3, -2, 4]\n",
    "maxProduct(nums2)\n"
   ]
  }
 ],
 "metadata": {
  "kernelspec": {
   "display_name": "base",
   "language": "python",
   "name": "python3"
  },
  "language_info": {
   "codemirror_mode": {
    "name": "ipython",
    "version": 3
   },
   "file_extension": ".py",
   "mimetype": "text/x-python",
   "name": "python",
   "nbconvert_exporter": "python",
   "pygments_lexer": "ipython3",
   "version": "3.8.16"
  },
  "orig_nbformat": 4,
  "vscode": {
   "interpreter": {
    "hash": "ad2bdc8ecc057115af97d19610ffacc2b4e99fae6737bb82f5d7fb13d2f2c186"
   }
  }
 },
 "nbformat": 4,
 "nbformat_minor": 2
}
