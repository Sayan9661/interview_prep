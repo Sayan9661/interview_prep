{
 "cells": [
  {
   "attachments": {},
   "cell_type": "markdown",
   "metadata": {},
   "source": [
    "### for odd palindromes with one middle chars\n",
    "![for odd palindromes with one middle chars](2023-01-28-21-23-06.png)\n",
    "\n",
    "### for even palindromes with 2 middle chars\n",
    "![](2023-01-28-21-24-37.png)"
   ]
  },
  {
   "cell_type": "code",
   "execution_count": 12,
   "metadata": {},
   "outputs": [],
   "source": [
    "#O(n^2) /odd + O(n^2) /even =O(n^2) as we go through each character and then potentially expand all the way right and left\n",
    "class SubPalin:    \n",
    "    def countSubstrings(self, s: str) -> int:\n",
    "        count = 0\n",
    "        for i in range(len(s)):\n",
    "            #from each index we will consider odd (with one middle char) +even(with 2 middle chars) palins\n",
    "            odd=self.countpalins(i, i, s)\n",
    "            even=self.countpalins(i, i+1, s)\n",
    "            count += odd+even\n",
    "            print(f'numpalins[{i}]=odd({odd})+even({even})')\n",
    "        return count\n",
    "\n",
    "    def countpalins(self, l,r,s):\n",
    "        res = 0\n",
    "        #starting from the middle expand outwards.\n",
    "        while l >=0 and r<len(s) and s[l]==s[r]:\n",
    "            res += 1\n",
    "            l -= 1\n",
    "            r += 1\n",
    "        return res\n"
   ]
  },
  {
   "cell_type": "code",
   "execution_count": 14,
   "metadata": {},
   "outputs": [
    {
     "name": "stdout",
     "output_type": "stream",
     "text": [
      "numpalins[0]=odd(1)+even(1)\n",
      "numpalins[1]=odd(2)+even(1)\n",
      "numpalins[2]=odd(1)+even(0)\n",
      "numpalins[3]=odd(4)+even(0)\n",
      "numpalins[4]=odd(1)+even(1)\n",
      "numpalins[5]=odd(2)+even(1)\n",
      "numpalins[6]=odd(1)+even(0)\n"
     ]
    },
    {
     "data": {
      "text/plain": [
       "16"
      ]
     },
     "execution_count": 14,
     "metadata": {},
     "output_type": "execute_result"
    }
   ],
   "source": [
    "\n",
    "SubPalin().countSubstrings('aaabaaa')\n"
   ]
  }
 ],
 "metadata": {
  "kernelspec": {
   "display_name": "base",
   "language": "python",
   "name": "python3"
  },
  "language_info": {
   "codemirror_mode": {
    "name": "ipython",
    "version": 3
   },
   "file_extension": ".py",
   "mimetype": "text/x-python",
   "name": "python",
   "nbconvert_exporter": "python",
   "pygments_lexer": "ipython3",
   "version": "3.8.8 (default, Apr 13 2021, 15:08:03) [MSC v.1916 64 bit (AMD64)]"
  },
  "orig_nbformat": 4,
  "vscode": {
   "interpreter": {
    "hash": "ad2bdc8ecc057115af97d19610ffacc2b4e99fae6737bb82f5d7fb13d2f2c186"
   }
  }
 },
 "nbformat": 4,
 "nbformat_minor": 2
}
