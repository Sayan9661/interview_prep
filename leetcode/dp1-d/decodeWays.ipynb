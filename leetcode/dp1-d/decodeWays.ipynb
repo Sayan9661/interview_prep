{
 "cells": [
  {
   "attachments": {},
   "cell_type": "markdown",
   "metadata": {},
   "source": [
    "![](2023-01-31-15-46-09.png)"
   ]
  },
  {
   "attachments": {},
   "cell_type": "markdown",
   "metadata": {},
   "source": [
    "## logic:\n",
    "see if we can decode each char or 2 chars and reach end of string . If we can add 1 to result."
   ]
  },
  {
   "cell_type": "code",
   "execution_count": null,
   "metadata": {},
   "outputs": [],
   "source": [
    "class Solution:\n",
    "\n",
    "    #     #O(2^n) time solution with the recursive stack having n depth and possible 2 forks at for each node\n",
    "\n",
    "    def numDecodings(self, s: str) -> int:\n",
    "        def dfs(i):\n",
    "            #if the pointer has reached the end of the string this means that we have successfully decoded the string\n",
    "            if i==len(s):\n",
    "                return 1\n",
    "\n",
    "#if the current character is 0 we cant decode the string this way(no map to 0 or start with 0)\n",
    "            if s[i]=='0':\n",
    "                return 0\n",
    "\n",
    "#all good with this char now so we continue with decoding the rest of the string from the next character\n",
    "            res=dfs(i+1)\n",
    "\n",
    "#check if we can decode 2 characters from the current i , if we can then continue to decode from i+2\n",
    "            if i+1<len(s) and ((s[i]=='1' or s[i]=='2') and s[i+1]<'7'):\n",
    "                res+=dfs(i+2)\n",
    "\n",
    "            return res\n",
    "        return dfs(0)\n",
    "    \n",
    "    \n",
    "\n",
    "    # #O(n)time : DFS+memoization : we prune the tree by memoizing the already computed branches\n",
    "    def numDecodings(self, s: str) -> int:\n",
    "\n",
    "        #dp array for memoization\n",
    "        dp=[-1]*len(s)\n",
    "        def dfs(i):\n",
    "            if i==len(s):\n",
    "                return 1\n",
    "            if s[i]=='0':\n",
    "                return 0\n",
    "\n",
    "            if dp[i]!=-1:return dp[i]\n",
    "\n",
    "            res=dfs(i+1)\n",
    "\n",
    "            if i+1<len(s) and (s[i]=='1' or s[i]=='2' and s[i+1]<'7'):\n",
    "                res+=dfs(i+2)\n",
    "\n",
    "            dp[i]=res\n",
    "            return dp[i]\n",
    "        return dfs(0)\n",
    "\n",
    "\n",
    "\n",
    "\n",
    "\n",
    "    #O(n) iterative soln\n",
    "\n",
    "    def numDecodings(self, s: str) -> int:\n",
    "        n = len(s)\n",
    "        dp = [0] * (n+1)\n",
    "\n",
    "        #add 1 if the whole string can be decoded\n",
    "        dp[n] = 1\n",
    "        for i in range(n-1, -1, -1):\n",
    "\n",
    "            #single digit decoded so add that with how the rest can be decoded\n",
    "            if s[i] != '0':\n",
    "                dp[i] = dp[i+1]\n",
    "\n",
    "            #2 digits decoded so add that with how the rest can be decoded\n",
    "            if i+1 < len(s) and (s[i] == '1' or s[i] == '2' and s[i+1] < '7'):\n",
    "                dp[i] += dp[i+2]\n",
    "            print(dp)\n",
    "        return dp[0]\n"
   ]
  },
  {
   "cell_type": "code",
   "execution_count": null,
   "metadata": {},
   "outputs": [],
   "source": [
    "s = \"226\"\n"
   ]
  }
 ],
 "metadata": {
  "kernelspec": {
   "display_name": "base",
   "language": "python",
   "name": "python3"
  },
  "language_info": {
   "name": "python",
   "version": "3.8.8 (default, Apr 13 2021, 15:08:03) [MSC v.1916 64 bit (AMD64)]"
  },
  "orig_nbformat": 4,
  "vscode": {
   "interpreter": {
    "hash": "ad2bdc8ecc057115af97d19610ffacc2b4e99fae6737bb82f5d7fb13d2f2c186"
   }
  }
 },
 "nbformat": 4,
 "nbformat_minor": 2
}
