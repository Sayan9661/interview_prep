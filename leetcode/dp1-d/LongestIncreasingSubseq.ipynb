{
 "cells": [
  {
   "attachments": {},
   "cell_type": "markdown",
   "metadata": {},
   "source": [
    "![](2023-01-30-15-31-53.png)"
   ]
  },
  {
   "attachments": {},
   "cell_type": "markdown",
   "metadata": {},
   "source": [
    "![](2023-01-30-15-47-39.png)"
   ]
  },
  {
   "cell_type": "code",
   "execution_count": 8,
   "metadata": {},
   "outputs": [],
   "source": [
    "def lengthOfLIS(nums) -> int:\n",
    "    #min subsequence at every pos is 1 ,i.e. itself\n",
    "    dp = [1]*len(nums)\n",
    "    #go through each element starting from the end and calculate the max subsequence we can make\n",
    "    for i in range(len(nums)-1, -1, -1):\n",
    "        #now for the elements to the right check if they are greater than the current and the max subsequence we can make from that element\n",
    "        #if the number to right is greater then obviously in its(right ele's) increasing subsequence every element is greater than the current\n",
    "        for j in range(i+1, len(nums)):\n",
    "\n",
    "            if nums[i] < nums[j]:\n",
    "                dp[i] = max(dp[i], 1+dp[j])\n",
    "        print(i,dp)\n",
    "    #return the longest\n",
    "    return max(dp)\n"
   ]
  },
  {
   "cell_type": "code",
   "execution_count": 9,
   "metadata": {},
   "outputs": [
    {
     "name": "stdout",
     "output_type": "stream",
     "text": [
      "7 [1, 1, 1, 1, 1, 1, 1, 1]\n",
      "6 [1, 1, 1, 1, 1, 1, 1, 1]\n",
      "5 [1, 1, 1, 1, 1, 2, 1, 1]\n",
      "4 [1, 1, 1, 1, 3, 2, 1, 1]\n",
      "3 [1, 1, 1, 3, 3, 2, 1, 1]\n",
      "2 [1, 1, 4, 3, 3, 2, 1, 1]\n",
      "1 [1, 2, 4, 3, 3, 2, 1, 1]\n",
      "0 [2, 2, 4, 3, 3, 2, 1, 1]\n"
     ]
    },
    {
     "data": {
      "text/plain": [
       "4"
      ]
     },
     "execution_count": 9,
     "metadata": {},
     "output_type": "execute_result"
    }
   ],
   "source": [
    "nums = [10,9,2,5,3,7,101,18]\n",
    "lengthOfLIS(nums)\n"
   ]
  },
  {
   "attachments": {},
   "cell_type": "markdown",
   "metadata": {},
   "source": [
    "## for more optimized code:\n",
    "\n",
    "greedy method with binary search\n",
    "\n",
    "https://leetcode.com/problems/longest-increasing-subsequence/solutions/1326308/c-python-dp-binary-search-bit-segment-tree-solutions-picture-explain-o-nlogn/?orderBy=most_votes"
   ]
  },
  {
   "cell_type": "code",
   "execution_count": 15,
   "metadata": {},
   "outputs": [],
   "source": [
    "\n",
    "def lengthOfLIS(nums) -> int:\n",
    "    def bisect_left(sub, x):\n",
    "        for i in range(len(sub)):\n",
    "            if sub[i] >= x:\n",
    "                return i\n",
    "    sub = []\n",
    "    for x in nums:\n",
    "        if len(sub) == 0 or sub[-1] < x:\n",
    "            sub.append(x)\n",
    "        else:\n",
    "            # Find the index of the first element >= x\n",
    "            idx = bisect_left(sub, x)\n",
    "            sub[idx] = x  # Replace that number with x\n",
    "        print(sub)\n",
    "    return len(sub)\n"
   ]
  },
  {
   "cell_type": "code",
   "execution_count": 16,
   "metadata": {},
   "outputs": [
    {
     "name": "stdout",
     "output_type": "stream",
     "text": [
      "[10]\n",
      "[9]\n",
      "[2]\n",
      "[2, 5]\n",
      "[2, 3]\n",
      "[2, 3, 7]\n",
      "[2, 3, 7, 101]\n",
      "[2, 3, 7, 18]\n"
     ]
    },
    {
     "data": {
      "text/plain": [
       "4"
      ]
     },
     "execution_count": 16,
     "metadata": {},
     "output_type": "execute_result"
    }
   ],
   "source": [
    "nums = [10, 9, 2, 5, 3, 7, 101, 18]\n",
    "lengthOfLIS(nums)\n"
   ]
  }
 ],
 "metadata": {
  "kernelspec": {
   "display_name": "base",
   "language": "python",
   "name": "python3"
  },
  "language_info": {
   "codemirror_mode": {
    "name": "ipython",
    "version": 3
   },
   "file_extension": ".py",
   "mimetype": "text/x-python",
   "name": "python",
   "nbconvert_exporter": "python",
   "pygments_lexer": "ipython3",
   "version": "3.8.8"
  },
  "orig_nbformat": 4,
  "vscode": {
   "interpreter": {
    "hash": "ad2bdc8ecc057115af97d19610ffacc2b4e99fae6737bb82f5d7fb13d2f2c186"
   }
  }
 },
 "nbformat": 4,
 "nbformat_minor": 2
}
