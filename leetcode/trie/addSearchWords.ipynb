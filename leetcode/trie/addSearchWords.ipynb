{
 "cells": [
  {
   "attachments": {},
   "cell_type": "markdown",
   "metadata": {},
   "source": [
    "## logic:\n",
    "use a trie to store words. Each node has possibly 26 children(a hashmap) and a bool var to indicate end of word.<br>\n",
    "when searching if '.' then we do backtracking like dfs with each child to check if the rest of the chars match."
   ]
  },
  {
   "attachments": {},
   "cell_type": "markdown",
   "metadata": {},
   "source": [
    "![](2023-01-18-23-21-38.png)"
   ]
  },
  {
   "cell_type": "code",
   "execution_count": 1,
   "metadata": {},
   "outputs": [],
   "source": [
    "class TrieNode:\n",
    "    def __init__(self):\n",
    "        self.children = {}\n",
    "        self.end = False\n",
    "\n",
    "\n",
    "class WordDictionary:\n",
    "\n",
    "    def __init__(self):\n",
    "        self.root = TrieNode()\n",
    "\n",
    "    def addWord(self, word: str) -> None:\n",
    "        node = self.root\n",
    "        for c in word:\n",
    "            if c not in node.children:\n",
    "                node.children[c] = TrieNode()\n",
    "            node = node.children[c]\n",
    "        node.end = True\n",
    "\n",
    "    def search(self, word: str) -> bool:\n",
    "\n",
    "        def dfs(j, node):\n",
    "            curr = node\n",
    "\n",
    "            for i in range(j, len(word)):\n",
    "                c = word[i]\n",
    "                \n",
    "                if c == '.':\n",
    "                    #if wildcard char then we have ta check if remaining chars match with any children in the hashmap\n",
    "                    for child in curr.children.values():\n",
    "                        #if any child produces valid path/word match\n",
    "                        if dfs(i+1, child):\n",
    "                            return True\n",
    "                    return False\n",
    "\n",
    "                else:\n",
    "                    #if exact char given just check if that char is in the children hashmap of the current node \n",
    "                    if c not in curr.children:\n",
    "                        return False\n",
    "                    curr = curr.children[c]\n",
    "            #return if the the last char in the search word is marked end of word in the trie.\n",
    "            return curr.end\n",
    "        return dfs(0, self.root)\n"
   ]
  },
  {
   "cell_type": "code",
   "execution_count": 4,
   "metadata": {},
   "outputs": [
    {
     "name": "stdout",
     "output_type": "stream",
     "text": [
      "False\n",
      "True\n",
      "True\n",
      "True\n"
     ]
    }
   ],
   "source": [
    "obj = WordDictionary()\n",
    "obj.addWord(\"bad\")\n",
    "obj.addWord(\"dad\")\n",
    "obj.addWord(\"mad\")\n",
    "print(obj.search(\"pad\"))\n",
    "print(obj.search(\"bad\"))\n",
    "\n",
    "print(obj.search(\".ad\"))\n",
    "\n",
    "print(obj.search(\"b..\"))\n",
    "\n"
   ]
  }
 ],
 "metadata": {
  "kernelspec": {
   "display_name": "base",
   "language": "python",
   "name": "python3"
  },
  "language_info": {
   "codemirror_mode": {
    "name": "ipython",
    "version": 3
   },
   "file_extension": ".py",
   "mimetype": "text/x-python",
   "name": "python",
   "nbconvert_exporter": "python",
   "pygments_lexer": "ipython3",
   "version": "3.8.8 (default, Apr 13 2021, 15:08:03) [MSC v.1916 64 bit (AMD64)]"
  },
  "orig_nbformat": 4,
  "vscode": {
   "interpreter": {
    "hash": "ad2bdc8ecc057115af97d19610ffacc2b4e99fae6737bb82f5d7fb13d2f2c186"
   }
  }
 },
 "nbformat": 4,
 "nbformat_minor": 2
}
