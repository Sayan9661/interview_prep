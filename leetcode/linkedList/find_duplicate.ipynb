{
 "cells": [
  {
   "attachments": {},
   "cell_type": "markdown",
   "metadata": {},
   "source": [
    "![](2023-01-07-01-59-25.png)"
   ]
  },
  {
   "attachments": {},
   "cell_type": "markdown",
   "metadata": {},
   "source": [
    "## Important points about the problem\n",
    "<ul>\n",
    "<li>This is a linked list problem</li>\n",
    "<li>Floyd's cycle detection and floyd's algo to detect the start of the loop</li>\n",
    "</ul>"
   ]
  },
  {
   "attachments": {},
   "cell_type": "markdown",
   "metadata": {},
   "source": [
    "![](2023-01-25-20-04-57.png)"
   ]
  },
  {
   "attachments": {},
   "cell_type": "markdown",
   "metadata": {},
   "source": [
    "## Problem is linked list.\n",
    "So each index in the array is a node the value in the position is the next link(refer to pic above)\n",
    "We can guarantee that the 0 index is not part of any cycle because our nums are in the range(1,n+1) inclusive.\n",
    "\n",
    "now we apply floyds algo to detect a cycle and then it can be proves that where slow/fast meet and the start of the linked list(0) is at same distance ffrom the beginning of the cycle.(see fig below)\n",
    "\n",
    "beginning of cycle happens to be the repeated element as multiple nodes have the same node.next link .\n",
    "For eg, in the above we can see that since 2 nodes have next pointing to 2 so we have a cycle and that is the beignning."
   ]
  },
  {
   "attachments": {},
   "cell_type": "markdown",
   "metadata": {},
   "source": [
    "![](2023-01-25-20-15-33.png)"
   ]
  },
  {
   "cell_type": "code",
   "execution_count": 2,
   "metadata": {},
   "outputs": [],
   "source": [
    "def findDuplicate(nums):\n",
    "#we will use floyds algorithm to dectect the begining od a cycle and that will be the duplicate element\n",
    "    slow, fast = 0, 0\n",
    "    #detect loop\n",
    "    while True:\n",
    "        slow = nums[slow]\n",
    "        fast = nums[nums[fast]]\n",
    "        if slow == fast:\n",
    "            break\n",
    "\n",
    "    #now to find the start of the loop which is the duplicate number as 2 different nodes point to the same element(node)\n",
    "    slow2 = 0\n",
    "    while True:\n",
    "        slow = nums[slow]\n",
    "        slow2 = nums[slow2]\n",
    "        if slow == slow2:\n",
    "            return slow\n"
   ]
  },
  {
   "cell_type": "code",
   "execution_count": 3,
   "metadata": {},
   "outputs": [
    {
     "data": {
      "text/plain": [
       "2"
      ]
     },
     "execution_count": 3,
     "metadata": {},
     "output_type": "execute_result"
    }
   ],
   "source": [
    "nums = [1,3,4,2,2]\n",
    "findDuplicate(nums)\n"
   ]
  }
 ],
 "metadata": {
  "kernelspec": {
   "display_name": "base",
   "language": "python",
   "name": "python3"
  },
  "language_info": {
   "codemirror_mode": {
    "name": "ipython",
    "version": 3
   },
   "file_extension": ".py",
   "mimetype": "text/x-python",
   "name": "python",
   "nbconvert_exporter": "python",
   "pygments_lexer": "ipython3",
   "version": "3.8.8"
  },
  "orig_nbformat": 4,
  "vscode": {
   "interpreter": {
    "hash": "ad2bdc8ecc057115af97d19610ffacc2b4e99fae6737bb82f5d7fb13d2f2c186"
   }
  }
 },
 "nbformat": 4,
 "nbformat_minor": 2
}
