{
 "cells": [
  {
   "attachments": {},
   "cell_type": "markdown",
   "metadata": {},
   "source": [
    "## naive way: just find out length of the list , calculate the node to be removed and remove"
   ]
  },
  {
   "cell_type": "code",
   "execution_count": null,
   "metadata": {},
   "outputs": [],
   "source": [
    "def removeNthFromEnd(self, head: Optional[ListNode], n: int) -> Optional[ListNode]:\n",
    "    num = 0\n",
    "    end = head\n",
    "    while end:\n",
    "        end = end.next\n",
    "        num += 1\n",
    "    num_start = num-n\n",
    "\n",
    "    prev, rem = None, head\n",
    "    while(num_start):\n",
    "        prev = rem\n",
    "        rem = rem.next\n",
    "        num_start -= 1\n",
    "\n",
    "    if rem == head:\n",
    "        head = head.next\n",
    "    else:\n",
    "        prev.next = rem.next\n",
    "    return head\n"
   ]
  },
  {
   "attachments": {},
   "cell_type": "markdown",
   "metadata": {},
   "source": [
    "## One pass solution: \n",
    "<ul>\n",
    "    <li>dummy node added to let of start(also left ptr)\n",
    "</li>\n",
    "    <li>right ptr initialized to start(1)+n </li>\n",
    "    <li>traverse till right ptr is null and left will be exactly at the prev of node to be removed</li>\n",
    "  </ul>\n"
   ]
  },
  {
   "attachments": {},
   "cell_type": "markdown",
   "metadata": {},
   "source": [
    "![](2023-01-06-05-36-35.png)"
   ]
  },
  {
   "cell_type": "code",
   "execution_count": null,
   "metadata": {},
   "outputs": [],
   "source": [
    "def removeNthFromEnd(self, head: Optional[ListNode], n: int) -> Optional[ListNode]:\n",
    "    #want to insert dummy node so that left ptr will be exactly prev of node to remove\n",
    "    dummy = ListNode(0, head)\n",
    "    left = dummy\n",
    "    right = head\n",
    "    #right =start+n\n",
    "    while(n > 0 and right):\n",
    "        right = right.next\n",
    "        n -= 1\n",
    "\n",
    "    #find the nth from last so we are keeping track of end and n-1th from end\n",
    "    while(right):\n",
    "        right = right.next\n",
    "        left = left.next\n",
    "\n",
    "    left.next = left.next.next\n",
    "    #return original head by deleting the dummy node\n",
    "    return dummy.next\n"
   ]
  }
 ],
 "metadata": {
  "kernelspec": {
   "display_name": "base",
   "language": "python",
   "name": "python3"
  },
  "language_info": {
   "name": "python",
   "version": "3.8.8 (default, Apr 13 2021, 15:08:03) [MSC v.1916 64 bit (AMD64)]"
  },
  "orig_nbformat": 4,
  "vscode": {
   "interpreter": {
    "hash": "ad2bdc8ecc057115af97d19610ffacc2b4e99fae6737bb82f5d7fb13d2f2c186"
   }
  }
 },
 "nbformat": 4,
 "nbformat_minor": 2
}
