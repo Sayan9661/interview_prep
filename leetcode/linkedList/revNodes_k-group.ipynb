{
 "cells": [
  {
   "attachments": {},
   "cell_type": "markdown",
   "metadata": {},
   "source": [
    "![](2023-01-07-22-23-11.png)"
   ]
  },
  {
   "attachments": {},
   "cell_type": "markdown",
   "metadata": {},
   "source": [
    "<ul>\n",
    "<li>insert dummy node</li>\n",
    "<li>set last node to point to beginning of 2nd unreversed group</li>\n",
    "<li>rev 1st group</li>\n",
    "\n",
    "\n",
    "\n",
    "</ul>"
   ]
  },
  {
   "attachments": {},
   "cell_type": "markdown",
   "metadata": {},
   "source": [
    "![](2023-01-07-22-22-44.png)"
   ]
  },
  {
   "attachments": {},
   "cell_type": "markdown",
   "metadata": {},
   "source": [
    "<ul>\n",
    "<li>next group 1st element should point to begining of next unreversed group</li>\n",
    "\n",
    "        #so we are initilizing the prev pointer such that it is at the beginning of the next unreversed group\n",
    "        #curr is at the beggining of the current group\n",
    "        prev, curr = groupNext, groupPrev.next\n",
    "<li>rev group</li>\n",
    "<li>set pointer of end of prev group to the first of current reversed group</li>\n",
    "        \n",
    "        #save the beginning of the unreversed/end of reversed group\n",
    "        tmp = groupPrev.next\n",
    "        #make the end of the prev group point to the start of reversed group\n",
    "        groupPrev.next = kth_node\n",
    "        #set groupPrev to the end of reversed group\n",
    "        groupPrev = tmp\n",
    "\n",
    "\n",
    "\n",
    "</ul>"
   ]
  },
  {
   "attachments": {},
   "cell_type": "markdown",
   "metadata": {},
   "source": [
    "![](2023-01-07-23-08-24.png)"
   ]
  },
  {
   "cell_type": "code",
   "execution_count": null,
   "metadata": {},
   "outputs": [],
   "source": [
    "def reverseKGroup(self, head: Optional[ListNode], k: int) -> Optional[ListNode]:\n",
    "\n",
    "    #initialize a dummy node for edge cases and set the groupPrev of the first group to this node\n",
    "    dummy = ListNode(0, head)\n",
    "    groupPrev = dummy\n",
    "\n",
    "    #loop to rev groups\n",
    "    while True:\n",
    "\n",
    "        #find the end of the current group\n",
    "        kth_node = self.findKth(groupPrev, k)\n",
    "        if not kth_node:\n",
    "            break\n",
    "        \n",
    "        #store beginning of next group\n",
    "        groupNext = kth_node.next\n",
    "\n",
    "        #so we are initilizing the prev pointer such that it is at the beginning of the next unreversed group\n",
    "        #curr is at the beggining of the current group\n",
    "        prev, curr = groupNext, groupPrev.next\n",
    "\n",
    "        #reverse the group\n",
    "        while curr != groupNext:\n",
    "            tmp = curr.next\n",
    "            curr.next = prev\n",
    "            prev = curr\n",
    "            curr = tmp\n",
    "\n",
    "        #save the beginning of the unreversed/end of reversed group\n",
    "        tmp = groupPrev.next\n",
    "        #make the end of the prev group point to the start of reversed group\n",
    "        groupPrev.next = kth_node\n",
    "        #set groupPrev to the end of reversed group\n",
    "        groupPrev = tmp\n",
    "\n",
    "    return dummy.next\n",
    "\n",
    "    #since we are inserting a dummy node this function will return the end of each group and no the beginning of the next group\n",
    "    def findKth(self,curr,k):\n",
    "        while curr and k>0:\n",
    "            curr=curr.next\n",
    "            k-=1\n",
    "\n",
    "        return curr\n"
   ]
  }
 ],
 "metadata": {
  "kernelspec": {
   "display_name": "base",
   "language": "python",
   "name": "python3"
  },
  "language_info": {
   "name": "python",
   "version": "3.8.8 (default, Apr 13 2021, 15:08:03) [MSC v.1916 64 bit (AMD64)]"
  },
  "orig_nbformat": 4,
  "vscode": {
   "interpreter": {
    "hash": "ad2bdc8ecc057115af97d19610ffacc2b4e99fae6737bb82f5d7fb13d2f2c186"
   }
  }
 },
 "nbformat": 4,
 "nbformat_minor": 2
}
