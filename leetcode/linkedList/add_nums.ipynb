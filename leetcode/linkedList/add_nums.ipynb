{
 "cells": [
  {
   "attachments": {},
   "cell_type": "markdown",
   "metadata": {},
   "source": [
    "![](2023-01-06-22-47-05.png)"
   ]
  },
  {
   "cell_type": "code",
   "execution_count": null,
   "metadata": {},
   "outputs": [],
   "source": [
    "def addTwoNumbers(self, l1: Optional[ListNode], l2: Optional[ListNode]) -> Optional[ListNode]:\n",
    "\n",
    "    first, second = l1, l2\n",
    "    carry = 0\n",
    "    res = ListNode(0, None)\n",
    "    head = res\n",
    "    while first or second:\n",
    "\n",
    "        res.next = ListNode(0, None)\n",
    "        res = res.next\n",
    "\n",
    "        if first is None:\n",
    "            sum = second.val+carry\n",
    "            if sum > 9:\n",
    "                carry = 1\n",
    "                sum = sum % 10\n",
    "            else:\n",
    "                carry = 0\n",
    "            second = second.next\n",
    "\n",
    "        #if we use if here then if l2=[1,2,3] l1=[1,2] for the last elemnent in l2 the above condition executes and makes this condition true as l2=null\n",
    "        elif second is None:\n",
    "            sum = first.val+carry\n",
    "            if sum > 9:\n",
    "                carry = 1\n",
    "                sum = sum % 10\n",
    "            else:\n",
    "                carry = 0\n",
    "            first = first.next\n",
    "\n",
    "        else:\n",
    "            sum = first.val+second.val+carry\n",
    "            if sum > 9:\n",
    "                carry = 1\n",
    "                sum = sum % 10\n",
    "            else:\n",
    "                carry = 0\n",
    "            first = first.next\n",
    "            second = second.next\n",
    "\n",
    "        res.val = sum\n",
    "\n",
    "    if carry == 1:\n",
    "        res.next = ListNode(1, None)\n",
    "\n",
    "    return head.next\n",
    "\n",
    "    #more elegant code\n",
    "\n",
    "    def addTwoNumbers(self, l1: ListNode, l2: ListNode) -> ListNode:\n",
    "        dummy = ListNode()\n",
    "        cur = dummy\n",
    "\n",
    "        carry = 0\n",
    "        while l1 or l2 or carry:\n",
    "            v1 = l1.val if l1 else 0\n",
    "            v2 = l2.val if l2 else 0\n",
    "\n",
    "            # new digit\n",
    "            val = v1 + v2 + carry\n",
    "            carry = val // 10\n",
    "            val = val % 10\n",
    "            cur.next = ListNode(val)\n",
    "\n",
    "            # update ptrs\n",
    "            cur = cur.next\n",
    "            l1 = l1.next if l1 else None\n",
    "            l2 = l2.next if l2 else None\n",
    "\n",
    "        return dummy.next\n",
    "        \n",
    "\n",
    "\n",
    "\n",
    "\n",
    "\n"
   ]
  }
 ],
 "metadata": {
  "kernelspec": {
   "display_name": "base",
   "language": "python",
   "name": "python3"
  },
  "language_info": {
   "name": "python",
   "version": "3.8.8 (default, Apr 13 2021, 15:08:03) [MSC v.1916 64 bit (AMD64)]"
  },
  "orig_nbformat": 4,
  "vscode": {
   "interpreter": {
    "hash": "ad2bdc8ecc057115af97d19610ffacc2b4e99fae6737bb82f5d7fb13d2f2c186"
   }
  }
 },
 "nbformat": 4,
 "nbformat_minor": 2
}
