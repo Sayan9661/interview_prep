{
 "cells": [
  {
   "attachments": {},
   "cell_type": "markdown",
   "metadata": {},
   "source": [
    "![](2023-01-25-18-47-51.png)"
   ]
  },
  {
   "attachments": {},
   "cell_type": "markdown",
   "metadata": {},
   "source": [
    "## Naive way id the take one element in a list and put into reslutant sorted list.\n",
    "\n",
    "time complexity=O(Num of nodes * K) because for every list we might have to potentially go through our entire resultant list or all the elements in all lists.\n",
    "\n"
   ]
  },
  {
   "attachments": {},
   "cell_type": "markdown",
   "metadata": {},
   "source": [
    "## merge 2 lists at a time , repeat to merge the lists formed till one list left\n",
    "\n",
    "Time complexity : look at fig below at every step we have to go through all the elements but since this is like divide and conquer , we do 2 at a time and the height of the tree is log K\n",
    "Basically how many times can we take K lists and divide them by 2=log(base 2)K\n",
    "\n",
    "O(N * log K)"
   ]
  },
  {
   "attachments": {},
   "cell_type": "markdown",
   "metadata": {},
   "source": [
    "![](2023-01-25-18-47-25.png)"
   ]
  },
  {
   "cell_type": "code",
   "execution_count": 1,
   "metadata": {},
   "outputs": [],
   "source": [
    "# Definition for singly-linked list.\n",
    "class ListNode:\n",
    "    def __init__(self, val=0, next=None):\n",
    "        self.val = val\n",
    "        self.next = next\n"
   ]
  },
  {
   "cell_type": "code",
   "execution_count": 4,
   "metadata": {},
   "outputs": [],
   "source": [
    "class Sol:\n",
    "    def mergeKLists(self, lists):\n",
    "            #check this edge case\n",
    "            if not lists or len(lists) == 0:\n",
    "                return None\n",
    "\n",
    "            #merge like mergesort\n",
    "            #so we will continue to merge the lists 2 at a time until there is only one list\n",
    "\n",
    "            while(len(lists) > 1):\n",
    "                curr_merged = []\n",
    "                for i in range(0, len(lists), 2):\n",
    "\n",
    "                    l1 = lists[i]\n",
    "                    #we could have odd num of lists in which we will not have 2 lists in each case\n",
    "                    l2 = lists[i+1] if i+1 < len(lists) else None\n",
    "\n",
    "                    #self.merge\n",
    "                    curr_merged.append(self.merge(l1, l2))\n",
    "                lists = curr_merged\n",
    "\n",
    "            return lists[0]\n",
    "\n",
    "\n",
    "    def merge(self,l1,l2):\n",
    "        dummy=ListNode()\n",
    "        cur=dummy\n",
    "\n",
    "        while l1 and l2:\n",
    "            if(l1.val<l2.val):\n",
    "                cur.next=l1\n",
    "                l1=l1.next\n",
    "            else:\n",
    "                cur.next=l2\n",
    "                l2=l2.next\n",
    "\n",
    "            cur=cur.next\n",
    "        \n",
    "        if l1:\n",
    "            cur.next=l1\n",
    "        if l2:\n",
    "            cur.next=l2\n",
    "        \n",
    "        return dummy.next\n"
   ]
  },
  {
   "cell_type": "code",
   "execution_count": 13,
   "metadata": {},
   "outputs": [
    {
     "name": "stdout",
     "output_type": "stream",
     "text": [
      "[1, 1, 2, 3, 4, 4, 5, 6]\n"
     ]
    }
   ],
   "source": [
    "lists = [[1, 4, 5], [1, 3, 4], [2, 6]]\n",
    "\n",
    "\n",
    "\n",
    "#func to change list into a linked list\n",
    "def lst2link(lst):\n",
    "    cur = dummy = ListNode(0)\n",
    "    for e in lst:\n",
    "        cur.next = ListNode(e)\n",
    "        cur = cur.next\n",
    "    return dummy.next\n",
    "\n",
    "reslist=[]\n",
    "\n",
    "\n",
    "#turning k lists in a list to a list of head of linked lists.\n",
    "for list in lists:\n",
    "    reslist.append(lst2link(list))\n",
    "    \n",
    "\n",
    "#creating Sol obj to call mergeKlists\n",
    "obj=Sol()\n",
    "cur_head=obj.mergeKLists(reslist)\n",
    "\n",
    "\n",
    "\n",
    "#storing result in res list\n",
    "res=[]\n",
    "while(cur_head!=None):\n",
    "    res.append(cur_head.val)\n",
    "    cur_head=cur_head.next\n",
    "    \n",
    "print(res)\n"
   ]
  }
 ],
 "metadata": {
  "kernelspec": {
   "display_name": "base",
   "language": "python",
   "name": "python3"
  },
  "language_info": {
   "codemirror_mode": {
    "name": "ipython",
    "version": 3
   },
   "file_extension": ".py",
   "mimetype": "text/x-python",
   "name": "python",
   "nbconvert_exporter": "python",
   "pygments_lexer": "ipython3",
   "version": "3.8.8"
  },
  "orig_nbformat": 4,
  "vscode": {
   "interpreter": {
    "hash": "ad2bdc8ecc057115af97d19610ffacc2b4e99fae6737bb82f5d7fb13d2f2c186"
   }
  }
 },
 "nbformat": 4,
 "nbformat_minor": 2
}
