{
 "cells": [
  {
   "attachments": {},
   "cell_type": "markdown",
   "metadata": {},
   "source": [
    "![](2023-01-06-00-46-42.png)"
   ]
  },
  {
   "attachments": {},
   "cell_type": "markdown",
   "metadata": {},
   "source": [
    "## logic:\n",
    "<ul>\n",
    "<li>logic is that we use fast/slow pointers to find middle of list.</li>\n",
    "<li>then we have 2 lists reverse the second</li>\n",
    "<li>keep adding from alternate list</li>\n",
    "<li>last element should point to null</li>\n",
    "</ul>"
   ]
  },
  {
   "attachments": {},
   "cell_type": "markdown",
   "metadata": {},
   "source": [
    "![](breaklist.jpg)"
   ]
  },
  {
   "cell_type": "code",
   "execution_count": 1,
   "metadata": {},
   "outputs": [],
   "source": [
    "# Definition for singly-linked list.\n",
    "class ListNode:\n",
    "    def __init__(self, val=0, next=None):\n",
    "        self.val = val\n",
    "        self.next = next\n"
   ]
  },
  {
   "attachments": {},
   "cell_type": "markdown",
   "metadata": {},
   "source": [
    "![](2023-01-06-05-13-44.png)"
   ]
  },
  {
   "cell_type": "code",
   "execution_count": 7,
   "metadata": {},
   "outputs": [],
   "source": [
    "def reorderList(head) -> None:\n",
    "    #find middle\n",
    "    slow = head\n",
    "    fast = head.next\n",
    "    #check both fast and fast.next , if fast is none then second condition is ignored\n",
    "    while(fast and fast.next):\n",
    "        slow = slow.next\n",
    "        fast = fast.next.next\n",
    "\n",
    "    #for even list the first of 2 middle elements and odd middle elemnent\n",
    "    #so second list is always smaller\n",
    "    sec_lst = slow.next\n",
    "\n",
    "    #break link between the 2 lists\n",
    "    prev = slow.next = None\n",
    "\n",
    "    #now to reverse the second list so that we can traverse it\n",
    "    while sec_lst:\n",
    "        tmp = sec_lst.next\n",
    "        sec_lst.next = prev\n",
    "        prev = sec_lst\n",
    "        sec_lst = tmp\n",
    "\n",
    "    first, second = head, prev\n",
    "    #second is always smaller\n",
    "    while second:\n",
    "        temp1, temp2 = first.next, second.next\n",
    "        first.next = second\n",
    "        second.next = temp1\n",
    "        first, second = temp1, temp2\n"
   ]
  }
 ],
 "metadata": {
  "kernelspec": {
   "display_name": "base",
   "language": "python",
   "name": "python3"
  },
  "language_info": {
   "codemirror_mode": {
    "name": "ipython",
    "version": 3
   },
   "file_extension": ".py",
   "mimetype": "text/x-python",
   "name": "python",
   "nbconvert_exporter": "python",
   "pygments_lexer": "ipython3",
   "version": "3.8.8 (default, Apr 13 2021, 15:08:03) [MSC v.1916 64 bit (AMD64)]"
  },
  "orig_nbformat": 4,
  "vscode": {
   "interpreter": {
    "hash": "ad2bdc8ecc057115af97d19610ffacc2b4e99fae6737bb82f5d7fb13d2f2c186"
   }
  }
 },
 "nbformat": 4,
 "nbformat_minor": 2
}
