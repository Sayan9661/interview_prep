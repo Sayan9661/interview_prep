{
 "cells": [
  {
   "attachments": {},
   "cell_type": "markdown",
   "metadata": {},
   "source": [
    "![](2023-01-06-06-41-06.png)"
   ]
  },
  {
   "cell_type": "code",
   "execution_count": null,
   "metadata": {},
   "outputs": [],
   "source": [
    "def copyRandomList(self, head: 'Optional[Node]') -> 'Optional[Node]':\n",
    "#use hashmap[node : node] to map the old nodes to new\n",
    "    oldToNew = defaultdict(lambda: None)\n",
    "\n",
    "    curr = head\n",
    "\n",
    "    #create copy of nodes and map in hashmap\n",
    "    while(curr):\n",
    "        copy = Node(curr.val)\n",
    "        oldToNew[curr] = copy\n",
    "        curr = curr.next\n",
    "\n",
    "    #set the links accoring to old values in the hashmap\n",
    "    curr = head\n",
    "    while curr:\n",
    "        copy = oldToNew[curr]\n",
    "        copy.next = oldToNew[curr.next]\n",
    "        copy.random = oldToNew[curr.random]\n",
    "        curr = curr.next\n",
    "\n",
    "    return oldToNew[head]\n"
   ]
  }
 ],
 "metadata": {
  "kernelspec": {
   "display_name": "base",
   "language": "python",
   "name": "python3"
  },
  "language_info": {
   "name": "python",
   "version": "3.8.8 (default, Apr 13 2021, 15:08:03) [MSC v.1916 64 bit (AMD64)]"
  },
  "orig_nbformat": 4,
  "vscode": {
   "interpreter": {
    "hash": "ad2bdc8ecc057115af97d19610ffacc2b4e99fae6737bb82f5d7fb13d2f2c186"
   }
  }
 },
 "nbformat": 4,
 "nbformat_minor": 2
}
