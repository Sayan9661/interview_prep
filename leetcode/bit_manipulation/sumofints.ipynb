{
 "cells": [
  {
   "attachments": {},
   "cell_type": "markdown",
   "metadata": {},
   "source": [
    "## This is easier to do in java as python supports arbitarily long ints and doesn't handle this well."
   ]
  },
  {
   "attachments": {},
   "cell_type": "markdown",
   "metadata": {},
   "source": [
    "![](2023-02-05-02-04-15.png)"
   ]
  },
  {
   "attachments": {},
   "cell_type": "markdown",
   "metadata": {},
   "source": [
    "xor : if one of the 2 values is 1 it gives 1 else 0 ---> just like addition , it gives carry.\n",
    "so xor gives us the value a+b but ignoring the carries.\n",
    "\n",
    "a&b gives us the carry at each place, but we want to add to the left higher value place: so we shift left << by one.----> repeat this till no more carry is generated.\n"
   ]
  }
 ],
 "metadata": {
  "language_info": {
   "name": "python"
  },
  "orig_nbformat": 4
 },
 "nbformat": 4,
 "nbformat_minor": 2
}
