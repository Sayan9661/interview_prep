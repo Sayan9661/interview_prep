{
 "cells": [
  {
   "cell_type": "code",
   "execution_count": 5,
   "metadata": {},
   "outputs": [
    {
     "name": "stdout",
     "output_type": "stream",
     "text": [
      "0 -2\n",
      "-2 -1\n",
      "-21 -4\n",
      "-214 -7\n",
      "-2147 -4\n",
      "-21474 -8\n",
      "-214748 -3\n",
      "-2147483 -6\n",
      "-21474836 -4\n",
      "-214748364 -1\n"
     ]
    },
    {
     "data": {
      "text/plain": [
       "-2147483641"
      ]
     },
     "execution_count": 5,
     "metadata": {},
     "output_type": "execute_result"
    }
   ],
   "source": [
    "import math\n",
    "def reverse(x: int) -> int:\n",
    "    MIN = -2147483648  # -2^31,\n",
    "    MAX = 2147483647  #  2^31 - 1\n",
    "\n",
    "    res=0\n",
    "    while x:\n",
    "        digit=int(math.fmod(x,10)) #python % safe for -ve nos\n",
    "        x=int(x/10) #safe for -ve nos\n",
    "        print(res,digit)\n",
    "        \n",
    "        #check if the all digits except last >214748364 or if it matches--> check last digit\n",
    "        if res>MAX//10 or (res==MAX//10 and digit>7):\n",
    "            return 0\n",
    "        #check if the all digits except last <-214748364 or if it matches -->check last digit\n",
    "\n",
    "        if res<int(MIN/10) or (res==int(MIN/10) and digit<-8):\n",
    "            return 0\n",
    "        res=10*res+digit\n",
    "    return res\n",
    "\n",
    "\n",
    "reverse(-1463847412)\n"
   ]
  }
 ],
 "metadata": {
  "kernelspec": {
   "display_name": "base",
   "language": "python",
   "name": "python3"
  },
  "language_info": {
   "codemirror_mode": {
    "name": "ipython",
    "version": 3
   },
   "file_extension": ".py",
   "mimetype": "text/x-python",
   "name": "python",
   "nbconvert_exporter": "python",
   "pygments_lexer": "ipython3",
   "version": "3.8.16"
  },
  "orig_nbformat": 4,
  "vscode": {
   "interpreter": {
    "hash": "ad2bdc8ecc057115af97d19610ffacc2b4e99fae6737bb82f5d7fb13d2f2c186"
   }
  }
 },
 "nbformat": 4,
 "nbformat_minor": 2
}
