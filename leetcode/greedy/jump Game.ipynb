{
 "cells": [
  {
   "attachments": {},
   "cell_type": "markdown",
   "metadata": {},
   "source": [
    "## Jump game 1\n",
    "store the max index you can jump to and if the index is lesser than that keep moving"
   ]
  },
  {
   "cell_type": "code",
   "execution_count": 7,
   "metadata": {},
   "outputs": [],
   "source": [
    "#DFS+memoization\n",
    "\n",
    "    # dp=[False]*len(nums)\n",
    "    # dp[len(nums)-1]=True\n",
    "    # def dfs(i):\n",
    "    #     if dp[i]: return True\n",
    "\n",
    "    #     for j in range(1,nums[i]+1):\n",
    "    #         if dfs(i+j):\n",
    "    #             dp[i]=True\n",
    "    #             return True\n",
    "    #     return False\n",
    "     # return dfs(0)\n",
    "\n",
    "    #greedy\n",
    "def canJump(nums) -> bool:\n",
    "    maxJumpIdx = i = 0\n",
    "    while maxJumpIdx >= i:\n",
    "        # print(f'i={i} and max jump Index={maxJumpIdx}')\n",
    "        maxJumpIdx = max(maxJumpIdx, i+nums[i])\n",
    "        if maxJumpIdx >= len(nums)-1:\n",
    "            # print(f'i={i} and max jump Index={maxJumpIdx}')\n",
    "            return True\n",
    "        i += 1\n",
    "    return False\n"
   ]
  },
  {
   "cell_type": "code",
   "execution_count": 8,
   "metadata": {},
   "outputs": [
    {
     "name": "stdout",
     "output_type": "stream",
     "text": [
      "i=0 and max jump Index=0\n",
      "i=1 and max jump Index=2\n",
      "i=1 and max jump Index=4\n"
     ]
    },
    {
     "data": {
      "text/plain": [
       "True"
      ]
     },
     "execution_count": 8,
     "metadata": {},
     "output_type": "execute_result"
    }
   ],
   "source": [
    "nums = [2,3,1,1,4]\n",
    "canJump(nums)"
   ]
  },
  {
   "attachments": {},
   "cell_type": "markdown",
   "metadata": {},
   "source": [
    "# Jump game 2"
   ]
  },
  {
   "cell_type": "markdown",
   "metadata": {},
   "source": [
    "![](2023-02-04-01-24-56.png)"
   ]
  },
  {
   "cell_type": "markdown",
   "metadata": {},
   "source": [
    "## logic:\n",
    "find the min and max jump for each window.<br>\n",
    "\n",
    "set left=right+1 and right=far(max jump )<br>\n",
    "repeat the above for new windows till right >= last index --->we have reached last index.\n",
    "\n",
    "\n"
   ]
  },
  {
   "cell_type": "code",
   "execution_count": null,
   "metadata": {},
   "outputs": [],
   "source": [
    "def jump(nums) -> int:\n",
    "    res=0\n",
    "    #left and right of jump window\n",
    "    l=r=0\n",
    "    #stores the max jump\n",
    "    far=0\n",
    "    \n",
    "    #now in the window find the max jump index(far)\n",
    "    while r<len(nums)-1:\n",
    "        for i in range(l,r+1):\n",
    "            far=max(far,i+nums[i])\n",
    "        #our new window= min jump -->right+1 to max jump--->far\n",
    "        l=r+1\n",
    "        r=far\n",
    "        res+=1\n",
    "    return res"
   ]
  }
 ],
 "metadata": {
  "kernelspec": {
   "display_name": "base",
   "language": "python",
   "name": "python3"
  },
  "language_info": {
   "codemirror_mode": {
    "name": "ipython",
    "version": 3
   },
   "file_extension": ".py",
   "mimetype": "text/x-python",
   "name": "python",
   "nbconvert_exporter": "python",
   "pygments_lexer": "ipython3",
   "version": "3.8.16"
  },
  "orig_nbformat": 4,
  "vscode": {
   "interpreter": {
    "hash": "ad2bdc8ecc057115af97d19610ffacc2b4e99fae6737bb82f5d7fb13d2f2c186"
   }
  }
 },
 "nbformat": 4,
 "nbformat_minor": 2
}
