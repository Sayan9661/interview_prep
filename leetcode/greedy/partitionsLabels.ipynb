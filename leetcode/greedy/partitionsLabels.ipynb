{
 "cells": [
  {
   "attachments": {},
   "cell_type": "markdown",
   "metadata": {},
   "source": [
    "![](2023-02-03-13-56-32.png)"
   ]
  },
  {
   "attachments": {},
   "cell_type": "markdown",
   "metadata": {},
   "source": [
    "## logic:\n",
    "store the end index of each char in a hashmap\n",
    "\n",
    "iterate over the string keeping a end var which stores the end index of all the chars encountered so far.\n",
    "\n",
    "\n",
    "update end index each time we encounter a char: if we reach end idx then we have a partition<br>\n",
    "*that is all the characters encountered so far do not occur after that idx*\n"
   ]
  },
  {
   "cell_type": "code",
   "execution_count": 1,
   "metadata": {},
   "outputs": [],
   "source": [
    "def partitionLabels(s: str):\n",
    "    last = {}\n",
    "\n",
    "    #store the last index of occurance of each character in a hashmap\n",
    "    for idx, char in enumerate(s):\n",
    "        last[char] = idx\n",
    "\n",
    "    res = []\n",
    "    size, end = 0, 0\n",
    "    for idx, char in enumerate(s):\n",
    "\n",
    "        #update size of partition\n",
    "        size += 1\n",
    "        #update the end of all the characters encountered so far to the max last index of their occurance\n",
    "        end = max(end, last[char])\n",
    "\n",
    "        #if the curr index== end index of all characters encountered so far we have a partition: no character before this occurs again\n",
    "        if idx == end:\n",
    "            res.append(size)\n",
    "            size = 0\n",
    "\n",
    "    return res\n"
   ]
  }
 ],
 "metadata": {
  "kernelspec": {
   "display_name": "base",
   "language": "python",
   "name": "python3"
  },
  "language_info": {
   "codemirror_mode": {
    "name": "ipython",
    "version": 3
   },
   "file_extension": ".py",
   "mimetype": "text/x-python",
   "name": "python",
   "nbconvert_exporter": "python",
   "pygments_lexer": "ipython3",
   "version": "3.8.8"
  },
  "orig_nbformat": 4,
  "vscode": {
   "interpreter": {
    "hash": "ad2bdc8ecc057115af97d19610ffacc2b4e99fae6737bb82f5d7fb13d2f2c186"
   }
  }
 },
 "nbformat": 4,
 "nbformat_minor": 2
}
