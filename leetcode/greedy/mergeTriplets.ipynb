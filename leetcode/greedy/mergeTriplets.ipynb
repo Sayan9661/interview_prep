{
 "cells": [
  {
   "attachments": {},
   "cell_type": "markdown",
   "metadata": {},
   "source": [
    "## Algo:\n",
    "remove triplets with higher values than in target.<br>\n",
    "check if any triplet has one or more of our target triplet values <br>\n",
    "if we find all three values in triplets , we can make target as taking max will not go over target(we removed them)<br>"
   ]
  },
  {
   "cell_type": "code",
   "execution_count": 7,
   "metadata": {},
   "outputs": [],
   "source": [
    "def mergeTriplets(triplets, target) -> bool:\n",
    "    #set to store the indices for which we found a match to target\n",
    "    found = set()\n",
    "    for triplet in triplets:\n",
    "\n",
    "        #if any of the values of the triplet is greater than the target value we skip it since max with this triplet is going to exceed the value of target\n",
    "        if triplet[0] > target[0] or triplet[1] > target[1] or triplet[2] > target[2]:\n",
    "            continue\n",
    "\n",
    "        #now we check every triplet if can find a match to the target value and we store the index at which find the match\n",
    "        for idx, val in enumerate(triplet):\n",
    "            if target[idx] == val:\n",
    "                found.add(idx)\n",
    "\n",
    "    #if we found matches for all the three indices we return true\n",
    "    return len(found) == 3\n"
   ]
  },
  {
   "cell_type": "code",
   "execution_count": 9,
   "metadata": {},
   "outputs": [
    {
     "data": {
      "text/plain": [
       "True"
      ]
     },
     "execution_count": 9,
     "metadata": {},
     "output_type": "execute_result"
    }
   ],
   "source": [
    "triplets=[[2,5,3],[2,3,4],[1,2,5],[5,2,3]]\n",
    "target = [5,5,5]\n",
    "mergeTriplets(triplets, target)\n"
   ]
  }
 ],
 "metadata": {
  "kernelspec": {
   "display_name": "base",
   "language": "python",
   "name": "python3"
  },
  "language_info": {
   "codemirror_mode": {
    "name": "ipython",
    "version": 3
   },
   "file_extension": ".py",
   "mimetype": "text/x-python",
   "name": "python",
   "nbconvert_exporter": "python",
   "pygments_lexer": "ipython3",
   "version": "3.8.8"
  },
  "orig_nbformat": 4,
  "vscode": {
   "interpreter": {
    "hash": "ad2bdc8ecc057115af97d19610ffacc2b4e99fae6737bb82f5d7fb13d2f2c186"
   }
  }
 },
 "nbformat": 4,
 "nbformat_minor": 2
}
