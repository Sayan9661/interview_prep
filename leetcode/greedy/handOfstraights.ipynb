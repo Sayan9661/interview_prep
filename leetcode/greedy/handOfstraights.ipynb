{
 "cells": [
  {
   "attachments": {},
   "cell_type": "markdown",
   "metadata": {},
   "source": [
    "![](2023-02-02-23-09-50.png)"
   ]
  },
  {
   "attachments": {},
   "cell_type": "markdown",
   "metadata": {},
   "source": [
    "## algo:\n",
    "make hashmap to store the card/values and theie count in the hand : to know if a card exits and count in O(1)<br>\n",
    "keep minheap of the values/cards for we can find the min one to add to group in constant timeO(1)<br>\n",
    "get the min value from minheap: our group has to have values strting from this number<br>\n",
    "as we add the values to the group check if the value exists in the hashmap and update it's count<br>\n",
    "if a card doesn't exist return false.<br> \n",
    "Also if the count of the card goes to 0 and the card is not the min in the minheap return False because we will have a card less than this and then we cannot form group---> [1,2,3]--->[1,3]<br>\n"
   ]
  },
  {
   "attachments": {},
   "cell_type": "markdown",
   "metadata": {},
   "source": [
    "O(n(run through the array). log n(heapify everytime we remove an element))"
   ]
  },
  {
   "attachments": {},
   "cell_type": "markdown",
   "metadata": {},
   "source": [
    "![](2023-02-02-23-09-24.png)"
   ]
  },
  {
   "cell_type": "markdown",
   "metadata": {},
   "source": []
  },
  {
   "cell_type": "code",
   "execution_count": 8,
   "metadata": {},
   "outputs": [],
   "source": [
    "import heapq\n",
    "def isNStraightHand(hand, groupSize: int) -> bool:\n",
    "    if len(hand) % groupSize != 0:\n",
    "        return False\n",
    "\n",
    "    #hashmap to store the card/values and theie count in the hand : to know if a card exits and count in O(1)\n",
    "    count = {}\n",
    "    for card in hand:\n",
    "        count[card] = count.get(card, 0)+1\n",
    "\n",
    "    #keep minheap of the values/cards for we can find the min one to add to group in constant timeO(1)\n",
    "    minheap = list(count.keys())\n",
    "    heapq.heapify(minheap)\n",
    "\n",
    "    res=[]\n",
    "    \n",
    "    while minheap:\n",
    "        \n",
    "        #get the first element of the group\n",
    "        first = minheap[0]\n",
    "        group=[]\n",
    "        \n",
    "        \n",
    "        for i in range(first, first+groupSize):\n",
    "            \n",
    "            #if next value needed in the group doesn't exist\n",
    "            if i not in count:\n",
    "                return False\n",
    "\n",
    "            count[i] -= 1\n",
    "            group.append(i)\n",
    "            \n",
    "            #if the all the cards for that value is used up we need to pop from minheap\n",
    "            if count[i] == 0:\n",
    "                #if the value that card that has run out is not the min value iin the heap then we cant complete.\n",
    "                #as there will be a group with consecutive card missing\n",
    "                if i == minheap[0]:\n",
    "                    heapq.heappop(minheap)\n",
    "                    \n",
    "                else:\n",
    "                    return False\n",
    "        res.append(group)\n",
    "    print(res)\n",
    "    return True\n"
   ]
  },
  {
   "cell_type": "code",
   "execution_count": 9,
   "metadata": {},
   "outputs": [
    {
     "name": "stdout",
     "output_type": "stream",
     "text": [
      "[[1, 2, 3], [2, 3, 4], [6, 7, 8]]\n"
     ]
    },
    {
     "data": {
      "text/plain": [
       "True"
      ]
     },
     "execution_count": 9,
     "metadata": {},
     "output_type": "execute_result"
    }
   ],
   "source": [
    "hand = [1,2,3,6,2,3,4,7,8]\n",
    "groupSize = 3\n",
    "isNStraightHand(hand, groupSize)\n"
   ]
  }
 ],
 "metadata": {
  "kernelspec": {
   "display_name": "base",
   "language": "python",
   "name": "python3"
  },
  "language_info": {
   "codemirror_mode": {
    "name": "ipython",
    "version": 3
   },
   "file_extension": ".py",
   "mimetype": "text/x-python",
   "name": "python",
   "nbconvert_exporter": "python",
   "pygments_lexer": "ipython3",
   "version": "3.8.8"
  },
  "orig_nbformat": 4,
  "vscode": {
   "interpreter": {
    "hash": "ad2bdc8ecc057115af97d19610ffacc2b4e99fae6737bb82f5d7fb13d2f2c186"
   }
  }
 },
 "nbformat": 4,
 "nbformat_minor": 2
}
