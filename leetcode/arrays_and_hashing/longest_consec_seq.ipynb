{
 "cells": [
  {
   "attachments": {},
   "cell_type": "markdown",
   "metadata": {},
   "source": [
    "## longest consequetive sequence \n",
    "data struct:set<br>\n",
    "algo:iterate through array , find the beginning of consec seq(no left neighbour) and check length.<br>\n",
    "time complexity:at max go through each elemnent twice.(once to check if beginning and then for length of seq)<br>"
   ]
  },
  {
   "attachments": {},
   "cell_type": "markdown",
   "metadata": {},
   "source": [
    "![](2022-12-28-21-13-04.png)"
   ]
  },
  {
   "cell_type": "code",
   "execution_count": 2,
   "metadata": {},
   "outputs": [],
   "source": [
    "def longestConsecutive(nums):\n",
    "        num_set=set(nums)\n",
    "        longest_count=0\n",
    "        for num in nums:\n",
    "            if num-1 not in num_set:\n",
    "                len_seq=0\n",
    "                while(num+len_seq in num_set):\n",
    "                    len_seq+=1\n",
    "                longest_count=max(longest_count,len_seq)\n",
    "        return longest_count\n",
    "                "
   ]
  }
 ],
 "metadata": {
  "kernelspec": {
   "display_name": "base",
   "language": "python",
   "name": "python3"
  },
  "language_info": {
   "codemirror_mode": {
    "name": "ipython",
    "version": 3
   },
   "file_extension": ".py",
   "mimetype": "text/x-python",
   "name": "python",
   "nbconvert_exporter": "python",
   "pygments_lexer": "ipython3",
   "version": "3.8.8"
  },
  "orig_nbformat": 4,
  "vscode": {
   "interpreter": {
    "hash": "ad2bdc8ecc057115af97d19610ffacc2b4e99fae6737bb82f5d7fb13d2f2c186"
   }
  }
 },
 "nbformat": 4,
 "nbformat_minor": 2
}
