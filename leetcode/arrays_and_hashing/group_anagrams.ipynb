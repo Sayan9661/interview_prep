{
 "cells": [
  {
   "attachments": {},
   "cell_type": "markdown",
   "metadata": {},
   "source": [
    "# Group anagrams"
   ]
  },
  {
   "attachments": {},
   "cell_type": "markdown",
   "metadata": {},
   "source": [
    "\n",
    "Q:<br>\n",
    "Given an array of strings strs, group the anagrams together. You can return the answer in any order.<br>\n",
    "\n",
    "An Anagram is a word or phrase formed by rearranging the letters of a different word or phrase, typically using all the original letters exactly once.<br>\n",
    "\n",
    "Input: strs = [\"eat\", \"tea\", \"tan\", \"ate\", \"nat\", \"bat\"] <br>\n",
    "Output: [[\"bat\"], [\"nat\", \"tan\"], [\"ate\", \"eat\", \"tea\"]]\n"
   ]
  },
  {
   "attachments": {},
   "cell_type": "markdown",
   "metadata": {},
   "source": [
    "### Naive method\n",
    "we can sort all the strings and then compare and group.<br>\n",
    "time complexity= m . n . log n , where m= size of array , n=no of letters in each string"
   ]
  },
  {
   "attachments": {},
   "cell_type": "markdown",
   "metadata": {},
   "source": [
    "## good algo\n",
    "we use a list of the char count of each word and store then as keys in a dict so same words have same char count and are grouped together."
   ]
  },
  {
   "cell_type": "code",
   "execution_count": 6,
   "metadata": {},
   "outputs": [
    {
     "data": {
      "text/plain": [
       "[0, 0, 0, 0, 0, 0, 0, 0, 0, 0, 0, 0, 0, 0, 0, 0, 0, 0, 0, 0, 0, 0, 0, 0, 0, 0]"
      ]
     },
     "execution_count": 6,
     "metadata": {},
     "output_type": "execute_result"
    }
   ],
   "source": [
    "from collections import defaultdict\n",
    "strs = [\"eat\", \"tea\", \"tan\", \"ate\", \"nat\", \"bat\"]\n",
    "\n",
    "result=defaultdict(list)\n",
    "result[0]\n",
    "count = [0]*26\n",
    "count\n"
   ]
  },
  {
   "cell_type": "code",
   "execution_count": 22,
   "metadata": {},
   "outputs": [],
   "source": [
    "from typing import List\n",
    "\n",
    "def groupAnagrams(strs: List[str]) -> List[List[str]]:\n",
    "    map = defaultdict(list)\n",
    "\n",
    "    for word in strs:\n",
    "\n",
    "        count = [0]*26\n",
    "\n",
    "        #for each word store the char count anagrams will have same char count\n",
    "        for c in word:\n",
    "            count[ord(c)-ord('a')] += 1\n",
    "        \n",
    "        #if we don't use defaultdict then we need to check if the key exists if not then assign value else append\n",
    "        \n",
    "            \n",
    "        # if tuple(count) in map.keys():\n",
    "        #     map[tuple(count)].append(word)\n",
    "        # else:\n",
    "        #     map[tuple(count)]=[word]\n",
    "        \n",
    "        #append word to the same char count used as key. so anagrams are stored in the same key(char count)\n",
    "        map[tuple(count)].append(word)\n",
    "\n",
    "    return map.values()\n"
   ]
  },
  {
   "cell_type": "code",
   "execution_count": 23,
   "metadata": {},
   "outputs": [
    {
     "data": {
      "text/plain": [
       "dict_values([['eat', 'tea', 'ate'], ['tan', 'nat'], ['bat']])"
      ]
     },
     "execution_count": 23,
     "metadata": {},
     "output_type": "execute_result"
    }
   ],
   "source": [
    "strs = [\"eat\", \"tea\", \"tan\", \"ate\", \"nat\", \"bat\"]\n",
    "(groupAnagrams(strs))\n"
   ]
  }
 ],
 "metadata": {
  "kernelspec": {
   "display_name": "base",
   "language": "python",
   "name": "python3"
  },
  "language_info": {
   "codemirror_mode": {
    "name": "ipython",
    "version": 3
   },
   "file_extension": ".py",
   "mimetype": "text/x-python",
   "name": "python",
   "nbconvert_exporter": "python",
   "pygments_lexer": "ipython3",
   "version": "3.8.8 (default, Apr 13 2021, 15:08:03) [MSC v.1916 64 bit (AMD64)]"
  },
  "orig_nbformat": 4,
  "vscode": {
   "interpreter": {
    "hash": "ad2bdc8ecc057115af97d19610ffacc2b4e99fae6737bb82f5d7fb13d2f2c186"
   }
  }
 },
 "nbformat": 4,
 "nbformat_minor": 2
}
